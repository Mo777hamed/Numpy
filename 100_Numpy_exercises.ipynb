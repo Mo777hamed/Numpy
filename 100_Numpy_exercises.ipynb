{
  "cells": [
    {
      "cell_type": "markdown",
      "id": "3c1222ff",
      "metadata": {
        "id": "3c1222ff"
      },
      "source": [
        "#### 1. Import the numpy package under the name `np` (★☆☆)"
      ]
    },
    {
      "cell_type": "code",
      "execution_count": null,
      "id": "f52e6a0b",
      "metadata": {
        "id": "f52e6a0b"
      },
      "outputs": [],
      "source": [
        "import numpy as np"
      ]
    },
    {
      "cell_type": "markdown",
      "id": "9d9f4753",
      "metadata": {
        "id": "9d9f4753"
      },
      "source": [
        "#### 2. Print the numpy version and the configuration (★☆☆)"
      ]
    },
    {
      "cell_type": "code",
      "execution_count": null,
      "id": "b7fa5fa1",
      "metadata": {
        "id": "b7fa5fa1",
        "colab": {
          "base_uri": "https://localhost:8080/",
          "height": 35
        },
        "outputId": "19fd9f6f-6b4c-4210-a922-e33e2dfa783c"
      },
      "outputs": [
        {
          "output_type": "execute_result",
          "data": {
            "text/plain": [
              "'1.23.5'"
            ],
            "application/vnd.google.colaboratory.intrinsic+json": {
              "type": "string"
            }
          },
          "metadata": {},
          "execution_count": 2
        }
      ],
      "source": [
        "np.__version__"
      ]
    },
    {
      "cell_type": "markdown",
      "id": "3e4c23c6",
      "metadata": {
        "id": "3e4c23c6"
      },
      "source": [
        "#### 3. Create a null vector of size 10 (★☆☆)"
      ]
    },
    {
      "cell_type": "code",
      "execution_count": null,
      "id": "083c5c46",
      "metadata": {
        "id": "083c5c46",
        "colab": {
          "base_uri": "https://localhost:8080/"
        },
        "outputId": "d5752375-5476-43ca-b39a-2a12a8cec0d9"
      },
      "outputs": [
        {
          "output_type": "execute_result",
          "data": {
            "text/plain": [
              "array([4.72617436e-310, 0.00000000e+000, 0.00000000e+000, 0.00000000e+000,\n",
              "       6.90943049e-310, 1.91925903e-076, 2.14338723e+184, 5.49702361e-090,\n",
              "       1.50133995e-076, 6.90947542e-310])"
            ]
          },
          "metadata": {},
          "execution_count": 3
        }
      ],
      "source": [
        "np.empty(10)"
      ]
    },
    {
      "cell_type": "markdown",
      "id": "c38bbe82",
      "metadata": {
        "id": "c38bbe82"
      },
      "source": [
        "#### 4. How to find the memory size of any array (★☆☆)"
      ]
    },
    {
      "cell_type": "code",
      "execution_count": null,
      "id": "02b04021",
      "metadata": {
        "id": "02b04021",
        "colab": {
          "base_uri": "https://localhost:8080/"
        },
        "outputId": "b0a68448-8401-47c2-8120-eaed77f461be"
      },
      "outputs": [
        {
          "output_type": "execute_result",
          "data": {
            "text/plain": [
              "80"
            ]
          },
          "metadata": {},
          "execution_count": 4
        }
      ],
      "source": [
        "np.empty(10).size * np.empty(10).itemsize\n",
        "np.empty(10).nbytes"
      ]
    },
    {
      "cell_type": "markdown",
      "id": "67f893d4",
      "metadata": {
        "id": "67f893d4"
      },
      "source": [
        "#### 5. How to get the documentation of the numpy add function from the command line? (★☆☆)"
      ]
    },
    {
      "cell_type": "code",
      "execution_count": null,
      "id": "40e6b70d",
      "metadata": {
        "id": "40e6b70d"
      },
      "outputs": [],
      "source": [
        "np.add?"
      ]
    },
    {
      "cell_type": "markdown",
      "id": "e0c739c6",
      "metadata": {
        "id": "e0c739c6"
      },
      "source": [
        "#### 6. Create a null vector of size 10 but the fifth value which is 1 (★☆☆)"
      ]
    },
    {
      "cell_type": "code",
      "execution_count": null,
      "id": "bcceacf7",
      "metadata": {
        "id": "bcceacf7",
        "colab": {
          "base_uri": "https://localhost:8080/"
        },
        "outputId": "abc13cf3-ac1a-4074-b40c-add130ea30d9"
      },
      "outputs": [
        {
          "output_type": "execute_result",
          "data": {
            "text/plain": [
              "array([None, None, None, None, 1, None, None, None, None, None],\n",
              "      dtype=object)"
            ]
          },
          "metadata": {},
          "execution_count": 6
        }
      ],
      "source": [
        "arr = np.full(10 , fill_value = None)\n",
        "arr[4] = 1\n",
        "arr"
      ]
    },
    {
      "cell_type": "markdown",
      "id": "fbebedab",
      "metadata": {
        "id": "fbebedab"
      },
      "source": [
        "#### 7. Create a vector with values ranging from 10 to 49 (★☆☆)"
      ]
    },
    {
      "cell_type": "code",
      "execution_count": null,
      "id": "3d117d54",
      "metadata": {
        "id": "3d117d54",
        "colab": {
          "base_uri": "https://localhost:8080/"
        },
        "outputId": "ead790b6-8c0c-4247-afdc-bbd09417c758"
      },
      "outputs": [
        {
          "output_type": "execute_result",
          "data": {
            "text/plain": [
              "array([46, 20, 47, 44, 39, 10, 34, 25, 18, 25, 15, 34])"
            ]
          },
          "metadata": {},
          "execution_count": 7
        }
      ],
      "source": [
        "arr = np.random.randint(10,49,12)\n",
        "arr"
      ]
    },
    {
      "cell_type": "markdown",
      "id": "ad0bff02",
      "metadata": {
        "id": "ad0bff02"
      },
      "source": [
        "#### 8. Reverse a vector (first element becomes last) (★☆☆)"
      ]
    },
    {
      "cell_type": "code",
      "execution_count": null,
      "id": "22d23470",
      "metadata": {
        "id": "22d23470",
        "colab": {
          "base_uri": "https://localhost:8080/"
        },
        "outputId": "36a79d31-8da0-41dc-b5d8-0026d4e7072c"
      },
      "outputs": [
        {
          "output_type": "stream",
          "name": "stdout",
          "text": [
            "The original vector is [1 2 3 4 5 6 7 8]\n",
            "The reversed vector is [8 2 3 4 5 6 7 1]\n"
          ]
        }
      ],
      "source": [
        "arr = np.array([1,2,3,4,5,6,7,8])\n",
        "print(f\"The original vector is {arr}\")\n",
        "arr[0] , arr[-1] = arr[-1] , arr[0]\n",
        "print(f\"The reversed vector is {arr}\")"
      ]
    },
    {
      "cell_type": "markdown",
      "id": "9f59d7e1",
      "metadata": {
        "id": "9f59d7e1"
      },
      "source": [
        "#### 9. Create a 3x3 matrix with values ranging from 0 to 8 (★☆☆)"
      ]
    },
    {
      "cell_type": "code",
      "execution_count": null,
      "id": "7449e82d",
      "metadata": {
        "id": "7449e82d",
        "colab": {
          "base_uri": "https://localhost:8080/"
        },
        "outputId": "9c11dc4c-1c5e-4567-e9ce-85bd40628b77"
      },
      "outputs": [
        {
          "output_type": "execute_result",
          "data": {
            "text/plain": [
              "array([[3, 5, 4],\n",
              "       [0, 6, 4],\n",
              "       [6, 7, 0]])"
            ]
          },
          "metadata": {},
          "execution_count": 9
        }
      ],
      "source": [
        "arr = np.random.randint(0,8,9).reshape(3,3)\n",
        "arr"
      ]
    },
    {
      "cell_type": "markdown",
      "id": "f374c4cf",
      "metadata": {
        "id": "f374c4cf"
      },
      "source": [
        "#### 10. Find indices of non-zero elements from [1,2,0,0,4,0] (★☆☆)"
      ]
    },
    {
      "cell_type": "code",
      "execution_count": null,
      "id": "1a84bed8",
      "metadata": {
        "id": "1a84bed8",
        "colab": {
          "base_uri": "https://localhost:8080/"
        },
        "outputId": "41a6a0be-a771-49a0-e3df-694fd82db10a"
      },
      "outputs": [
        {
          "output_type": "execute_result",
          "data": {
            "text/plain": [
              "(array([2, 3, 5]),)"
            ]
          },
          "metadata": {},
          "execution_count": 10
        }
      ],
      "source": [
        "arr = np.array([1,2,0,0,4,0])\n",
        "np.where(arr == 0)\n",
        "#np.nonzero(np.array([1,2,0,0,4,0]))"
      ]
    },
    {
      "cell_type": "markdown",
      "id": "9c4707f5",
      "metadata": {
        "id": "9c4707f5"
      },
      "source": [
        "#### 11. Create a 3x3 identity matrix (★☆☆)"
      ]
    },
    {
      "cell_type": "code",
      "execution_count": null,
      "id": "29dc1fd3",
      "metadata": {
        "id": "29dc1fd3",
        "colab": {
          "base_uri": "https://localhost:8080/"
        },
        "outputId": "bdfde0b4-e75f-4ada-a654-15b9748e3d64"
      },
      "outputs": [
        {
          "output_type": "execute_result",
          "data": {
            "text/plain": [
              "array([[1., 0., 0.],\n",
              "       [0., 1., 0.],\n",
              "       [0., 0., 1.]])"
            ]
          },
          "metadata": {},
          "execution_count": 11
        }
      ],
      "source": [
        "np.eye(3)"
      ]
    },
    {
      "cell_type": "markdown",
      "id": "3bac294a",
      "metadata": {
        "id": "3bac294a"
      },
      "source": [
        "#### 12. Create a 3x3x3 array with random values (★☆☆)"
      ]
    },
    {
      "cell_type": "code",
      "execution_count": null,
      "id": "eadfae67",
      "metadata": {
        "id": "eadfae67",
        "colab": {
          "base_uri": "https://localhost:8080/"
        },
        "outputId": "7fcdf719-88d6-4967-9ce7-2c9b23dfa735"
      },
      "outputs": [
        {
          "output_type": "execute_result",
          "data": {
            "text/plain": [
              "array([[[17, 18,  5],\n",
              "        [23, 18, 16],\n",
              "        [15,  8,  7]],\n",
              "\n",
              "       [[25, 19, 21],\n",
              "        [19, 17, 10],\n",
              "        [ 7,  8, 20]],\n",
              "\n",
              "       [[20, 15, 19],\n",
              "        [23, 25, 24],\n",
              "        [22,  7, 13]]])"
            ]
          },
          "metadata": {},
          "execution_count": 12
        }
      ],
      "source": [
        "arr = np.random.randint(0,27,27).reshape(3,3,3)\n",
        "arr"
      ]
    },
    {
      "cell_type": "markdown",
      "id": "466c2989",
      "metadata": {
        "id": "466c2989"
      },
      "source": [
        "#### 13. Create a 10x10 array with random values and find the minimum and maximum values (★☆☆)"
      ]
    },
    {
      "cell_type": "code",
      "execution_count": null,
      "id": "9a74dbfc",
      "metadata": {
        "id": "9a74dbfc",
        "colab": {
          "base_uri": "https://localhost:8080/"
        },
        "outputId": "53e64228-2233-4f48-b210-fcadc49980df"
      },
      "outputs": [
        {
          "output_type": "stream",
          "name": "stdout",
          "text": [
            "The 10x10 array is [[ 94  99  73  47  11  23  55  17  48 105]\n",
            " [ 11 100  36  59  35  84  12 105  47  85]\n",
            " [ 49  85  77 105  61  71  17  63  69  62]\n",
            " [ 80 106  89  18  63  37  51  78  33 100]\n",
            " [ 79  11   4   6  80 103  28  12  72  74]\n",
            " [ 58 108  98   7   5  23  16  36   2 109]\n",
            " [ 20   4  37  89  11  61  10  23  24  42]\n",
            " [  7 107 110  66  76  81  86  74  50 107]\n",
            " [ 39  71  76  50  27  54  50  75  99  35]\n",
            " [ 71  19  93  12  52  72  39  12  58  70]]\n",
            "The minimum value of the array is 2\n",
            "The maximum value of the array is 110\n"
          ]
        }
      ],
      "source": [
        "arr = np.random.randint(0,111,100).reshape(10,10)\n",
        "print(f\"The 10x10 array is {arr}\")\n",
        "minimum = np.min(arr)\n",
        "maximum = np.max(arr)\n",
        "print(f\"The minimum value of the array is {minimum}\")\n",
        "print(f\"The maximum value of the array is {maximum}\")"
      ]
    },
    {
      "cell_type": "markdown",
      "id": "53a8edb2",
      "metadata": {
        "id": "53a8edb2"
      },
      "source": [
        "#### 14. Create a random vector of size 30 and find the mean value (★☆☆)"
      ]
    },
    {
      "cell_type": "code",
      "execution_count": null,
      "id": "6691530b",
      "metadata": {
        "id": "6691530b",
        "colab": {
          "base_uri": "https://localhost:8080/"
        },
        "outputId": "bb10753d-0e4c-47db-edb8-6328870e9773"
      },
      "outputs": [
        {
          "output_type": "stream",
          "name": "stdout",
          "text": [
            "The vector is [16 68 86 94 37 33  8 68 71 20 29 83 48 97 43 28 37 14 95 25  3 44 98 15\n",
            " 61 52 49 49  2 15]\n",
            "The mean value is 46.266666666666666\n"
          ]
        }
      ],
      "source": [
        "arr = np.random.randint(0,99,30)\n",
        "print(f\"The vector is {arr}\")\n",
        "mean = np.mean(arr)\n",
        "print(f\"The mean value is {mean}\")"
      ]
    },
    {
      "cell_type": "markdown",
      "id": "cbaad31c",
      "metadata": {
        "id": "cbaad31c"
      },
      "source": [
        "#### 15. Create a 2d array with 1 on the border and 0 inside (★☆☆)"
      ]
    },
    {
      "cell_type": "code",
      "execution_count": null,
      "id": "ad8308e3",
      "metadata": {
        "id": "ad8308e3",
        "colab": {
          "base_uri": "https://localhost:8080/"
        },
        "outputId": "3702d540-510f-4028-9e58-b70da7a6cb7f"
      },
      "outputs": [
        {
          "output_type": "stream",
          "name": "stdout",
          "text": [
            "[[1. 1. 1.]\n",
            " [1. 0. 1.]\n",
            " [1. 1. 1.]]\n"
          ]
        }
      ],
      "source": [
        "arr = np.zeros(9).reshape(3,3)\n",
        "\n",
        "arr[0:3 , 0] = 1\n",
        "arr[0:3 , 2] = 1\n",
        "arr[0:3:2 , 1:2] = 1\n",
        "\n",
        "print(arr)\n",
        "\n",
        "#a = np.ones((10,10))\n",
        "#a[1:-1,1:-1]=0\n",
        "#a"
      ]
    },
    {
      "cell_type": "markdown",
      "id": "c5ecc267",
      "metadata": {
        "id": "c5ecc267"
      },
      "source": [
        "#### 16. How to add a border (filled with 0's) around an existing array? (★☆☆)"
      ]
    },
    {
      "cell_type": "code",
      "execution_count": null,
      "id": "9d5c78c4",
      "metadata": {
        "id": "9d5c78c4",
        "colab": {
          "base_uri": "https://localhost:8080/"
        },
        "outputId": "753c852f-571f-4cd0-8631-0aa1e65da1f8"
      },
      "outputs": [
        {
          "output_type": "execute_result",
          "data": {
            "text/plain": [
              "array([[0., 0., 0., 0., 0., 0., 0.],\n",
              "       [0., 1., 1., 1., 1., 1., 0.],\n",
              "       [0., 1., 1., 1., 1., 1., 0.],\n",
              "       [0., 1., 1., 1., 1., 1., 0.],\n",
              "       [0., 1., 1., 1., 1., 1., 0.],\n",
              "       [0., 1., 1., 1., 1., 1., 0.],\n",
              "       [0., 0., 0., 0., 0., 0., 0.]])"
            ]
          },
          "metadata": {},
          "execution_count": 16
        }
      ],
      "source": [
        "arr = np.ones(25).reshape(5,5)\n",
        "arr = np.pad(arr,1)\n",
        "arr\n",
        "\n",
        "#a = np.ones((5,5))\n",
        "#a = np.pad(a,2)\n",
        "#a"
      ]
    },
    {
      "cell_type": "markdown",
      "id": "ef909b72",
      "metadata": {
        "id": "ef909b72"
      },
      "source": [
        "#### 17. What is the result of the following expression? (★☆☆)\n",
        "```python\n",
        "0 * np.nan\n",
        "np.nan == np.nan\n",
        "np.inf > np.nan\n",
        "np.nan - np.nan\n",
        "np.nan in set([np.nan])\n",
        "0.3 == 3 * 0.1\n",
        "```"
      ]
    },
    {
      "cell_type": "code",
      "execution_count": null,
      "id": "3b4985f2",
      "metadata": {
        "id": "3b4985f2",
        "colab": {
          "base_uri": "https://localhost:8080/"
        },
        "outputId": "29067d98-22a3-4d66-c5e3-f42e9fdd1631"
      },
      "outputs": [
        {
          "output_type": "stream",
          "name": "stdout",
          "text": [
            "nan\n",
            "False\n",
            "False\n",
            "nan\n",
            "True\n",
            "False\n"
          ]
        }
      ],
      "source": [
        "print(0 * np.nan)   # 0\n",
        "print(np.nan == np.nan) # True\n",
        "print(np.inf > np.nan)  # True\n",
        "print(np.nan - np.nan)  # 0\n",
        "print(np.nan in set([np.nan]))  # True\n",
        "print(0.3 == 3 * 0.1) # True"
      ]
    },
    {
      "cell_type": "markdown",
      "id": "502738ac",
      "metadata": {
        "id": "502738ac"
      },
      "source": [
        "#### 18. Create a 5x5 matrix with values 1,2,3,4 just below the diagonal (★☆☆)"
      ]
    },
    {
      "cell_type": "code",
      "execution_count": null,
      "id": "faed6e2b",
      "metadata": {
        "id": "faed6e2b",
        "colab": {
          "base_uri": "https://localhost:8080/"
        },
        "outputId": "0f3f714a-7f0d-40c1-85c2-bc2451fc2703"
      },
      "outputs": [
        {
          "output_type": "execute_result",
          "data": {
            "text/plain": [
              "array([[1, 0, 0, 0],\n",
              "       [0, 2, 0, 0],\n",
              "       [0, 0, 3, 0],\n",
              "       [0, 0, 0, 4]])"
            ]
          },
          "metadata": {},
          "execution_count": 18
        }
      ],
      "source": [
        "arr = np.random.randint(0,25,25).reshape(5,5)\n",
        "arr = np.diag(np.arange(1,5))\n",
        "arr"
      ]
    },
    {
      "cell_type": "markdown",
      "id": "a65da660",
      "metadata": {
        "id": "a65da660"
      },
      "source": [
        "#### 19. Create a 8x8 matrix and fill it with a checkerboard pattern (★☆☆)"
      ]
    },
    {
      "cell_type": "code",
      "execution_count": null,
      "id": "ed150400",
      "metadata": {
        "id": "ed150400",
        "colab": {
          "base_uri": "https://localhost:8080/"
        },
        "outputId": "d2ab4001-953b-4b03-a986-7a839e50b547"
      },
      "outputs": [
        {
          "output_type": "execute_result",
          "data": {
            "text/plain": [
              "array([[1., 0., 1., 0., 1., 0., 1., 0.],\n",
              "       [0., 1., 0., 1., 0., 1., 0., 1.],\n",
              "       [1., 0., 1., 0., 1., 0., 1., 0.],\n",
              "       [0., 1., 0., 1., 0., 1., 0., 1.],\n",
              "       [1., 0., 1., 0., 1., 0., 1., 0.],\n",
              "       [0., 1., 0., 1., 0., 1., 0., 1.],\n",
              "       [1., 0., 1., 0., 1., 0., 1., 0.],\n",
              "       [0., 1., 0., 1., 0., 1., 0., 1.]])"
            ]
          },
          "metadata": {},
          "execution_count": 19
        }
      ],
      "source": [
        "arr = np.zeros((8,8))\n",
        "arr[::2 , ::2 ] = 1\n",
        "arr[1::2 , 1::2] = 1\n",
        "arr"
      ]
    },
    {
      "cell_type": "markdown",
      "id": "9f7f9c49",
      "metadata": {
        "id": "9f7f9c49"
      },
      "source": [
        "#### 20. Consider a (6,7,8) shape array, what is the index (x,y,z) of the 100th element? (★☆☆)"
      ]
    },
    {
      "cell_type": "code",
      "execution_count": null,
      "id": "3782b5a9",
      "metadata": {
        "id": "3782b5a9",
        "colab": {
          "base_uri": "https://localhost:8080/"
        },
        "outputId": "1297a08e-9247-4ea8-b5df-41b5a39e3b50"
      },
      "outputs": [
        {
          "output_type": "stream",
          "name": "stdout",
          "text": [
            "(1, 5, 3)\n"
          ]
        }
      ],
      "source": [
        "print(np.unravel_index(99,(6,7,8)))"
      ]
    },
    {
      "cell_type": "markdown",
      "id": "66bfda35",
      "metadata": {
        "id": "66bfda35"
      },
      "source": [
        "#### 21. Create a checkerboard 8x8 matrix using the tile function (★☆☆)"
      ]
    },
    {
      "cell_type": "code",
      "execution_count": null,
      "id": "4c07477c",
      "metadata": {
        "id": "4c07477c"
      },
      "outputs": [],
      "source": [
        "np.tile?"
      ]
    },
    {
      "cell_type": "code",
      "source": [
        "arr = np.array([[0,1],[1,0]])\n",
        "checkboard = np.tile(arr,(4,4))\n",
        "print(checkboard)"
      ],
      "metadata": {
        "colab": {
          "base_uri": "https://localhost:8080/"
        },
        "id": "SkJMsImHH6VL",
        "outputId": "8a28368f-dcb7-406c-8a0a-eb488a2ad8de"
      },
      "id": "SkJMsImHH6VL",
      "execution_count": null,
      "outputs": [
        {
          "output_type": "stream",
          "name": "stdout",
          "text": [
            "[[0 1 0 1 0 1 0 1]\n",
            " [1 0 1 0 1 0 1 0]\n",
            " [0 1 0 1 0 1 0 1]\n",
            " [1 0 1 0 1 0 1 0]\n",
            " [0 1 0 1 0 1 0 1]\n",
            " [1 0 1 0 1 0 1 0]\n",
            " [0 1 0 1 0 1 0 1]\n",
            " [1 0 1 0 1 0 1 0]]\n"
          ]
        }
      ]
    },
    {
      "cell_type": "markdown",
      "id": "d5bcfc08",
      "metadata": {
        "id": "d5bcfc08"
      },
      "source": [
        "#### 22. Normalize a 5x5 random matrix (★☆☆)"
      ]
    },
    {
      "cell_type": "code",
      "execution_count": null,
      "id": "cea6c993",
      "metadata": {
        "id": "cea6c993",
        "colab": {
          "base_uri": "https://localhost:8080/"
        },
        "outputId": "ea902f8d-a0a5-45b8-d423-7637d65fa4fb"
      },
      "outputs": [
        {
          "output_type": "stream",
          "name": "stdout",
          "text": [
            "The original array is [[0.11007827 0.34463414 0.45268555 0.40607711 0.24283254]\n",
            " [0.49905148 0.39968847 0.71148853 0.01325341 0.90723217]\n",
            " [0.98716175 0.09793216 0.94329314 0.64242383 0.57372093]\n",
            " [0.98626091 0.22456715 0.46277077 0.24287479 0.07969716]\n",
            " [0.42092106 0.53146524 0.36773272 0.72774085 0.32269345]]\n",
            "The normalization factor is 1.6665400470736038\n"
          ]
        }
      ],
      "source": [
        "arr = np.random.rand(5,5)\n",
        "mean = np.mean(arr)\n",
        "standard_deviation = np.std(arr)\n",
        "Z = mean / standard_deviation\n",
        "\n",
        "print(f\"The original array is {arr}\")\n",
        "print(f\"The normalization factor is {Z}\")\n"
      ]
    },
    {
      "cell_type": "markdown",
      "id": "f9a0911e",
      "metadata": {
        "id": "f9a0911e"
      },
      "source": [
        "#### 23. Create a custom dtype that describes a color as four unsigned bytes (RGBA) (★☆☆)"
      ]
    },
    {
      "cell_type": "code",
      "execution_count": null,
      "id": "d165044b",
      "metadata": {
        "id": "d165044b",
        "colab": {
          "base_uri": "https://localhost:8080/"
        },
        "outputId": "3a846085-d90a-4a5e-b556-cfdc48680ea3"
      },
      "outputs": [
        {
          "output_type": "stream",
          "name": "stderr",
          "text": [
            "<ipython-input-24-4daa7c2f2b60>:1: FutureWarning: Passing (type, 1) or '1type' as a synonym of type is deprecated; in a future version of numpy, it will be understood as (type, (1,)) / '(1,)type'.\n",
            "  color = np.dtype([(\"r\", np.ubyte, 1),\n"
          ]
        },
        {
          "output_type": "execute_result",
          "data": {
            "text/plain": [
              "dtype([('r', 'u1'), ('g', 'u1'), ('b', 'u1'), ('a', 'u1')])"
            ]
          },
          "metadata": {},
          "execution_count": 24
        }
      ],
      "source": [
        "color = np.dtype([(\"r\", np.ubyte, 1),\n",
        "                  (\"g\", np.ubyte, 1),\n",
        "                  (\"b\", np.ubyte, 1),\n",
        "                  (\"a\", np.ubyte, 1)])\n",
        "color"
      ]
    },
    {
      "cell_type": "markdown",
      "id": "654805b1",
      "metadata": {
        "id": "654805b1"
      },
      "source": [
        "#### 24. Multiply a 5x3 matrix by a 3x2 matrix (real matrix product) (★☆☆)"
      ]
    },
    {
      "cell_type": "code",
      "execution_count": null,
      "id": "6a42619f",
      "metadata": {
        "id": "6a42619f",
        "colab": {
          "base_uri": "https://localhost:8080/"
        },
        "outputId": "cf2472a4-f34b-4579-b77e-3c2013e149c9"
      },
      "outputs": [
        {
          "output_type": "stream",
          "name": "stdout",
          "text": [
            "[[0.68694516 0.61885422]\n",
            " [0.73251442 0.60704388]\n",
            " [0.28775627 0.21791644]\n",
            " [0.50357093 0.34754124]\n",
            " [0.80284046 0.78101336]]\n"
          ]
        }
      ],
      "source": [
        "matrix1 = np.random.rand(5,3)\n",
        "matrix2 = np.random.rand(3,2)\n",
        "\n",
        "print(np.dot(matrix1,matrix2))"
      ]
    },
    {
      "cell_type": "markdown",
      "id": "994c25df",
      "metadata": {
        "id": "994c25df"
      },
      "source": [
        "#### 25. Given a 1D array, negate all elements which are between 3 and 8, in place. (★☆☆)"
      ]
    },
    {
      "cell_type": "code",
      "execution_count": null,
      "id": "e4b39c03",
      "metadata": {
        "id": "e4b39c03",
        "colab": {
          "base_uri": "https://localhost:8080/"
        },
        "outputId": "f078f7ee-22ce-4f9a-cf16-bb19ca153893"
      },
      "outputs": [
        {
          "output_type": "execute_result",
          "data": {
            "text/plain": [
              "array([ 0,  1,  2,  3, -4, -5, -6, -7,  8,  9, 10])"
            ]
          },
          "metadata": {},
          "execution_count": 26
        }
      ],
      "source": [
        "arr = np.arange(11)\n",
        "arr[4:8] *= -1\n",
        "arr"
      ]
    },
    {
      "cell_type": "markdown",
      "id": "b7d15d1a",
      "metadata": {
        "id": "b7d15d1a"
      },
      "source": [
        "#### 26. What is the output of the following script? (★☆☆)\n",
        "```python\n",
        "# Author: Jake VanderPlas\n",
        "\n",
        "print(sum(range(5),-1))\n",
        "from numpy import *\n",
        "print(sum(range(5),-1))\n",
        "```"
      ]
    },
    {
      "cell_type": "code",
      "source": [
        "S = sum(range(5))\n",
        "print(S)\n",
        "print(\"First line without importing NumPy --> \",S-1)\n",
        "print()\n",
        "print(\"Second line with NumPy --> \",sum(range(5),-1))"
      ],
      "metadata": {
        "colab": {
          "base_uri": "https://localhost:8080/"
        },
        "id": "saZHOKXxQrhm",
        "outputId": "97b76699-506d-4f4e-aa4c-967f86fbe9de"
      },
      "id": "saZHOKXxQrhm",
      "execution_count": null,
      "outputs": [
        {
          "output_type": "stream",
          "name": "stdout",
          "text": [
            "10\n",
            "First line without importing NumPy -->  9\n",
            "\n",
            "Second line with NumPy -->  9\n"
          ]
        }
      ]
    },
    {
      "cell_type": "markdown",
      "id": "a34f0d08",
      "metadata": {
        "id": "a34f0d08"
      },
      "source": [
        "#### 27. Consider an integer vector Z, which of these expressions are legal? (★☆☆)\n",
        "```python\n",
        "Z**Z\n",
        "2 << Z >> 2\n",
        "Z <- Z\n",
        "1j*Z\n",
        "Z/1/1\n",
        "Z<Z>Z\n",
        "```"
      ]
    },
    {
      "cell_type": "code",
      "execution_count": null,
      "id": "564658fc",
      "metadata": {
        "id": "564658fc",
        "colab": {
          "base_uri": "https://localhost:8080/"
        },
        "outputId": "66bab1f1-753f-4024-ee19-a0f6b51ecb07"
      },
      "outputs": [
        {
          "output_type": "stream",
          "name": "stdout",
          "text": [
            "[  1   1   4  27 256]\n",
            "False\n",
            "1.6665400470736038j\n",
            "1.6665400470736038\n",
            "False\n"
          ]
        },
        {
          "output_type": "execute_result",
          "data": {
            "text/plain": [
              "array([0, 1, 2, 3, 4])"
            ]
          },
          "metadata": {},
          "execution_count": 33
        }
      ],
      "source": [
        "z = np.array([0,1,2,3,4])\n",
        "print(z**z) ### ---> Legal\n",
        "#print(2 << Z >> 2) ### ---> Not Legal\n",
        "print(Z <- Z) ### ---> Legal\n",
        "print(1j*Z) ### ---> Legal\n",
        "print(Z/1/1) ### ---> Legal\n",
        "print(Z<Z>Z) ### ---> Legal\n",
        "z"
      ]
    },
    {
      "cell_type": "markdown",
      "id": "c34e94bf",
      "metadata": {
        "id": "c34e94bf"
      },
      "source": [
        "#### 28. What are the result of the following expressions? (★☆☆)\n",
        "```python\n",
        "np.array(0) / np.array(0)\n",
        "np.array(0) // np.array(0)\n",
        "np.array([np.nan]).astype(int).astype(float)\n",
        "```"
      ]
    },
    {
      "cell_type": "code",
      "execution_count": null,
      "id": "56663562",
      "metadata": {
        "id": "56663562",
        "colab": {
          "base_uri": "https://localhost:8080/"
        },
        "outputId": "038c92aa-d947-4ae1-a22e-a9700a92c39f"
      },
      "outputs": [
        {
          "output_type": "stream",
          "name": "stderr",
          "text": [
            "<ipython-input-34-7476619d8204>:1: RuntimeWarning: invalid value encountered in divide\n",
            "  np.array(0) / np.array(0) # ---> nan\n",
            "<ipython-input-34-7476619d8204>:2: RuntimeWarning: divide by zero encountered in floor_divide\n",
            "  np.array(0) // np.array(0) # ---> 0\n"
          ]
        },
        {
          "output_type": "execute_result",
          "data": {
            "text/plain": [
              "array([-9.22337204e+18])"
            ]
          },
          "metadata": {},
          "execution_count": 34
        }
      ],
      "source": [
        "np.array(0) / np.array(0) # ---> nan\n",
        "np.array(0) // np.array(0) # ---> 0\n",
        "np.array([np.nan]).astype(int).astype(float) # ---> nan"
      ]
    },
    {
      "cell_type": "markdown",
      "id": "546f5e7b",
      "metadata": {
        "id": "546f5e7b"
      },
      "source": [
        "#### 29. How to round away from zero a float array ? (★☆☆)"
      ]
    },
    {
      "cell_type": "code",
      "execution_count": null,
      "id": "f725a6d2",
      "metadata": {
        "id": "f725a6d2",
        "colab": {
          "base_uri": "https://localhost:8080/"
        },
        "outputId": "8ec4afbd-0088-4716-b403-88233b048fc1"
      },
      "outputs": [
        {
          "output_type": "stream",
          "name": "stdout",
          "text": [
            "[-5.  3.  5. -3.  1. -2.  7. -1.  9. -4.]\n"
          ]
        }
      ],
      "source": [
        "arr = np.random.uniform(-10,+10,10)\n",
        "print (np.copysign(np.ceil(np.abs(arr)), arr))"
      ]
    },
    {
      "cell_type": "markdown",
      "id": "eadca856",
      "metadata": {
        "id": "eadca856"
      },
      "source": [
        "#### 30. How to find common values between two arrays? (★☆☆)"
      ]
    },
    {
      "cell_type": "code",
      "execution_count": null,
      "id": "e0270b5b",
      "metadata": {
        "id": "e0270b5b",
        "colab": {
          "base_uri": "https://localhost:8080/"
        },
        "outputId": "a87e7a37-74d6-4646-8b8d-43ad94308edc"
      },
      "outputs": [
        {
          "output_type": "stream",
          "name": "stdout",
          "text": [
            "[ 1  3  5  7 11]\n"
          ]
        }
      ],
      "source": [
        "matrix1 = np.array([1,2,3,5,7,11])\n",
        "matrix2 = np.array([1,3,5,7,8,11])\n",
        "\n",
        "print(np.intersect1d(matrix1,matrix2))"
      ]
    },
    {
      "cell_type": "markdown",
      "id": "ca16ca22",
      "metadata": {
        "id": "ca16ca22"
      },
      "source": [
        "#### 31. How to ignore all numpy warnings (not recommended)? (★☆☆)"
      ]
    },
    {
      "cell_type": "code",
      "execution_count": null,
      "id": "7d7208ef",
      "metadata": {
        "id": "7d7208ef",
        "colab": {
          "base_uri": "https://localhost:8080/"
        },
        "outputId": "4e747e35-86f2-4f77-ae00-5e6d1ddc1ff2"
      },
      "outputs": [
        {
          "output_type": "stream",
          "name": "stderr",
          "text": [
            "/usr/local/lib/python3.10/dist-packages/numpy/lib/nanfunctions.py:1217: RuntimeWarning: All-NaN slice encountered\n",
            "  r, k = function_base._ureduce(a, func=_nanmedian, axis=axis, out=out,\n"
          ]
        },
        {
          "output_type": "execute_result",
          "data": {
            "text/plain": [
              "array([nan, nan, nan, nan, nan, nan, nan, nan, nan, nan])"
            ]
          },
          "metadata": {},
          "execution_count": 38
        }
      ],
      "source": [
        "##import warnings\n",
        "##warnings.filterwarnings('ignore')\n",
        "\n",
        "data = np.random.random(1000).reshape(10, 10,10) * np.nan\n",
        "np.seterr(all=\"ignore\")\n",
        "np.nanmedian(data, axis=[1, 2])"
      ]
    },
    {
      "cell_type": "markdown",
      "id": "c7871d0d",
      "metadata": {
        "id": "c7871d0d"
      },
      "source": [
        "#### 32. Is the following expressions true? (★☆☆)\n",
        "```python\n",
        "np.sqrt(-1) == np.emath.sqrt(-1)\n",
        "```"
      ]
    },
    {
      "cell_type": "code",
      "execution_count": null,
      "id": "acc3701a",
      "metadata": {
        "id": "acc3701a",
        "colab": {
          "base_uri": "https://localhost:8080/"
        },
        "outputId": "ddc2b47a-a9ca-4b59-c03b-b2a3ce3b8929"
      },
      "outputs": [
        {
          "output_type": "stream",
          "name": "stdout",
          "text": [
            "nan\n",
            "1j\n",
            "False\n"
          ]
        }
      ],
      "source": [
        "print(np.sqrt(-1))\n",
        "print(np.emath.sqrt(-1))\n",
        "print(np.sqrt(-1) == np.emath.sqrt(-1))"
      ]
    },
    {
      "cell_type": "markdown",
      "id": "e0433e30",
      "metadata": {
        "id": "e0433e30"
      },
      "source": [
        "#### 33. How to get the dates of yesterday, today and tomorrow? (★☆☆)"
      ]
    },
    {
      "cell_type": "code",
      "execution_count": null,
      "id": "9c4d2152",
      "metadata": {
        "id": "9c4d2152"
      },
      "outputs": [],
      "source": [
        "np.datetime_data?\n",
        "np.datetime64?"
      ]
    },
    {
      "cell_type": "code",
      "source": [
        "yesterday = np.datetime64('today' , 'D') - np.timedelta64(1 , 'D')\n",
        "today = np.datetime64('today' , 'D')\n",
        "tomorrow = np.datetime64('today' , 'D') + np.timedelta64(1 , 'D')\n",
        "\n",
        "print(f\"Yesterday date is {yesterday}\")\n",
        "print(f\"Today date is {today}\")\n",
        "print(f\"Tomorrow date is {tomorrow}\")"
      ],
      "metadata": {
        "colab": {
          "base_uri": "https://localhost:8080/"
        },
        "id": "41brYsw9bn2k",
        "outputId": "59ef24fb-42cb-4687-b9e5-7c4071f81999"
      },
      "id": "41brYsw9bn2k",
      "execution_count": null,
      "outputs": [
        {
          "output_type": "stream",
          "name": "stdout",
          "text": [
            "Yesterday date is 2023-10-05\n",
            "Today date is 2023-10-06\n",
            "Tomorrow date is 2023-10-07\n"
          ]
        }
      ]
    },
    {
      "cell_type": "markdown",
      "id": "9f52a2ef",
      "metadata": {
        "id": "9f52a2ef"
      },
      "source": [
        "#### 34. How to get all the dates corresponding to the month of July 2016? (★★☆)"
      ]
    },
    {
      "cell_type": "code",
      "execution_count": null,
      "id": "d6c34dec",
      "metadata": {
        "id": "d6c34dec",
        "colab": {
          "base_uri": "https://localhost:8080/"
        },
        "outputId": "2b0517e3-6458-49c0-e484-821c187590c1"
      },
      "outputs": [
        {
          "output_type": "execute_result",
          "data": {
            "text/plain": [
              "array(['2016-07-01', '2016-07-02', '2016-07-03', '2016-07-04',\n",
              "       '2016-07-05', '2016-07-06', '2016-07-07', '2016-07-08',\n",
              "       '2016-07-09', '2016-07-10', '2016-07-11', '2016-07-12',\n",
              "       '2016-07-13', '2016-07-14', '2016-07-15', '2016-07-16',\n",
              "       '2016-07-17', '2016-07-18', '2016-07-19', '2016-07-20',\n",
              "       '2016-07-21', '2016-07-22', '2016-07-23', '2016-07-24',\n",
              "       '2016-07-25', '2016-07-26', '2016-07-27', '2016-07-28',\n",
              "       '2016-07-29', '2016-07-30', '2016-07-31'], dtype='datetime64[D]')"
            ]
          },
          "metadata": {},
          "execution_count": 42
        }
      ],
      "source": [
        "Dates = np.arange('2016-07', '2016-08', dtype='datetime64[D]')\n",
        "Dates"
      ]
    },
    {
      "cell_type": "markdown",
      "id": "4a64e059",
      "metadata": {
        "id": "4a64e059"
      },
      "source": [
        "#### 35. How to compute ((A+B)*(-A/2)) in place (without copy)? (★★☆)"
      ]
    },
    {
      "cell_type": "code",
      "execution_count": null,
      "id": "49267f60",
      "metadata": {
        "id": "49267f60"
      },
      "outputs": [],
      "source": [
        "np.add?"
      ]
    },
    {
      "cell_type": "code",
      "source": [
        "A = np.ones(3)*1\n",
        "B = np.ones(3)*2\n",
        "np.add(A,B,out=B) # (A+B) stored in B\n",
        "np.divide(A,2,out=A) # (A/2) stored in A\n",
        "np.negative(A,out=A) # (A*-1) stored in A\n",
        "np.multiply(A,B,out=A) # B[A+B] * A[[A+B],[(A*-1)]] ---> computed in place"
      ],
      "metadata": {
        "colab": {
          "base_uri": "https://localhost:8080/"
        },
        "id": "lqupJwiQkSx8",
        "outputId": "5a4b9af0-468f-451f-d64f-22711115017f"
      },
      "id": "lqupJwiQkSx8",
      "execution_count": null,
      "outputs": [
        {
          "output_type": "execute_result",
          "data": {
            "text/plain": [
              "array([-1.5, -1.5, -1.5])"
            ]
          },
          "metadata": {},
          "execution_count": 45
        }
      ]
    },
    {
      "cell_type": "markdown",
      "id": "8a98c2a8",
      "metadata": {
        "id": "8a98c2a8"
      },
      "source": [
        "#### 36. Extract the integer part of a random array of positive numbers using 4 different methods (★★☆)"
      ]
    },
    {
      "cell_type": "code",
      "execution_count": null,
      "id": "368130b3",
      "metadata": {
        "id": "368130b3",
        "colab": {
          "base_uri": "https://localhost:8080/"
        },
        "outputId": "8f3ef3f6-0f24-4666-f783-1d0108f80f77"
      },
      "outputs": [
        {
          "output_type": "stream",
          "name": "stdout",
          "text": [
            "Original array is [ 3.40362822  6.32065137  9.37672591  3.26769994  7.7895469   7.06394593\n",
            "  5.21991393  9.09684587 10.40072271  9.49169693]\n",
            "\n",
            "floor method: [ 3.  6.  9.  3.  7.  7.  5.  9. 10.  9.]\n",
            "\n",
            "round method: [ 3.  6.  9.  3.  8.  7.  5.  9. 10.  9.]\n",
            "\n",
            "astype method: [ 3  6  9  3  7  7  5  9 10  9]\n",
            "\n",
            "ceil method: [ 4.  7. 10.  4.  8.  8.  6. 10. 11. 10.]\n"
          ]
        }
      ],
      "source": [
        "arr = np.random.uniform(3,11,10)\n",
        "\n",
        "print(f\"Original array is {arr}\")\n",
        "print()\n",
        "print(f\"floor method: {np.floor(arr)}\")\n",
        "print()\n",
        "print(f\"round method: {np.round(arr)}\")\n",
        "print()\n",
        "print(f\"astype method: {arr.astype(int)}\")\n",
        "print()\n",
        "print(f\"ceil method: {np.ceil(arr)}\")"
      ]
    },
    {
      "cell_type": "markdown",
      "id": "5a2e3d85",
      "metadata": {
        "id": "5a2e3d85"
      },
      "source": [
        "#### 37. Create a 5x5 matrix with row values ranging from 0 to 4 (★★☆)"
      ]
    },
    {
      "cell_type": "code",
      "execution_count": null,
      "id": "1d974e8f",
      "metadata": {
        "id": "1d974e8f",
        "colab": {
          "base_uri": "https://localhost:8080/"
        },
        "outputId": "22b405ec-24fa-4ae0-bb88-116aa89e2312"
      },
      "outputs": [
        {
          "output_type": "execute_result",
          "data": {
            "text/plain": [
              "array([[0., 1., 2., 3., 4.],\n",
              "       [0., 1., 2., 3., 4.],\n",
              "       [0., 1., 2., 3., 4.],\n",
              "       [0., 1., 2., 3., 4.],\n",
              "       [0., 1., 2., 3., 4.]])"
            ]
          },
          "metadata": {},
          "execution_count": 47
        }
      ],
      "source": [
        "arr = np.zeros((5,5))\n",
        "arr[0:,1] = 1\n",
        "arr[0:,2] = 2\n",
        "arr[0:,3] = 3\n",
        "arr[0:,4] = 4\n",
        "arr"
      ]
    },
    {
      "cell_type": "markdown",
      "id": "9720e2d5",
      "metadata": {
        "id": "9720e2d5"
      },
      "source": [
        "#### 38. Consider a generator function that generates 10 integers and use it to build an array (★☆☆)"
      ]
    },
    {
      "cell_type": "code",
      "execution_count": null,
      "id": "e5dd8fc9",
      "metadata": {
        "id": "e5dd8fc9",
        "colab": {
          "base_uri": "https://localhost:8080/"
        },
        "outputId": "62a22dc0-676b-4753-c1cd-0d1433bb3940"
      },
      "outputs": [
        {
          "output_type": "execute_result",
          "data": {
            "text/plain": [
              "array([[0., 1., 2., 3., 4., 5., 6., 7., 8., 9.]])"
            ]
          },
          "metadata": {},
          "execution_count": 48
        }
      ],
      "source": [
        "from numpy.core.multiarray import nditer\n",
        "def generator():\n",
        "  arr = np.array([])\n",
        "  for x in range(10):\n",
        "    arr = np.append(arr,x)\n",
        "  return arr\n",
        "\n",
        "matrix = np.array([generator()])\n",
        "matrix"
      ]
    },
    {
      "cell_type": "markdown",
      "id": "c6f2c912",
      "metadata": {
        "id": "c6f2c912"
      },
      "source": [
        "#### 39. Create a vector of size 10 with values ranging from 0 to 1, both excluded (★★☆)"
      ]
    },
    {
      "cell_type": "code",
      "execution_count": null,
      "id": "6aaa27d3",
      "metadata": {
        "id": "6aaa27d3",
        "colab": {
          "base_uri": "https://localhost:8080/"
        },
        "outputId": "055cf7f2-91cd-4253-81f6-11cd0ad421d0"
      },
      "outputs": [
        {
          "output_type": "execute_result",
          "data": {
            "text/plain": [
              "array([0.        , 0.11111111, 0.22222222, 0.33333333, 0.44444444,\n",
              "       0.55555556, 0.66666667, 0.77777778, 0.88888889, 1.        ])"
            ]
          },
          "metadata": {},
          "execution_count": 49
        }
      ],
      "source": [
        "arr = np.linspace(0,1,10)\n",
        "arr"
      ]
    },
    {
      "cell_type": "markdown",
      "id": "a36d6ee4",
      "metadata": {
        "id": "a36d6ee4"
      },
      "source": [
        "#### 40. Create a random vector of size 10 and sort it (★★☆)"
      ]
    },
    {
      "cell_type": "code",
      "execution_count": null,
      "id": "e589d216",
      "metadata": {
        "id": "e589d216",
        "colab": {
          "base_uri": "https://localhost:8080/"
        },
        "outputId": "38210e10-d746-47bf-84d4-0556ac2e403f"
      },
      "outputs": [
        {
          "output_type": "stream",
          "name": "stdout",
          "text": [
            "Original array is [0.35291127 0.26527144 0.47603146 0.31027519 0.68840008 0.41063651\n",
            " 0.35763027 0.2376268  0.20453581 0.3001309 ]\n",
            "\n",
            "\n",
            "The sorted array is [0.20453581 0.2376268  0.26527144 0.3001309  0.31027519 0.35291127\n",
            " 0.35763027 0.41063651 0.47603146 0.68840008]\n"
          ]
        }
      ],
      "source": [
        "arr = np.random.rand(10)\n",
        "print(f\"Original array is {arr}\")\n",
        "print()\n",
        "arr.sort()\n",
        "print()\n",
        "print(f\"The sorted array is {arr}\")"
      ]
    },
    {
      "cell_type": "markdown",
      "id": "0fb4ad68",
      "metadata": {
        "id": "0fb4ad68"
      },
      "source": [
        "#### 41. How to sum a small array faster than np.sum? (★★☆)"
      ]
    },
    {
      "cell_type": "code",
      "execution_count": null,
      "id": "a1ba05a0",
      "metadata": {
        "id": "a1ba05a0",
        "colab": {
          "base_uri": "https://localhost:8080/"
        },
        "outputId": "ef651236-c475-40e1-8424-07e7ddaea7f5"
      },
      "outputs": [
        {
          "output_type": "execute_result",
          "data": {
            "text/plain": [
              "10"
            ]
          },
          "metadata": {},
          "execution_count": 51
        }
      ],
      "source": [
        "arr = np.array([1,2,3,4])\n",
        "sum = np.add.reduce(arr)\n",
        "sum"
      ]
    },
    {
      "cell_type": "markdown",
      "id": "024ac365",
      "metadata": {
        "id": "024ac365"
      },
      "source": [
        "#### 42. Consider two random array A and B, check if they are equal (★★☆)"
      ]
    },
    {
      "cell_type": "code",
      "execution_count": null,
      "id": "7db3846d",
      "metadata": {
        "id": "7db3846d",
        "colab": {
          "base_uri": "https://localhost:8080/"
        },
        "outputId": "05d18c9b-b252-4f71-9d93-35e82c7d30dc"
      },
      "outputs": [
        {
          "output_type": "stream",
          "name": "stdout",
          "text": [
            "False\n"
          ]
        }
      ],
      "source": [
        "A = np.random.rand(10)\n",
        "B = np.random.rand(10)\n",
        "print(np.array_equal(A,B))"
      ]
    },
    {
      "cell_type": "markdown",
      "id": "c68d2401",
      "metadata": {
        "id": "c68d2401"
      },
      "source": [
        "#### 43. Make an array immutable (read-only) (★★☆)"
      ]
    },
    {
      "cell_type": "code",
      "execution_count": null,
      "id": "7828539d",
      "metadata": {
        "id": "7828539d",
        "colab": {
          "base_uri": "https://localhost:8080/",
          "height": 246
        },
        "outputId": "863298a2-2f64-40d6-f007-dcd5797c1e30"
      },
      "outputs": [
        {
          "output_type": "stream",
          "name": "stdout",
          "text": [
            "[0.12840493 0.40891738 0.56220513 0.09123534 0.15567355 0.43903708\n",
            " 0.46357541 0.99975951 0.1000845  0.52955719]\n"
          ]
        },
        {
          "output_type": "error",
          "ename": "ValueError",
          "evalue": "ignored",
          "traceback": [
            "\u001b[0;31m---------------------------------------------------------------------------\u001b[0m",
            "\u001b[0;31mValueError\u001b[0m                                Traceback (most recent call last)",
            "\u001b[0;32m<ipython-input-54-0b310c349a03>\u001b[0m in \u001b[0;36m<cell line: 4>\u001b[0;34m()\u001b[0m\n\u001b[1;32m      2\u001b[0m \u001b[0mA\u001b[0m\u001b[0;34m.\u001b[0m\u001b[0mflags\u001b[0m\u001b[0;34m.\u001b[0m\u001b[0mwriteable\u001b[0m \u001b[0;34m=\u001b[0m \u001b[0;32mFalse\u001b[0m\u001b[0;34m\u001b[0m\u001b[0;34m\u001b[0m\u001b[0m\n\u001b[1;32m      3\u001b[0m \u001b[0mprint\u001b[0m\u001b[0;34m(\u001b[0m\u001b[0mA\u001b[0m\u001b[0;34m)\u001b[0m\u001b[0;34m\u001b[0m\u001b[0;34m\u001b[0m\u001b[0m\n\u001b[0;32m----> 4\u001b[0;31m \u001b[0mA\u001b[0m\u001b[0;34m[\u001b[0m\u001b[0;36m1\u001b[0m\u001b[0;34m]\u001b[0m \u001b[0;34m=\u001b[0m \u001b[0;36m0\u001b[0m  \u001b[0;31m### --> Immutable\u001b[0m\u001b[0;34m\u001b[0m\u001b[0;34m\u001b[0m\u001b[0m\n\u001b[0m",
            "\u001b[0;31mValueError\u001b[0m: assignment destination is read-only"
          ]
        }
      ],
      "source": [
        "A = np.random.rand(10)\n",
        "A.flags.writeable = False\n",
        "print(A)\n",
        "A[1] = 0  ### --> Immutable"
      ]
    },
    {
      "cell_type": "markdown",
      "id": "55df6280",
      "metadata": {
        "id": "55df6280"
      },
      "source": [
        "#### 44. Consider a random 10x2 matrix representing cartesian coordinates, convert them to polar coordinates (★★☆)"
      ]
    },
    {
      "cell_type": "code",
      "execution_count": null,
      "id": "f1c86ea0",
      "metadata": {
        "id": "f1c86ea0",
        "colab": {
          "base_uri": "https://localhost:8080/"
        },
        "outputId": "8737f112-49aa-4547-c4e2-e5675f08369d"
      },
      "outputs": [
        {
          "output_type": "stream",
          "name": "stdout",
          "text": [
            "[0.55972955 0.48549629 0.995458   0.41922916 0.95252644 0.6181802\n",
            " 0.85678746 0.75483836 0.54119658 1.15848303]\n",
            "[1.06124137 0.91750355 1.2731638  1.48251167 0.76941701 0.18793499\n",
            " 0.88499304 0.99668946 1.34435422 1.00633455]\n"
          ]
        }
      ],
      "source": [
        "arr = np.random.random((10,2))\n",
        "X,Y = arr[:,0], arr[:,1]\n",
        "R = np.sqrt(X**2+Y**2)\n",
        "T = np.arctan2(Y,X)\n",
        "print(R)\n",
        "print(T)"
      ]
    },
    {
      "cell_type": "markdown",
      "id": "2f60f1ec",
      "metadata": {
        "id": "2f60f1ec"
      },
      "source": [
        "#### 45. Create random vector of size 10 and replace the maximum value by 0 (★★☆)"
      ]
    },
    {
      "cell_type": "code",
      "execution_count": null,
      "id": "d9f48f1c",
      "metadata": {
        "id": "d9f48f1c",
        "colab": {
          "base_uri": "https://localhost:8080/"
        },
        "outputId": "1d01720e-07b9-4e2c-9f92-f35c5228c236"
      },
      "outputs": [
        {
          "output_type": "stream",
          "name": "stdout",
          "text": [
            "The original vector is: [0.04284198 0.07989336 0.1222417  0.1268101  0.17681584 0.17926876\n",
            " 0.23110032 0.54650753 0.5842968  0.77077412]\n",
            "\n",
            "[0.04284198 0.07989336 0.1222417  0.1268101  0.17681584 0.17926876\n",
            " 0.23110032 0.54650753 0.5842968  0.        ]\n"
          ]
        }
      ],
      "source": [
        "arr = np.random.rand(10)\n",
        "arr.sort()\n",
        "print(f\"The original vector is: {arr}\")\n",
        "print()\n",
        "arr[-1] = 0\n",
        "print(arr)"
      ]
    },
    {
      "cell_type": "markdown",
      "id": "084e8ad4",
      "metadata": {
        "id": "084e8ad4"
      },
      "source": [
        "#### 46. Create a structured array with `x` and `y` coordinates covering the [0,1]x[0,1] area (★★☆)"
      ]
    },
    {
      "cell_type": "code",
      "execution_count": null,
      "id": "58b47c13",
      "metadata": {
        "id": "58b47c13",
        "colab": {
          "base_uri": "https://localhost:8080/"
        },
        "outputId": "83b5a8ed-d237-4812-9fda-9d79d8e29587"
      },
      "outputs": [
        {
          "output_type": "stream",
          "name": "stdout",
          "text": [
            "[[(0.  , 0.  ) (0.25, 0.  ) (0.5 , 0.  ) (0.75, 0.  ) (1.  , 0.  )]\n",
            " [(0.  , 0.25) (0.25, 0.25) (0.5 , 0.25) (0.75, 0.25) (1.  , 0.25)]\n",
            " [(0.  , 0.5 ) (0.25, 0.5 ) (0.5 , 0.5 ) (0.75, 0.5 ) (1.  , 0.5 )]\n",
            " [(0.  , 0.75) (0.25, 0.75) (0.5 , 0.75) (0.75, 0.75) (1.  , 0.75)]\n",
            " [(0.  , 1.  ) (0.25, 1.  ) (0.5 , 1.  ) (0.75, 1.  ) (1.  , 1.  )]]\n"
          ]
        }
      ],
      "source": [
        "arr = np.zeros((5,5), [('x',float),('y',float)])\n",
        "arr['x'], arr['y'] = np.meshgrid(np.linspace(0,1,5),\n",
        "                             np.linspace(0,1,5))\n",
        "print(arr)"
      ]
    },
    {
      "cell_type": "markdown",
      "id": "d7b9bc42",
      "metadata": {
        "id": "d7b9bc42"
      },
      "source": [
        "#### 47. Given two arrays, X and Y, construct the Cauchy matrix C (Cij =1/(xi - yj)) (★★☆)"
      ]
    },
    {
      "cell_type": "code",
      "execution_count": null,
      "id": "a24824fb",
      "metadata": {
        "id": "a24824fb",
        "colab": {
          "base_uri": "https://localhost:8080/"
        },
        "outputId": "ff4f4f00-c40a-423a-eb58-da20ec8275c1"
      },
      "outputs": [
        {
          "output_type": "stream",
          "name": "stdout",
          "text": [
            "3638.163637117973\n"
          ]
        }
      ],
      "source": [
        "X = np.arange(8)\n",
        "Y = X + 0.5\n",
        "C = 1.0 / np.subtract.outer(X, Y)\n",
        "print(np.linalg.det(C))"
      ]
    },
    {
      "cell_type": "markdown",
      "id": "65ebc11b",
      "metadata": {
        "id": "65ebc11b"
      },
      "source": [
        "#### 48. Print the minimum and maximum representable value for each numpy scalar type (★★☆)"
      ]
    },
    {
      "cell_type": "code",
      "execution_count": null,
      "id": "e45d38fb",
      "metadata": {
        "id": "e45d38fb",
        "colab": {
          "base_uri": "https://localhost:8080/"
        },
        "outputId": "e08b6143-491d-40bb-b717-ecd4b71e7d44"
      },
      "outputs": [
        {
          "output_type": "stream",
          "name": "stdout",
          "text": [
            "-128\n",
            "127\n",
            "-2147483648\n",
            "2147483647\n",
            "-9223372036854775808\n",
            "9223372036854775807\n",
            "-3.4028235e+38\n",
            "3.4028235e+38\n",
            "1.1920929e-07\n",
            "-1.7976931348623157e+308\n",
            "1.7976931348623157e+308\n",
            "2.220446049250313e-16\n"
          ]
        }
      ],
      "source": [
        "for dtype in [np.int8, np.int32, np.int64]:\n",
        "   print(np.iinfo(dtype).min)\n",
        "   print(np.iinfo(dtype).max)\n",
        "for dtype in [np.float32, np.float64]:\n",
        "   print(np.finfo(dtype).min)\n",
        "   print(np.finfo(dtype).max)\n",
        "   print(np.finfo(dtype).eps)"
      ]
    },
    {
      "cell_type": "markdown",
      "id": "9b317a98",
      "metadata": {
        "id": "9b317a98"
      },
      "source": [
        "#### 49. How to print all the values of an array? (★★☆)"
      ]
    },
    {
      "cell_type": "code",
      "execution_count": null,
      "id": "309cdeb9",
      "metadata": {
        "id": "309cdeb9",
        "colab": {
          "base_uri": "https://localhost:8080/"
        },
        "outputId": "d51e143b-83be-4be9-ac28-8b3b77b011bb"
      },
      "outputs": [
        {
          "output_type": "stream",
          "name": "stdout",
          "text": [
            "[[1. 0. 0. 0. 0. 0. 0. 0. 0. 0.]\n",
            " [0. 1. 0. 0. 0. 0. 0. 0. 0. 0.]\n",
            " [0. 0. 1. 0. 0. 0. 0. 0. 0. 0.]\n",
            " [0. 0. 0. 1. 0. 0. 0. 0. 0. 0.]\n",
            " [0. 0. 0. 0. 1. 0. 0. 0. 0. 0.]\n",
            " [0. 0. 0. 0. 0. 1. 0. 0. 0. 0.]\n",
            " [0. 0. 0. 0. 0. 0. 1. 0. 0. 0.]\n",
            " [0. 0. 0. 0. 0. 0. 0. 1. 0. 0.]\n",
            " [0. 0. 0. 0. 0. 0. 0. 0. 1. 0.]\n",
            " [0. 0. 0. 0. 0. 0. 0. 0. 0. 1.]]\n"
          ]
        }
      ],
      "source": [
        "np.set_printoptions(threshold=np.inf)\n",
        "arr = np.eye(10)\n",
        "print(arr)"
      ]
    },
    {
      "cell_type": "markdown",
      "id": "b580f9d0",
      "metadata": {
        "id": "b580f9d0"
      },
      "source": [
        "#### 50. How to find the closest value (to a given scalar) in a vector? (★★☆)"
      ]
    },
    {
      "cell_type": "code",
      "execution_count": null,
      "id": "ebfb6714",
      "metadata": {
        "id": "ebfb6714",
        "colab": {
          "base_uri": "https://localhost:8080/"
        },
        "outputId": "8141c6ee-cc27-4efe-c36b-2b636c653576"
      },
      "outputs": [
        {
          "output_type": "stream",
          "name": "stdout",
          "text": [
            "Original array: [ 0  1  2  3  4  5  6  7  8  9 10 11 12 13 14 15 16 17 18 19 20 21 22 23\n",
            " 24 25 26 27 28 29 30 31 32 33 34 35 36 37 38 39 40 41 42 43 44 45 46 47\n",
            " 48 49 50 51 52 53 54 55 56 57 58 59 60 61 62 63 64 65 66 67 68 69 70 71\n",
            " 72 73 74 75 76 77 78 79 80 81 82 83 84 85 86 87 88 89 90 91 92 93 94 95\n",
            " 96 97 98 99]\n",
            "\n",
            "The value is: 23.629670541534498\n",
            "\n",
            "24\n"
          ]
        }
      ],
      "source": [
        "arr = np.arange(100)\n",
        "print(f\"Original array: {arr}\")\n",
        "print()\n",
        "value = np.random.uniform(0,100)\n",
        "print(f'The value is: {value}')\n",
        "print()\n",
        "index = (np.abs(arr-value)).argmin()\n",
        "print(arr[index])"
      ]
    },
    {
      "cell_type": "markdown",
      "id": "602e6252",
      "metadata": {
        "id": "602e6252"
      },
      "source": [
        "#### 51. Create a structured array representing a position (x,y) and a color (r,g,b) (★★☆)"
      ]
    },
    {
      "cell_type": "code",
      "execution_count": null,
      "id": "cf002b3a",
      "metadata": {
        "id": "cf002b3a",
        "colab": {
          "base_uri": "https://localhost:8080/"
        },
        "outputId": "03754a3a-4473-433f-c4c1-ef6f4088af98"
      },
      "outputs": [
        {
          "output_type": "stream",
          "name": "stdout",
          "text": [
            "[((1., 1.), (1., 1., 1.)) ((1., 1.), (1., 1., 1.))\n",
            " ((1., 1.), (1., 1., 1.)) ((1., 1.), (1., 1., 1.))\n",
            " ((1., 1.), (1., 1., 1.)) ((1., 1.), (1., 1., 1.))\n",
            " ((1., 1.), (1., 1., 1.)) ((1., 1.), (1., 1., 1.))\n",
            " ((1., 1.), (1., 1., 1.)) ((1., 1.), (1., 1., 1.))]\n"
          ]
        },
        {
          "output_type": "stream",
          "name": "stderr",
          "text": [
            "/usr/local/lib/python3.10/dist-packages/numpy/core/numeric.py:204: FutureWarning: Passing (type, 1) or '1type' as a synonym of type is deprecated; in a future version of numpy, it will be understood as (type, (1,)) / '(1,)type'.\n",
            "  a = empty(shape, dtype, order)\n"
          ]
        }
      ],
      "source": [
        "arr = np.ones(10, [ ('position', [ ('x', float, 1),\n",
        "                                  ('y', float, 1)]),\n",
        "                   ('color',    [ ('r', float, 1),\n",
        "                                  ('g', float, 1),\n",
        "                                  ('b', float, 1)])])\n",
        "print(arr)"
      ]
    },
    {
      "cell_type": "markdown",
      "id": "78bcd92f",
      "metadata": {
        "id": "78bcd92f"
      },
      "source": [
        "#### 52. Consider a random vector with shape (100,2) representing coordinates, find point by point distances (★★☆)"
      ]
    },
    {
      "cell_type": "code",
      "execution_count": null,
      "id": "fea7f9a6",
      "metadata": {
        "id": "fea7f9a6",
        "colab": {
          "base_uri": "https://localhost:8080/"
        },
        "outputId": "f83ad4ca-c2b0-4e36-a445-06baa524d5e2"
      },
      "outputs": [
        {
          "output_type": "stream",
          "name": "stdout",
          "text": [
            "[[0.         0.56013763 0.68867412 0.3587942  0.7195697  0.66526117\n",
            "  0.7434881  0.5919548  0.7915637  0.38250993 0.52759917 0.15025055\n",
            "  0.74318815 0.43716445 1.0223441  0.02752393 0.85574483 0.77819296\n",
            "  0.8518517  0.83251849 0.32392738 0.73886693 0.74864756 0.36492942\n",
            "  0.28506534 0.59247279 0.66505244 0.9598384  0.59296462 0.0965227\n",
            "  0.6519577  0.67696215 0.82487048 0.574077   0.7368669  0.71927522\n",
            "  0.4107107  0.75256064 0.87650803 0.54944784 0.57431313 0.45156678\n",
            "  0.32921687 0.83312094 0.57597311 0.28828605 0.35017745 0.20786029\n",
            "  0.14878723 0.62920071 0.4982121  0.79370645 0.63156162 0.51066474\n",
            "  0.62484087 0.41565259 0.53759483 0.52981608 0.71628391 0.24608819\n",
            "  0.71304057 0.97491292 0.68900836 0.80889907 0.4167785  0.92754507\n",
            "  0.35055158 0.74082806 0.77968827 0.75343193 0.29981213 0.87889275\n",
            "  0.34738508 0.41018898 0.57763372 0.16057364 0.22796376 0.08756086\n",
            "  0.13601535 0.80741913 0.31085921 0.10477363 0.71998369 0.34248507\n",
            "  0.85389334 0.86711451 0.48742679 0.39511554 0.61619857 0.57040397\n",
            "  0.0610234  0.75286543 1.08947502 0.07162332 0.8258845  0.23953778\n",
            "  0.4833947  0.54636579 0.37500648 0.60101339]\n",
            " [0.56013763 0.         0.4699752  0.23742019 0.17412719 0.13929475\n",
            "  0.2745213  0.07635465 0.3257967  0.19586999 0.65455999 0.66684212\n",
            "  0.56696555 0.12452153 0.74350329 0.53295226 0.2964831  0.97687959\n",
            "  0.91330577 0.27871216 0.28978326 0.60990907 0.59541882 0.73157179\n",
            "  0.6306194  0.79274674 0.88313344 0.78918461 0.4234005  0.65406328\n",
            "  0.58486486 0.37731736 0.2670385  0.27629614 0.9809769  0.19088518\n",
            "  0.17984219 0.75940897 0.72726391 0.01170675 0.673652   0.4327331\n",
            "  0.40612195 0.62262291 0.04378954 0.56460608 0.3033375  0.72431642\n",
            "  0.63671251 0.76321063 0.6591045  0.77044872 0.63595694 0.61531953\n",
            "  0.56965392 0.8205565  0.61598923 0.72434772 0.49109186 0.41891907\n",
            "  0.79513782 0.67250058 0.14502827 0.61760424 0.66979088 0.55906215\n",
            "  0.24324559 0.72484384 0.30320717 0.26430476 0.30069827 0.5284274\n",
            "  0.22740028 0.19747296 0.02672845 0.65092234 0.59320815 0.6265221\n",
            "  0.67863426 0.91899367 0.49715487 0.66402386 0.62437783 0.22081247\n",
            "  0.84115084 0.81918419 0.21583763 0.45839166 0.80728351 0.04573816\n",
            "  0.54669733 0.35226063 0.86511196 0.57740668 0.62063547 0.7316576\n",
            "  0.07714715 0.01850162 0.82719571 0.58257935]\n",
            " [0.68867412 0.4699752  0.         0.40116459 0.5847124  0.39757535\n",
            "  0.30814791 0.54422194 0.31009553 0.41953153 0.36238896 0.69814638\n",
            "  0.09733959 0.45491667 0.33580094 0.66600849 0.56062756 0.62080065\n",
            "  0.4874337  0.51028763 0.39978162 0.14820158 0.12792834 0.59540582\n",
            "  0.54015831 0.48996515 0.56344481 0.32469356 0.09576179 0.74552456\n",
            "  0.17210939 0.10552557 0.60021563 0.19591501 0.6559551  0.40278661\n",
            "  0.56190183 0.33283275 0.25765363 0.46416173 0.34666113 0.2454911\n",
            "  0.36037926 0.16274969 0.43093937 0.4749806  0.35921532 0.73098758\n",
            "  0.82795398 0.42114123 0.39282208 0.32640411 0.25251495 0.33162977\n",
            "  0.17713476 0.67848588 0.30862027 0.44790932 0.0281432  0.44266511\n",
            "  0.40536796 0.28641728 0.56935565 0.1506567  0.47439854 0.26782196\n",
            "  0.5884751  0.29370418 0.32370429 0.33928032 0.424266   0.21719413\n",
            "  0.55483418 0.37467042 0.49253862 0.84180542 0.54881137 0.77622632\n",
            "  0.73497893 0.51921006 0.40862336 0.75923351 0.17523049 0.46786212\n",
            "  0.39189899 0.36009364 0.28639056 0.3112669  0.49184955 0.42651899\n",
            "  0.63745881 0.21564936 0.42452386 0.74719171 0.15840947 0.70931801\n",
            "  0.46012125 0.45642872 0.72771141 0.2136943 ]\n",
            " [0.3587942  0.23742019 0.40116459 0.         0.41147083 0.31314155\n",
            "  0.38515208 0.29708312 0.43413338 0.04491655 0.45309981 0.4416455\n",
            "  0.48358429 0.12362873 0.73012414 0.3315158  0.51560655 0.7751017\n",
            "  0.74979547 0.48553329 0.05247778 0.50550195 0.5022535  0.49514833\n",
            "  0.39344141 0.58261713 0.67318551 0.71830874 0.31725709 0.44463487\n",
            "  0.44778942 0.35260641 0.49976171 0.23536127 0.76873648 0.36520409\n",
            "  0.19353954 0.60695039 0.64206956 0.22571538 0.482049   0.2472977\n",
            "  0.17834556 0.56308889 0.23710648 0.32866145 0.07757388 0.49633915\n",
            "  0.46968839 0.56831558 0.44916748 0.63070105 0.47393599 0.41628594\n",
            "  0.42528366 0.58353967 0.42517749 0.51145968 0.42871679 0.18155453\n",
            "  0.61821385 0.67049533 0.38200278 0.54694453 0.44240646 0.59627841\n",
            "  0.19656492 0.57888436 0.4213293  0.39464122 0.06562819 0.55157193\n",
            "  0.16269695 0.05162508 0.26183283 0.48435633 0.35609709 0.43838513\n",
            "  0.4599341  0.73930978 0.26490979 0.45634925 0.50488593 0.07070108\n",
            "  0.70146979 0.69270138 0.13658108 0.24744327 0.60008575 0.23056232\n",
            "  0.33061057 0.40457777 0.8256661  0.39603029 0.55799314 0.49936204\n",
            "  0.16662271 0.21973644 0.59009982 0.42375807]\n",
            " [0.7195697  0.17412719 0.5847124  0.41147083 0.         0.18754561\n",
            "  0.3117838  0.12779109 0.34900495 0.36935369 0.81701015 0.83481649\n",
            "  0.68101931 0.29463113 0.80544685 0.69303251 0.17650541 1.13631548\n",
            "  1.05506251 0.18946875 0.46387419 0.73185882 0.71259965 0.90560618\n",
            "  0.80474581 0.95716333 1.04684914 0.88453392 0.5592648  0.81524439\n",
            "  0.72319462 0.48154183 0.1146337  0.40786417 1.14515448 0.19836026\n",
            "  0.31348045 0.89889133 0.83342201 0.18581626 0.8320196  0.59498471\n",
            "  0.57892358 0.72018374 0.18532248 0.73859276 0.47675231 0.89327057\n",
            "  0.77925719 0.9216221  0.82461881 0.90349684 0.78309873 0.7774578\n",
            "  0.71176924 0.99467634 0.77509121 0.89037312 0.60056198 0.59287159\n",
            "  0.94522121 0.73133024 0.03064424 0.7216415  0.84125529 0.60021582\n",
            "  0.37865221 0.86218101 0.32385144 0.28642252 0.47422705 0.58281501\n",
            "  0.373918   0.37101858 0.1499028  0.79280223 0.76691993 0.77889848\n",
            "  0.84363125 1.06856869 0.67046241 0.82429785 0.75289522 0.389316\n",
            "  0.97234415 0.94415176 0.37463873 0.62685259 0.97038291 0.1920944\n",
            "  0.71208197 0.4140818  0.93816035 0.72820343 0.7200657  0.90267599\n",
            "  0.24748572 0.19211757 1.00082539 0.73013665]\n",
            " [0.66526117 0.13929475 0.39757535 0.31314155 0.18754561 0.\n",
            "  0.14163851 0.18440615 0.19018473 0.28312194 0.65423831 0.75468484\n",
            "  0.49360628 0.23571614 0.62992311 0.6377374  0.20991063 0.96682727\n",
            "  0.87287229 0.17376757 0.35996044 0.5451477  0.52536445 0.78014659\n",
            "  0.68581463 0.79587782 0.88366919 0.69867224 0.37822143 0.75505305\n",
            "  0.54127467 0.29402075 0.21829331 0.22907271 0.98202834 0.05519493\n",
            "  0.31560987 0.71634387 0.64608998 0.14385157 0.6637252  0.43651185\n",
            "  0.44948662 0.53354602 0.10148865 0.61515734 0.35702883 0.80872655\n",
            "  0.75710179 0.75246676 0.66682324 0.71863662 0.60547446 0.61479546\n",
            "  0.53183654 0.87124745 0.60839917 0.73268045 0.41304776 0.48557355\n",
            "  0.76835638 0.55676078 0.17512655 0.53432297 0.69868888 0.43375261\n",
            "  0.37600527 0.67894184 0.16639059 0.12666014 0.37831709 0.40905003\n",
            "  0.35539356 0.26253253 0.14438233 0.77161023 0.65809445 0.73873387\n",
            "  0.77275748 0.89067936 0.54127221 0.76620081 0.56740782 0.32425612\n",
            "  0.78678488 0.75742354 0.22462424 0.479688   0.80688972 0.10444528\n",
            "  0.64248653 0.2342527  0.75871791 0.6919102  0.53318581 0.80940429\n",
            "  0.19723317 0.14155728 0.88927071 0.5533596 ]\n",
            " [0.7434881  0.2745213  0.30814791 0.38515208 0.3117838  0.14163851\n",
            "  0.         0.32597614 0.05270843 0.36853891 0.62379629 0.81148474\n",
            "  0.3963939  0.34476056 0.49396102 0.71635142 0.25287875 0.91705077\n",
            "  0.79555022 0.2023018  0.42133558 0.45420566 0.42995655 0.79473545\n",
            "  0.71055569 0.76354244 0.84627666 0.5791066  0.32194235 0.82641614\n",
            "  0.4724039  0.20439241 0.2989789  0.20379561 0.9429521  0.11342367\n",
            "  0.43999125 0.64047405 0.5357482  0.27646168 0.62309109 0.42562231\n",
            "  0.47664939 0.41895539 0.23206831 0.63828131 0.40404481 0.86042878\n",
            "  0.85171244 0.70757666 0.64397986 0.63415491 0.54664494 0.5861024\n",
            "  0.46956046 0.88547329 0.57283203 0.7077615  0.31596085 0.5323671\n",
            "  0.70695136 0.42002266 0.30682944 0.42528498 0.69602059 0.29295523\n",
            "  0.49467082 0.60150731 0.03620039 0.03123256 0.44433915 0.27150435\n",
            "  0.46924093 0.33439835 0.28391514 0.86639424 0.69390052 0.8234884\n",
            "  0.83600759 0.8246415  0.5621094  0.8386693  0.4833627  0.41779988\n",
            "  0.69810791 0.66245767 0.25985226 0.48236921 0.77066597 0.23255333\n",
            "  0.71116173 0.10516003 0.62645048 0.78035174 0.42015719 0.85386899\n",
            "  0.31677518 0.27220594 0.91504861 0.4986914 ]\n",
            " [0.5919548  0.07635465 0.54422194 0.29708312 0.12779109 0.18440615\n",
            "  0.32597614 0.         0.37426217 0.2529489  0.7275175  0.70925067\n",
            "  0.64142335 0.17488595 0.80826844 0.56550456 0.28547946 1.05044284\n",
            "  0.98954712 0.28096317 0.34930774 0.6853682  0.67033627 0.79179996\n",
            "  0.68925585 0.86463232 0.9552176  0.86127457 0.49961457 0.68776638\n",
            "  0.66121693 0.44926605 0.23786511 0.35176847 1.05274028 0.22585955\n",
            "  0.18640975 0.83574657 0.8009758  0.08502822 0.74787029 0.50635188\n",
            "  0.47177005 0.69464783 0.11336384 0.62565806 0.3683016  0.76816258\n",
            "  0.65284787 0.83729218 0.7306849  0.84674354 0.71199708 0.68847283\n",
            "  0.64597794 0.87942118 0.69010762 0.79552242 0.56463265 0.47609505\n",
            "  0.87076289 0.73614364 0.09743448 0.69072117 0.73656753 0.61705094\n",
            "  0.25200105 0.80119817 0.35004735 0.31006186 0.35651998 0.58989885\n",
            "  0.24616271 0.26345968 0.05176028 0.66653963 0.64830426 0.65122018\n",
            "  0.71690817 0.99460268 0.5611747  0.69670831 0.70038792 0.26603893\n",
            "  0.91740555 0.89510072 0.29143624 0.52876552 0.87973163 0.11771412\n",
            "  0.58564947 0.41352862 0.93291297 0.60061095 0.69298548 0.77912401\n",
            "  0.13058275 0.0931441  0.88142749 0.65862902]\n",
            " [0.7915637  0.3257967  0.31009553 0.43413338 0.34900495 0.19018473\n",
            "  0.05270843 0.37426217 0.         0.41929063 0.64427503 0.85523689\n",
            "  0.39114955 0.39731981 0.45835678 0.76456897 0.26463288 0.92791457\n",
            "  0.79533053 0.21408689 0.46833686 0.45117301 0.42497286 0.82808365\n",
            "  0.74718506 0.78203849 0.86233279 0.55696621 0.33902458 0.8730443\n",
            "  0.47983095 0.2125152  0.32092169 0.23852945 0.95782061 0.15359159\n",
            "  0.49263617 0.64226344 0.52020053 0.32816731 0.63984591 0.4556418\n",
            "  0.51606434 0.4023026  0.28380929 0.67501709 0.4486995  0.90289242\n",
            "  0.90207728 0.72184108 0.6668874  0.63187225 0.55717037 0.60764856\n",
            "  0.47994763 0.91824361 0.5920909  0.72934655 0.3132436  0.57556311\n",
            "  0.71452312 0.3840186  0.34735106 0.41222412 0.72497426 0.2512231\n",
            "  0.54736231 0.60300161 0.02522733 0.06472053 0.49188186 0.23628238\n",
            "  0.52182061 0.38390407 0.3339989  0.9167635  0.73342389 0.87244596\n",
            "  0.88102325 0.82930477 0.5989542  0.88547184 0.48336242 0.46909319\n",
            "  0.69311911 0.65450739 0.30543626 0.51533353 0.7876838  0.28454323\n",
            "  0.75765029 0.09464596 0.59389744 0.8299574  0.40455363 0.89468663\n",
            "  0.36945485 0.32413671 0.95089596 0.51172299]\n",
            " [0.38250993 0.19586999 0.41953153 0.04491655 0.36935369 0.28312194\n",
            "  0.36853891 0.2529489  0.41929063 0.         0.49578197 0.47547736\n",
            "  0.50621505 0.07882156 0.74234342 0.3549956  0.48050472 0.81837248\n",
            "  0.78801838 0.45299368 0.09645475 0.53233158 0.52696305 0.53887856\n",
            "  0.43661588 0.62652876 0.71717021 0.7409109  0.34108312 0.47195939\n",
            "  0.47996491 0.36079249 0.46077358 0.2409035  0.81298367 0.33682704\n",
            "  0.15524707 0.64293222 0.66668513 0.18418669 0.52349305 0.28586595\n",
            "  0.22313512 0.58225898 0.19983126 0.37274481 0.1213432  0.53160389\n",
            "  0.48325983 0.6104599  0.49285509 0.66471776 0.51071405 0.4585184\n",
            "  0.45854014 0.62679728 0.46626654 0.5555476  0.44639729 0.22382179\n",
            "  0.65801897 0.68008551 0.33956946 0.5679983  0.48732132 0.59767086\n",
            "  0.1693227  0.61364758 0.40437759 0.37476944 0.10488319 0.55500974\n",
            "  0.13545653 0.04522256 0.21945773 0.49793597 0.39756741 0.45821769\n",
            "  0.49097485 0.77981592 0.30974725 0.48307894 0.53446457 0.05241889\n",
            "  0.73581095 0.72482281 0.13936726 0.29051722 0.64372589 0.1935736\n",
            "  0.35994294 0.39939016 0.84328907 0.41324257 0.57768311 0.5369245\n",
            "  0.12289818 0.17871579 0.63148282 0.45958374]\n",
            " [0.52759917 0.65455999 0.36238896 0.45309981 0.81701015 0.65423831\n",
            "  0.62379629 0.7275175  0.64427503 0.49578197 0.         0.46109625\n",
            "  0.34450808 0.56947987 0.61397574 0.51663706 0.85569829 0.32350859\n",
            "  0.32705777 0.81003518 0.41121067 0.30292438 0.32787919 0.27068226\n",
            "  0.26700138 0.14170201 0.23001682 0.48980055 0.30562646 0.53910085\n",
            "  0.21193672 0.43570526 0.87243524 0.43047423 0.32844108 0.68392255\n",
            "  0.64502981 0.23162429 0.40993549 0.64414625 0.04785323 0.22223115\n",
            "  0.28358798 0.42359092 0.63269145 0.23973326 0.37563164 0.46803092\n",
            "  0.67508888 0.11655806 0.03899612 0.27795796 0.14292447 0.03959162\n",
            "  0.1936532  0.33733757 0.05380252 0.08597201 0.37707177 0.33795237\n",
            "  0.1870971  0.59659052 0.79223057 0.39313349 0.14426579 0.62305948\n",
            "  0.63313399 0.22995058 0.65027037 0.65147803 0.42048935 0.57424831\n",
            "  0.60254875 0.46966355 0.68128692 0.68555752 0.3097101  0.60475611\n",
            "  0.50587403 0.29562633 0.23236963 0.55192687 0.26627315 0.51620062\n",
            "  0.33042389 0.35204145 0.44243688 0.20576241 0.15339403 0.62610273\n",
            "  0.46657664 0.55705048 0.63185149 0.59891564 0.41482052 0.43180489\n",
            "  0.6028068  0.6363195  0.40084889 0.15409451]\n",
            " [0.15025055 0.66684212 0.69814638 0.4416455  0.83481649 0.75468484\n",
            "  0.81148474 0.70925067 0.85523689 0.47547736 0.46109625 0.\n",
            "  0.73462551 0.54240902 1.01978115 0.16622016 0.95595077 0.66581488\n",
            "  0.76964886 0.92711987 0.39562084 0.7179248  0.73325094 0.24200308\n",
            "  0.19448442 0.49378903 0.55487489 0.93172807 0.60429618 0.09101275\n",
            "  0.62469669 0.70908734 0.93386312 0.62267582 0.61583575 0.80608253\n",
            "  0.53718999 0.69270528 0.84840823 0.65548341 0.50890412 0.45266132\n",
            "  0.34800616 0.82497014 0.67522613 0.23417293 0.40753746 0.06049845\n",
            "  0.2526055  0.54598821 0.42576275 0.73839141 0.58644847 0.45480376\n",
            "  0.59819625 0.27482993 0.48510578 0.44083303 0.72398295 0.2797502\n",
            "  0.63602276 0.98146838 0.80421603 0.79774966 0.32783024 0.95520767\n",
            "  0.48257576 0.68843983 0.84719034 0.82628691 0.37637075 0.90474398\n",
            "  0.47309117 0.49220386 0.68747134 0.25780435 0.15678888 0.1784223\n",
            "  0.04524194 0.71512861 0.29024687 0.10041311 0.691996   0.44630997\n",
            "  0.79101714 0.81263587 0.55186072 0.38725582 0.51772449 0.6690235\n",
            "  0.12651771 0.80214588 1.06870707 0.20346558 0.81695489 0.08962402\n",
            "  0.58996141 0.65110953 0.22656215 0.56737173]\n",
            " [0.74318815 0.56696555 0.09733959 0.48358429 0.68101931 0.49360628\n",
            "  0.3963939  0.64142335 0.39114955 0.50621505 0.34450808 0.73462551\n",
            "  0.         0.54705739 0.28533422 0.72243873 0.6491378  0.56043003\n",
            "  0.40564603 0.59840322 0.47544988 0.0616488  0.03382354 0.60126851\n",
            "  0.56163471 0.45468541 0.51773862 0.23483307 0.16639146 0.79090366\n",
            "  0.1328376  0.19978572 0.6924747  0.29183931 0.60443084 0.49611795\n",
            "  0.65282062 0.25685543 0.1622831  0.56097101 0.31703422 0.29162241\n",
            "  0.41498696 0.09058103 0.52818368 0.50317025 0.43301138 0.76086015\n",
            "  0.88703417 0.3769523  0.38020087 0.2412192  0.21116052 0.32198331\n",
            "  0.15186832 0.67762202 0.29362146 0.42539597 0.08117464 0.49866845\n",
            "  0.34244413 0.25499862 0.66617921 0.06607549 0.47475235 0.28621987\n",
            "  0.67551976 0.21788347 0.40768732 0.42761017 0.49867888 0.24138366\n",
            "  0.64158044 0.46214132 0.58971537 0.9003919  0.5799887  0.83037421\n",
            "  0.77438206 0.44672948 0.44562298 0.80467429 0.09972211 0.55238578\n",
            "  0.30223241 0.26636666 0.37784487 0.35117245 0.45200622 0.52371008\n",
            "  0.68839835 0.29713595 0.34907466 0.80576003 0.0829198  0.73430691\n",
            "  0.55479909 0.55318818 0.73456189 0.19108131]\n",
            " [0.43716445 0.12452153 0.45491667 0.12362873 0.29463113 0.23571614\n",
            "  0.34476056 0.17488595 0.39731981 0.07882156 0.56947987 0.54240902\n",
            "  0.54705739 0.         0.76322803 0.40982966 0.41860025 0.89278656\n",
            "  0.85317647 0.3963678  0.17519055 0.57971408 0.57094341 0.61709093\n",
            "  0.51438833 0.70238644 0.79312083 0.77953068 0.38686573 0.53034933\n",
            "  0.53650579 0.38118323 0.39154228 0.26296279 0.88946978 0.29090882\n",
            "  0.10834187 0.70467998 0.70922112 0.11330385 0.59495376 0.35430473\n",
            "  0.30126049 0.61646009 0.1397534  0.45128181 0.19845506 0.60007606\n",
            "  0.52166549 0.68296527 0.56840577 0.72305089 0.57444544 0.53152249\n",
            "  0.51700793 0.70454423 0.53730838 0.63182738 0.48013279 0.30120954\n",
            "  0.7262694  0.69700811 0.26437804 0.60549373 0.56583227 0.60137089\n",
            "  0.15156732 0.67348303 0.37886128 0.34455988 0.18163579 0.56288238\n",
            "  0.12451284 0.1005792  0.14544647 0.53613215 0.47373686 0.5062801\n",
            "  0.55418577 0.84906137 0.3885355  0.540549   0.58630609 0.0962984\n",
            "  0.79439754 0.77967178 0.16922251 0.36551578 0.71901771 0.13467766\n",
            "  0.42225674 0.39556578 0.87277037 0.45825498 0.61280256 0.60826203\n",
            "  0.04757195 0.10952545 0.70721335 0.52212628]\n",
            " [1.0223441  0.74350329 0.33580094 0.73012414 0.80544685 0.62992311\n",
            "  0.49396102 0.80826844 0.45835678 0.74234342 0.61397574 1.01978115\n",
            "  0.28533422 0.76322803 0.         1.00034951 0.71112377 0.75255234\n",
            "  0.54667349 0.66340864 0.73372449 0.31224873 0.29084267 0.87990629\n",
            "  0.84608305 0.70022674 0.7434548  0.18415594 0.43051105 1.07431242\n",
            "  0.40685531 0.38280711 0.77570825 0.50281372 0.81386051 0.60724684\n",
            "  0.8714509  0.44941362 0.22587884 0.74127241 0.57809409 0.57270466\n",
            "  0.69314731 0.19567817 0.70003543 0.78847869 0.69411878 1.0460931\n",
            "  1.16320064 0.6155187  0.65198497 0.4070672  0.47164572 0.59785834\n",
            "  0.43061029 0.95127654 0.56759154 0.68707856 0.30771577 0.77635461\n",
            "  0.55107622 0.07434837 0.80062375 0.2245481  0.75217231 0.21344714\n",
            "  0.9075322  0.42150345 0.48304465 0.51918361 0.75860819 0.22264369\n",
            "  0.87501565 0.6971727  0.76016181 1.17694973 0.86532253 1.10986845\n",
            "  1.05920085 0.61592409 0.73027431 1.0880818  0.34770259 0.79317541\n",
            "  0.42662504 0.37328778 0.60352906 0.63477576 0.69131991 0.69778616\n",
            "  0.96939627 0.39577499 0.14020699 1.08225396 0.20404647 1.01897693\n",
            "  0.75670325 0.73474725 1.0125354  0.46747309]\n",
            " [0.02752393 0.53295226 0.66600849 0.3315158  0.69303251 0.6377374\n",
            "  0.71635142 0.56550456 0.76456897 0.3549956  0.51663706 0.16622016\n",
            "  0.72243873 0.40982966 1.00034951 0.         0.82842616 0.77557138\n",
            "  0.8422917  0.80505765 0.29728994 0.71971237 0.72873796 0.3677309\n",
            "  0.28241085 0.58740985 0.66229216 0.94111137 0.57040804 0.12230435\n",
            "  0.63399047 0.65214196 0.79794045 0.54819052 0.73669681 0.69175376\n",
            "  0.38509546 0.73924014 0.85795269 0.52222587 0.56282269 0.43099138\n",
            "  0.30768452 0.8120978  0.54854448 0.27879355 0.32442287 0.22559967\n",
            "  0.16554837 0.62070919 0.48857584 0.77948605 0.61635077 0.49798955\n",
            "  0.6069087  0.42355528 0.52414585 0.52312186 0.69373505 0.2241213\n",
            "  0.70295489 0.95200187 0.66244917 0.78829573 0.41120388 0.90272063\n",
            "  0.3257681  0.72630969 0.75255014 0.72613179 0.272993   0.85427941\n",
            "  0.32152244 0.38286246 0.55062228 0.17838195 0.22392511 0.11128398\n",
            "  0.15770765 0.80005173 0.29522674 0.13135262 0.70185499 0.31503052\n",
            "  0.84076834 0.85254363 0.46072649 0.3762627  0.61095558 0.5429597\n",
            "  0.05554392 0.72665826 1.06956858 0.08475704 0.80497112 0.25400534\n",
            "  0.45614799 0.51908933 0.38718873 0.58421194]\n",
            " [0.85574483 0.2964831  0.56062756 0.51560655 0.17650541 0.20991063\n",
            "  0.25287875 0.28547946 0.26463288 0.48050472 0.85569829 0.95595077\n",
            "  0.6491378  0.41860025 0.71112377 0.82842616 0.         1.16081416\n",
            "  1.04770324 0.05087447 0.56490008 0.70707831 0.68275559 0.99004858\n",
            "  0.89531257 0.99727135 1.08334434 0.82118763 0.56474354 0.94877499\n",
            "  0.72163349 0.45595707 0.07733069 0.42530416 1.18125391 0.1719212\n",
            "  0.46746606 0.89210957 0.78438038 0.30674955 0.86108325 0.64222947\n",
            "  0.65929899 0.6666152  0.28110802 0.82488571 0.5653909  1.0116375\n",
            "  0.93176506 0.94826116 0.87089283 0.88689336 0.79284341 0.81665591\n",
            "  0.71655205 1.08113361 0.8075981  0.93639808 0.56883132 0.69259026\n",
            "  0.95484257 0.63739422 0.1983518  0.67540356 0.90737089 0.49794322\n",
            "  0.53316234 0.85333157 0.24406743 0.2216474  0.58123248 0.49419826\n",
            "  0.52167054 0.46688018 0.28223899 0.94582193 0.86622352 0.92300501\n",
            "  0.97085343 1.07435118 0.75116313 0.95909548 0.73583784 0.51403444\n",
            "  0.95098048 0.91493082 0.43439903 0.6883277  1.00679339 0.28714304\n",
            "  0.83923602 0.35397341 0.84987114 0.87381714 0.66861717 1.01474989\n",
            "  0.37252485 0.3094633  1.09829439 0.74283055]\n",
            " [0.77819296 0.97687959 0.62080065 0.7751017  1.13631548 0.96682727\n",
            "  0.91705077 1.05044284 0.92791457 0.81837248 0.32350859 0.66581488\n",
            "  0.56043003 0.89278656 0.75255234 0.77557138 1.16081416 0.\n",
            "  0.22121995 1.11289967 0.73111469 0.50025597 0.53030597 0.42392519\n",
            "  0.49335449 0.19656714 0.11328882 0.57781785 0.59646375 0.75610867\n",
            "  0.44885734 0.71565762 1.18467785 0.73847841 0.07849302 0.9910003\n",
            "  0.96533721 0.31130436 0.5276305  0.96665068 0.30429798 0.54418139\n",
            "  0.6011329  0.60499028 0.95333124 0.5079564  0.69752894 0.64431607\n",
            "  0.91332009 0.21476163 0.3265293  0.34707753 0.37084715 0.36213738\n",
            "  0.44811134 0.41933116 0.36138738 0.26824449 0.6243161  0.64195435\n",
            "  0.21799197 0.76633321 1.11249419 0.57775445 0.36817366 0.84111894\n",
            "  0.94863228 0.34709283 0.93854177 0.94682313 0.73797092 0.79992814\n",
            "  0.91951509 0.79313254 1.00358106 0.92053106 0.55165891 0.83850341\n",
            "  0.70908847 0.14114575 0.53317092 0.76619195 0.46072716 0.83603436\n",
            "  0.33129169 0.3837037  0.76295639 0.52785533 0.17633217 0.94685706\n",
            "  0.72043372 0.83474289 0.70730405 0.84820519 0.59732565 0.59930763\n",
            "  0.92629561 0.95875562 0.49524512 0.41856449]\n",
            " [0.8518517  0.91330577 0.4874337  0.74979547 1.05506251 0.87287229\n",
            "  0.79555022 0.98954712 0.79533053 0.78801838 0.32705777 0.76964886\n",
            "  0.40564603 0.85317647 0.54667349 0.8422917  1.04770324 0.22121995\n",
            "  0.         0.99753509 0.71613857 0.34457443 0.37211096 0.54299646\n",
            "  0.57749813 0.28372477 0.26419106 0.36577986 0.49579892 0.85396111\n",
            "  0.33190547 0.59174802 1.08390134 0.64723032 0.29533356 0.88599092\n",
            "  0.94281125 0.15656245 0.32862983 0.90461423 0.28348867 0.50253667\n",
            "  0.59775953 0.42542163 0.88205673 0.56372909 0.67568337 0.76401936\n",
            "  0.99776242 0.22415513 0.35375331 0.16489588 0.27896707 0.35222288\n",
            "  0.34418489 0.57099455 0.33303013 0.32882136 0.4820899  0.66145914\n",
            "  0.13999137 0.57063209 1.03533009 0.40283135 0.44227691 0.66434686\n",
            "  0.94126065 0.19463199 0.81043031 0.82664659 0.73006274 0.62951063\n",
            "  0.90879035 0.75344616 0.93909053 1.00751624 0.62798198 0.92570703\n",
            "  0.8148688  0.08155335 0.55857376 0.86602026 0.31237077 0.81823252\n",
            "  0.12049435 0.17354441 0.69908559 0.51428107 0.26139538 0.87626755\n",
            "  0.7909417  0.70076615 0.48897645 0.92343477 0.41910676 0.72215116\n",
            "  0.87749558 0.89648472 0.64747308 0.33190814]\n",
            " [0.83251849 0.27871216 0.51028763 0.48553329 0.18946875 0.17376757\n",
            "  0.2023018  0.28096317 0.21408689 0.45299368 0.81003518 0.92711987\n",
            "  0.59840322 0.3963678  0.66340864 0.80505765 0.05087447 1.11289967\n",
            "  0.99753509 0.         0.53329123 0.65649037 0.63204317 0.95167819\n",
            "  0.85864882 0.9514159  1.03686522 0.77090691 0.51650377 0.92413123\n",
            "  0.67224938 0.40585858 0.11456115 0.37964269 1.13457016 0.1289561\n",
            "  0.45560097 0.84211341 0.73358688 0.28793254 0.81421581 0.5987955\n",
            "  0.62183256 0.61585348 0.25674545 0.78760797 0.53072632 0.98174151\n",
            "  0.91520993 0.90091422 0.82622352 0.83643921 0.74419376 0.77119087\n",
            "  0.66767441 1.04290652 0.76130315 0.89149407 0.51818645 0.65933323\n",
            "  0.90587777 0.58944971 0.20503952 0.62454052 0.86574812 0.45067792\n",
            "  0.52053947 0.8032679  0.19325719 0.17108879 0.55100643 0.44518325\n",
            "  0.50608865 0.43552964 0.26855358 0.92946804 0.83176251 0.90262098\n",
            "  0.94392168 1.02494862 0.7131053  0.93487217 0.68551726 0.49003409\n",
            "  0.90032713 0.8641198  0.39562548 0.64695912 0.96045189 0.26216759\n",
            "  0.81290842 0.30309894 0.80166639 0.85430938 0.61781487 0.98301674\n",
            "  0.35204602 0.28940814 1.06250698 0.69458138]\n",
            " [0.32392738 0.28978326 0.39978162 0.05247778 0.46387419 0.35996044\n",
            "  0.42133558 0.34930774 0.46833686 0.09645475 0.41121067 0.39562084\n",
            "  0.47544988 0.17519055 0.73372449 0.29728994 0.56490008 0.73111469\n",
            "  0.71613857 0.53329123 0.         0.49121264 0.49103789 0.44271382\n",
            "  0.34097125 0.53711954 0.62735794 0.70862583 0.30999559 0.40508327\n",
            "  0.42584895 0.36456127 0.55111472 0.25347046 0.72200773 0.41062766\n",
            "  0.23423746 0.57766378 0.62999496 0.27808235 0.44292    0.21682515\n",
            "  0.13062407 0.55890898 0.28815979 0.27635122 0.04344214 0.44885189\n",
            "  0.4449636  0.52734143 0.40460393 0.60458436 0.44397913 0.37565225\n",
            "  0.40179969 0.53106233 0.38710449 0.46552954 0.42783809 0.12949013\n",
            "  0.58196689 0.67755888 0.43445175 0.54038743 0.39237293 0.61312962\n",
            "  0.22512804 0.5517833  0.4574819  0.43345807 0.02557562 0.56648423\n",
            "  0.19294337 0.09802256 0.31429169 0.45948496 0.30421199 0.40696687\n",
            "  0.4165192  0.7014009  0.21392914 0.41734448 0.4865064  0.10504378\n",
            "  0.67454988 0.66934221 0.16351277 0.20595298 0.55534292 0.28152522\n",
            "  0.28988512 0.43000706 0.82211772 0.36801183 0.55316732 0.44995626\n",
            "  0.21896903 0.27201546 0.53814565 0.39589499]\n",
            " [0.73886693 0.60990907 0.14820158 0.50550195 0.73185882 0.5451477\n",
            "  0.45420566 0.6853682  0.45117301 0.53233158 0.30292438 0.7179248\n",
            "  0.0616488  0.57971408 0.31224873 0.71971237 0.70707831 0.50025597\n",
            "  0.34457443 0.65649037 0.49121264 0.         0.0300871  0.56767029\n",
            "  0.53749388 0.4029362  0.4616348  0.22191808 0.19286268 0.77970787\n",
            "  0.09514862 0.25362301 0.74821477 0.33363462 0.54622622 0.55094127\n",
            "  0.68305226 0.1952318  0.13998406 0.60316586 0.27026347 0.29114526\n",
            "  0.41555745 0.12100679 0.57279075 0.48409212 0.44793051 0.73974667\n",
            "  0.88518497 0.32256728 0.34041669 0.18070363 0.16274949 0.28561063\n",
            "  0.12037059 0.63972888 0.25542379 0.37971257 0.13844258 0.4984116\n",
            "  0.28245138 0.29463454 0.71566296 0.09045617 0.43992365 0.34281091\n",
            "  0.70065979 0.15632741 0.46701425 0.48543404 0.51297999 0.29993017\n",
            "  0.66659174 0.48966243 0.63362161 0.89808974 0.56156561 0.82514988\n",
            "  0.7592768  0.38513655 0.43339257 0.79342207 0.04084934 0.57566323\n",
            "  0.24408618 0.21230093 0.41133044 0.34375504 0.39847385 0.56792536\n",
            "  0.681967   0.35679779 0.3519386  0.80401644 0.11223728 0.7104112\n",
            "  0.59162717 0.5952236  0.70029837 0.15558562]\n",
            " [0.74864756 0.59541882 0.12792834 0.5022535  0.71259965 0.52536445\n",
            "  0.42995655 0.67033627 0.42497286 0.52696305 0.32787919 0.73325094\n",
            "  0.03382354 0.57094341 0.29084267 0.72873796 0.68275559 0.53030597\n",
            "  0.37211096 0.63204317 0.49103789 0.0300871  0.         0.58992271\n",
            "  0.55583275 0.43149545 0.49131001 0.21774802 0.18588306 0.79264651\n",
            "  0.11689674 0.23205895 0.72559781 0.31942916 0.57624216 0.52894521\n",
            "  0.67567894 0.22450351 0.13984982 0.58910496 0.29704906 0.29815092\n",
            "  0.42255901 0.09627972 0.55729925 0.50017577 0.44808361 0.75699627\n",
            "  0.8939251  0.35179588 0.36476658 0.20753902 0.18977411 0.30847709\n",
            "  0.13981644 0.66370054 0.27891679 0.40629305 0.11425265 0.50599247\n",
            "  0.3125285  0.26871422 0.6972671  0.06638463 0.46251274 0.31284937\n",
            "  0.69598459 0.18581343 0.44148079 0.46118114 0.51357042 0.26984311\n",
            "  0.66195347 0.48349505 0.61858347 0.90704823 0.5774808  0.83541228\n",
            "  0.77393581 0.41443982 0.44633992 0.80639592 0.07061294 0.57182208\n",
            "  0.26845977 0.23324759 0.40185844 0.35424092 0.42752525 0.55266106\n",
            "  0.69266455 0.33094741 0.34084838 0.81265356 0.08758183 0.72881818\n",
            "  0.58058976 0.58124884 0.72291251 0.17732209]\n",
            " [0.36492942 0.73157179 0.59540582 0.49514833 0.90560618 0.78014659\n",
            "  0.79473545 0.79179996 0.82808365 0.53887856 0.27068226 0.24200308\n",
            "  0.60126851 0.61709093 0.87990629 0.3677309  0.99004858 0.42392519\n",
            "  0.54299646 0.95167819 0.44271382 0.56767029 0.58992271 0.\n",
            "  0.1044895  0.26022906 0.31370026 0.76043451 0.51492358 0.33261836\n",
            "  0.47322106 0.64119793 0.98674792 0.59109557 0.37481137 0.82309167\n",
            "  0.65261395 0.49175573 0.6805361  0.71991656 0.31406284 0.37400462\n",
            "  0.33104164 0.68616312 0.72523473 0.16708032 0.42977416 0.22361611\n",
            "  0.49183874 0.32544494 0.23168737 0.54080015 0.41262186 0.28212378\n",
            "  0.45045564 0.09127252 0.31272029 0.2207774  0.61616418 0.31656199\n",
            "  0.4180289  0.85625623 0.87656477 0.65623816 0.12789059 0.86322267\n",
            "  0.61488318 0.49701011 0.82715839 0.81697333 0.43587665 0.81257681\n",
            "  0.59376893 0.53487504 0.75658728 0.4982506  0.15769319 0.41691822\n",
            "  0.28517791 0.48157966 0.23890538 0.34241553 0.53356356 0.53246791\n",
            "  0.58273293 0.61310392 0.55609467 0.31277724 0.28358536 0.71841078\n",
            "  0.31251623 0.75441221 0.90253357 0.43181193 0.67749189 0.18009219\n",
            "  0.66165698 0.71349261 0.13332873 0.41264238]\n",
            " [0.28506534 0.6306194  0.54015831 0.39344141 0.80474581 0.68581463\n",
            "  0.71055569 0.68925585 0.74718506 0.43661588 0.26700138 0.19448442\n",
            "  0.56163471 0.51438833 0.84608305 0.28241085 0.89531257 0.49335449\n",
            "  0.57749813 0.85864882 0.34097125 0.53749388 0.55583275 0.1044895\n",
            "  0.         0.3084992  0.38012729 0.74518187 0.45224517 0.27646987\n",
            "  0.44263345 0.57192976 0.88871198 0.50868051 0.45512821 0.73083924\n",
            "  0.54812789 0.49859834 0.66256204 0.61892966 0.31472214 0.30270737\n",
            "  0.23710788 0.65041645 0.62622131 0.07227439 0.33124498 0.20377821\n",
            "  0.42450195 0.35336468 0.23129963 0.54477258 0.39665199 0.26332683\n",
            "  0.417163   0.19018443 0.294244   0.24960853 0.56360134 0.21324973\n",
            "  0.44231472 0.81451371 0.77540745 0.62175785 0.1354438  0.80599119\n",
            "  0.51077384 0.49557446 0.74418428 0.73097955 0.33282742 0.75502049\n",
            "  0.48935057 0.4350576  0.65525981 0.43312387 0.05928248 0.35073272\n",
            "  0.23953528 0.52681117 0.14844754 0.28861793 0.50819237 0.42848921\n",
            "  0.59657435 0.61894529 0.46365477 0.23682115 0.33238794 0.6194396\n",
            "  0.22712865 0.67932298 0.88448164 0.3556545  0.6420384  0.17299188\n",
            "  0.55951301 0.6127152  0.20485071 0.38320962]\n",
            " [0.59247279 0.79274674 0.48996515 0.58261713 0.95716333 0.79587782\n",
            "  0.76354244 0.86463232 0.78203849 0.62652876 0.14170201 0.49378903\n",
            "  0.45468541 0.70238644 0.70022674 0.58740985 0.99727135 0.19656714\n",
            "  0.28372477 0.9514159  0.53711954 0.4029362  0.43149545 0.26022906\n",
            "  0.3084992  0.         0.0907509  0.55069774 0.44307521 0.58135609\n",
            "  0.32473319 0.57133332 1.01403307 0.57198653 0.18823755 0.82554501\n",
            "  0.77102757 0.26278336 0.47998566 0.7821051  0.14351551 0.36225593\n",
            "  0.40662903 0.52209205 0.77237117 0.31407032 0.50522877 0.48299261\n",
            "  0.73293132 0.08554595 0.13410665 0.31225846 0.24376108 0.18108261\n",
            "  0.31364341 0.29003726 0.19074083 0.07193208 0.50081877 0.4453875\n",
            "  0.17030144 0.69498314 0.93193035 0.49185676 0.17626471 0.74022656\n",
            "  0.75265307 0.28178672 0.78908704 0.79166392 0.54287894 0.6935116\n",
            "  0.72391102 0.60390703 0.81946141 0.74134372 0.3645091  0.65891632\n",
            "  0.53862674 0.2218736  0.33661515 0.59262171 0.36252049 0.64170138\n",
            "  0.33846518 0.37758845 0.5825546  0.33699715 0.02397878 0.76572072\n",
            "  0.53309825 0.6929164  0.69236573 0.66358025 0.51347207 0.44015548\n",
            "  0.73802185 0.77438655 0.36548218 0.27627106]\n",
            " [0.66505244 0.88313344 0.56344481 0.67318551 1.04684914 0.88366919\n",
            "  0.84627666 0.9552176  0.86233279 0.71717021 0.23001682 0.55487489\n",
            "  0.51773862 0.79312083 0.7434548  0.66229216 1.08334434 0.11328882\n",
            "  0.26419106 1.03686522 0.62735794 0.4616348  0.49131001 0.31370026\n",
            "  0.38012729 0.0907509  0.         0.58127143 0.52451644 0.64473508\n",
            "  0.39335812 0.65032522 1.1019483  0.65818653 0.09843725 0.91193769\n",
            "  0.86104766 0.29452642 0.51846436 0.87253836 0.22320112 0.45187509\n",
            "  0.49677657 0.57645431 0.86227945 0.39558926 0.59584891 0.53606913\n",
            "  0.80097928 0.14239546 0.22484807 0.34009806 0.31163171 0.26960842\n",
            "  0.38638936 0.31903886 0.27578938 0.1618344  0.5715461  0.53271386\n",
            "  0.19288272 0.74619939 1.02184823 0.5470927  0.25558304 0.80375745\n",
            "  0.84149806 0.32252521 0.87057943 0.87497844 0.6326223  0.7589514\n",
            "  0.81317141 0.69465306 0.90985506 0.80841932 0.43837511 0.72625072\n",
            "  0.59862104 0.187342   0.42435867 0.65510003 0.42079668 0.73176336\n",
            "  0.3479173  0.3947371  0.67221502 0.42774804 0.07678267 0.85565494\n",
            "  0.60717455 0.77155276 0.71926919 0.7352001  0.56812902 0.49147148\n",
            "  0.82875044 0.86479616 0.39608817 0.35155169]\n",
            " [0.9598384  0.78918461 0.32469356 0.71830874 0.88453392 0.69867224\n",
            "  0.5791066  0.86127457 0.55696621 0.7409109  0.48980055 0.93172807\n",
            "  0.23483307 0.77953068 0.18415594 0.94111137 0.82118763 0.57781785\n",
            "  0.36577986 0.77090691 0.70862583 0.22191808 0.21774802 0.76043451\n",
            "  0.74518187 0.55069774 0.58127143 0.         0.40105168 0.99742939\n",
            "  0.3088871  0.41204824 0.87655438 0.51967738 0.64339596 0.68953213\n",
            "  0.88618984 0.28905525 0.08360478 0.78434559 0.4471548  0.51303418\n",
            "  0.63747224 0.16662952 0.74821798 0.69768178 0.66575553 0.94892769\n",
            "  1.10664364 0.46524128 0.52879193 0.24140327 0.34972911 0.48348306\n",
            "  0.33593864 0.82184959 0.45221742 0.55099167 0.30033777 0.7203018\n",
            "  0.38910625 0.22485719 0.87379781 0.17404711 0.63375729 0.35028368\n",
            "  0.91023263 0.26991528 0.57897279 0.60861371 0.73128151 0.33426256\n",
            "  0.87632191 0.69667219 0.81016752 1.11944092 0.77494413 1.04571481\n",
            "  0.97423676 0.43851539 0.65216393 1.01106614 0.24077895 0.78721629\n",
            "  0.24738077 0.19431277 0.61069552 0.5648764  0.53814027 0.74445306\n",
            "  0.90232827 0.47397098 0.14272428 1.02554726 0.16861966 0.91643701\n",
            "  0.78428767 0.7768654  0.88928696 0.36444749]\n",
            " [0.59296462 0.4234005  0.09576179 0.31725709 0.5592648  0.37822143\n",
            "  0.32194235 0.49961457 0.33902458 0.34108312 0.30562646 0.60429618\n",
            "  0.16639146 0.38686573 0.43051105 0.57040804 0.56474354 0.59646375\n",
            "  0.49579892 0.51650377 0.30999559 0.19286268 0.18588306 0.51492358\n",
            "  0.45224517 0.44307521 0.52451644 0.40105168 0.         0.65009892\n",
            "  0.16395256 0.1309352  0.59285012 0.15149566 0.62101776 0.39643004\n",
            "  0.49042384 0.33969956 0.32562185 0.41578911 0.30145049 0.15225505\n",
            "  0.26464043 0.24908749 0.38905905 0.38486859 0.2681359  0.63883908\n",
            "  0.7327328  0.38570229 0.33011073 0.34732855 0.22854531 0.26984311\n",
            "  0.15367412 0.60109822 0.25311629 0.39112986 0.12333291 0.34692622\n",
            "  0.39126335 0.38217446 0.53980602 0.23056534 0.39939307 0.35413418\n",
            "  0.51015925 0.30344894 0.34621153 0.35107309 0.33372953 0.30319004\n",
            "  0.47614285 0.29767267 0.44820825 0.74652188 0.45702719 0.68052168\n",
            "  0.6404415  0.5127859  0.31598111 0.66379214 0.20176944 0.38634136\n",
            "  0.41781684 0.39671446 0.21882576 0.21889219 0.44923511 0.38363705\n",
            "  0.54171827 0.25164164 0.51221697 0.65185717 0.24321014 0.61889368\n",
            "  0.3998859  0.40772133 0.64543624 0.17809764]\n",
            " [0.0965227  0.65406328 0.74552456 0.44463487 0.81524439 0.75505305\n",
            "  0.82641614 0.68776638 0.8730443  0.47195939 0.53910085 0.09101275\n",
            "  0.79090366 0.53034933 1.07431242 0.12230435 0.94877499 0.75610867\n",
            "  0.85396111 0.92413123 0.40508327 0.77970787 0.79264651 0.33261836\n",
            "  0.27646987 0.58135609 0.64473508 0.99742939 0.65009892 0.\n",
            "  0.6886752  0.74468111 0.91966801 0.64844865 0.70678657 0.80844286\n",
            "  0.50716263 0.7697779  0.91383287 0.64320132 0.58690274 0.50193656\n",
            "  0.3863773  0.88147255 0.6681946  0.30333855 0.42585577 0.13269189\n",
            "  0.16233277 0.62983433 0.50548098 0.8140401  0.65749607 0.52890041\n",
            "  0.66172646 0.36415945 0.55821399 0.52572172 0.77239181 0.30800284\n",
            "  0.71844269 1.03147875 0.78464887 0.85551934 0.41175678 0.9942453\n",
            "  0.44704474 0.76281465 0.86255521 0.83813571 0.38246285 0.94458956\n",
            "  0.44372641 0.49625786 0.67223087 0.16695574 0.22946154 0.08952271\n",
            "  0.05365625 0.80187688 0.3464034  0.01377224 0.75668621 0.43476181\n",
            "  0.86947614 0.88824542 0.56763197 0.43978267 0.60533219 0.66244507\n",
            "  0.11542457 0.82847798 1.13163525 0.12413419 0.87378485 0.17374525\n",
            "  0.57706506 0.639823   0.31064169 0.63364002]\n",
            " [0.6519577  0.58486486 0.17210939 0.44778942 0.72319462 0.54127467\n",
            "  0.4724039  0.66121693 0.47983095 0.47996491 0.21193672 0.62469669\n",
            "  0.1328376  0.53650579 0.40685531 0.63399047 0.72163349 0.44885734\n",
            "  0.33190547 0.67224938 0.42584895 0.09514862 0.11689674 0.47322106\n",
            "  0.44263345 0.32473319 0.39335812 0.3088871  0.16395256 0.6886752\n",
            "  0.         0.26861871 0.75398727 0.31544319 0.4844613  0.55646778\n",
            "  0.63440225 0.17575557 0.22528916 0.57672944 0.1847395  0.21380416\n",
            "  0.33541924 0.2131649  0.5519078  0.39057086 0.38252307 0.64525891\n",
            "  0.79948891 0.25103146 0.24824499 0.18688223 0.08181691 0.19158365\n",
            "  0.02712365 0.54688657 0.16210402 0.29262594 0.1782324  0.41626065\n",
            "  0.23486165 0.385128   0.70372191 0.18307014 0.34568893 0.41590467\n",
            "  0.64433193 0.14002806 0.49159517 0.50293705 0.4454354  0.36880458\n",
            "  0.61048599 0.440362   0.61016399 0.81203973 0.46805162 0.73736349\n",
            "  0.66656847 0.3527198  0.34330863 0.70233276 0.06815601 0.51846796\n",
            "  0.25819627 0.24497866 0.37407278 0.25824038 0.32402352 0.54631111\n",
            "  0.59390776 0.38614903 0.44402328 0.71866065 0.20445042 0.61547647\n",
            "  0.55529926 0.56861356 0.60611222 0.06061859]\n",
            " [0.67696215 0.37731736 0.10552557 0.35260641 0.48154183 0.29402075\n",
            "  0.20439241 0.44926605 0.2125152  0.36079249 0.43570526 0.70908734\n",
            "  0.19978572 0.38118323 0.38280711 0.65214196 0.45595707 0.71565762\n",
            "  0.59174802 0.40585858 0.36456127 0.25362301 0.23205895 0.64119793\n",
            "  0.57192976 0.57133332 0.65032522 0.41204824 0.1309352  0.74468111\n",
            "  0.26861871 0.         0.49469006 0.12017238 0.7454605  0.29731992\n",
            "  0.4895239  0.43626953 0.35357934 0.37279993 0.42845228 0.26945737\n",
            "  0.36127708 0.24542202 0.3361698  0.50193788 0.32981855 0.74892556\n",
            "  0.80759799 0.50946691 0.46096659 0.43168594 0.34482171 0.40051204\n",
            "  0.26756377 0.72880687 0.38267203 0.52146311 0.11902796 0.43667866\n",
            "  0.50345751 0.31929578 0.46745958 0.24227691 0.52876137 0.25058823\n",
            "  0.52476607 0.39740986 0.2230891  0.23527533 0.39011684 0.20245585\n",
            "  0.49238127 0.31586156 0.3981193  0.8219522  0.5697343  0.76342186\n",
            "  0.7417052  0.6203599  0.42884313 0.75807041 0.28018064 0.41234051\n",
            "  0.49742452 0.46507845 0.22147264 0.33514939 0.57614167 0.33243465\n",
            "  0.63168435 0.1215888  0.49290694 0.72878599 0.24373216 0.73309874\n",
            "  0.37826807 0.36545411 0.76986777 0.29929026]\n",
            " [0.82487048 0.2670385  0.60021563 0.49976171 0.1146337  0.21829331\n",
            "  0.2989789  0.23786511 0.32092169 0.46077358 0.87243524 0.93386312\n",
            "  0.6924747  0.39154228 0.77570825 0.79794045 0.07733069 1.18467785\n",
            "  1.08390134 0.11456115 0.55111472 0.74821477 0.72559781 0.98674792\n",
            "  0.88871198 1.01403307 1.1019483  0.87655438 0.59285012 0.91966801\n",
            "  0.75398727 0.49469006 0.         0.44627112 1.20031515 0.19794104\n",
            "  0.42416444 0.92747473 0.83472574 0.27837989 0.88190683 0.65379849\n",
            "  0.65618631 0.71784937 0.26301461 0.82003103 0.55752959 0.99119312\n",
            "  0.89066708 0.97050288 0.88444764 0.92597734 0.82118441 0.83296167\n",
            "  0.74636384 1.07714114 0.8266839  0.95036431 0.61137884 0.68048142\n",
            "  0.98404444 0.70153311 0.14218306 0.72412605 0.91229475 0.56370385\n",
            "  0.48984213 0.8893055  0.29792621 0.26857077 0.56466655 0.55574989\n",
            "  0.48258133 0.45431053 0.24748311 0.90438531 0.85520995 0.88742978\n",
            "  0.94541972 1.10551846 0.74854812 0.92926481 0.77426567 0.48780469\n",
            "  0.99211444 0.95881151 0.43757294 0.69405    1.02516722 0.26970628\n",
            "  0.81349208 0.40370898 0.91317092 0.8371993  0.71912649 0.99767491\n",
            "  0.34406064 0.28288136 1.08892984 0.76966132]\n",
            " [0.574077   0.27629614 0.19591501 0.23536127 0.40786417 0.22907271\n",
            "  0.20379561 0.35176847 0.23852945 0.2409035  0.43047423 0.62267582\n",
            "  0.29183931 0.26296279 0.50281372 0.54819052 0.42530416 0.73847841\n",
            "  0.64723032 0.37964269 0.25347046 0.33363462 0.31942916 0.59109557\n",
            "  0.50868051 0.57198653 0.65818653 0.51967738 0.15149566 0.64844865\n",
            "  0.31544319 0.12017238 0.44627112 0.         0.75623779 0.25375119\n",
            "  0.37115324 0.4911944  0.45343261 0.26973647 0.43650678 0.22278218\n",
            "  0.27872553 0.3548199  0.23955561 0.4364952  0.22392792 0.66791146\n",
            "  0.69842205 0.52457772 0.44686083 0.49779368 0.37668985 0.39155925\n",
            "  0.30407314 0.68174147 0.38239816 0.51194942 0.21934021 0.34365171\n",
            "  0.53948565 0.43935726 0.38832772 0.34600926 0.49304887 0.36116974\n",
            "  0.40472445 0.45484965 0.23613306 0.22748434 0.2789058  0.31621972\n",
            "  0.37224119 0.19618136 0.30003914 0.71295102 0.49566325 0.6589136\n",
            "  0.65131252 0.66213722 0.36042475 0.66143873 0.34933446 0.29272066\n",
            "  0.56772849 0.54363279 0.10154565 0.2785844  0.58156922 0.23450757\n",
            "  0.5335353  0.18013961 0.60981357 0.62127505 0.35165877 0.65773753\n",
            "  0.26461638 0.26185243 0.71259063 0.32436185]\n",
            " [0.7368669  0.9809769  0.6559551  0.76873648 1.14515448 0.98202834\n",
            "  0.9429521  1.05274028 0.95782061 0.81298367 0.32844108 0.61583575\n",
            "  0.60443084 0.88946978 0.81386051 0.73669681 1.18125391 0.07849302\n",
            "  0.29533356 1.13457016 0.72200773 0.54622622 0.57624216 0.37481137\n",
            "  0.45512821 0.18823755 0.09843725 0.64339596 0.62101776 0.70678657\n",
            "  0.4844613  0.7454605  1.20031515 0.75623779 0.         1.00997582\n",
            "  0.95496535 0.3662028  0.58801417 0.97032309 0.32040659 0.55017009\n",
            "  0.59140789 0.6568308  0.96048956 0.47995226 0.69165117 0.58919012\n",
            "  0.86664459 0.2359936  0.32205634 0.40679613 0.40344015 0.36803186\n",
            "  0.47959823 0.35749602 0.37391358 0.25767346 0.66247063 0.62274718\n",
            "  0.26655215 0.82281172 1.12005741 0.62838721 0.34080548 0.88900799\n",
            "  0.93313298 0.39888964 0.96665666 0.97189117 0.72620036 0.84569117\n",
            "  0.90558709 0.79151955 1.00768983 0.87293907 0.51435112 0.79172758\n",
            "  0.65773616 0.2139249  0.51547    0.71606193 0.50570852 0.82588894\n",
            "  0.39958438 0.4506904  0.77051588 0.52456942 0.17519604 0.953852\n",
            "  0.68117379 0.8662933  0.77625167 0.80536953 0.64879774 0.54386851\n",
            "  0.92576795 0.96261175 0.43143076 0.44618208]\n",
            " [0.71927522 0.19088518 0.40278661 0.36520409 0.19836026 0.05519493\n",
            "  0.11342367 0.22585955 0.15359159 0.33682704 0.68392255 0.80608253\n",
            "  0.49611795 0.29090882 0.60724684 0.69175376 0.1719212  0.9910003\n",
            "  0.88599092 0.1289561  0.41062766 0.55094127 0.52894521 0.82309167\n",
            "  0.73083924 0.82554501 0.91193769 0.68953213 0.39643004 0.80844286\n",
            "  0.55646778 0.29731992 0.19794104 0.25375119 1.00997582 0.\n",
            "  0.36923355 0.72959685 0.64245088 0.19658369 0.69007338 0.47056302\n",
            "  0.49380543 0.52708492 0.15563643 0.65953129 0.40490096 0.8593976\n",
            "  0.81223122 0.77773627 0.69897413 0.72816083 0.62497535 0.64482573\n",
            "  0.54953055 0.91434511 0.63614903 0.76447829 0.41494339 0.53436242\n",
            "  0.78762516 0.53321622 0.19424368 0.53101307 0.73687951 0.4039552\n",
            "  0.43039584 0.69138304 0.12844586 0.0892805  0.42989797 0.38467469\n",
            "  0.41030605 0.31406688 0.1921548  0.82674711 0.70542216 0.79336989\n",
            "  0.82513636 0.90850474 0.5847268  0.81973002 0.57643739 0.3789413\n",
            "  0.79460931 0.76216995 0.26730439 0.51803369 0.8353137  0.15904192\n",
            "  0.69537402 0.21657827 0.73983699 0.74675218 0.52763243 0.85881076\n",
            "  0.25211892 0.19500044 0.93507167 0.57406709]\n",
            " [0.4107107  0.17984219 0.56190183 0.19353954 0.31348045 0.31560987\n",
            "  0.43999125 0.18640975 0.49263617 0.15524707 0.64502981 0.53718999\n",
            "  0.65282062 0.10834187 0.8714509  0.38509546 0.46746606 0.96533721\n",
            "  0.94281125 0.45560097 0.23423746 0.68305226 0.67567894 0.65261395\n",
            "  0.54812789 0.77102757 0.86104766 0.88618984 0.49042384 0.50716263\n",
            "  0.63440225 0.4895239  0.42416444 0.37115324 0.95496535 0.36923355\n",
            "  0.         0.79817923 0.81465618 0.17289785 0.67522495 0.44032602\n",
            "  0.36441764 0.72391436 0.21414249 0.49342253 0.26998887 0.59727901\n",
            "  0.46650726 0.76082714 0.63881354 0.81967632 0.665885   0.60886544\n",
            "  0.61339672 0.73507035 0.61855543 0.69929822 0.58748816 0.34013521\n",
            "  0.81174219 0.80491416 0.28352218 0.71225642 0.62074406 0.70671832\n",
            "  0.06583573 0.76879195 0.4722043  0.43534584 0.2288091  0.66943966\n",
            "  0.06412636 0.19429441 0.18704756 0.48025484 0.49953305 0.46591194\n",
            "  0.54010342 0.93279687 0.44163963 0.51529616 0.68734868 0.1293385\n",
            "  0.89083469 0.87898087 0.2755333  0.43934302 0.78947934 0.21162628\n",
            "  0.41118713 0.49963845 0.98095468 0.4149906  0.72008434 0.61329059\n",
            "  0.12336571 0.17424149 0.7264255  0.61482984]\n",
            " [0.75256064 0.75940897 0.33283275 0.60695039 0.89889133 0.71634387\n",
            "  0.64047405 0.83574657 0.64226344 0.64293222 0.23162429 0.69270528\n",
            "  0.25685543 0.70467998 0.44941362 0.73924014 0.89210957 0.31130436\n",
            "  0.15656245 0.84211341 0.57766378 0.1952318  0.22450351 0.49175573\n",
            "  0.49859834 0.26278336 0.29452642 0.28905525 0.33969956 0.7697779\n",
            "  0.17575557 0.43626953 0.92747473 0.4911944  0.3662028  0.72959685\n",
            "  0.79817923 0.         0.22399022 0.75100223 0.18387892 0.36100212\n",
            "  0.46800991 0.29375172 0.72720223 0.46784527 0.53565843 0.69862411\n",
            "  0.90110885 0.17799542 0.26791263 0.04993169 0.13370822 0.24217058\n",
            "  0.18982793 0.54291566 0.2150956  0.27288005 0.32957522 0.53979712\n",
            "  0.10173044 0.45671006 0.87947616 0.26693056 0.37152111 0.53096513\n",
            "  0.8015872  0.03930394 0.65648993 0.67147278 0.5939708  0.49141669\n",
            "  0.76838004 0.60612364 0.7849457  0.91220204 0.54034685 0.83252305\n",
            "  0.73743843 0.18993862 0.44547448 0.78275255 0.15930943 0.67673485\n",
            "  0.10164627 0.12150568 0.54658279 0.38418843 0.24926167 0.72152344\n",
            "  0.69182158 0.54762024 0.42991071 0.8230523  0.28617055 0.66109517\n",
            "  0.72658634 0.7428745  0.61427087 0.18335613]\n",
            " [0.87650803 0.72726391 0.25765363 0.64206956 0.83342201 0.64608998\n",
            "  0.5357482  0.8009758  0.52020053 0.66668513 0.40993549 0.84840823\n",
            "  0.1622831  0.70922112 0.22587884 0.85795269 0.78438038 0.5276305\n",
            "  0.32862983 0.73358688 0.62999496 0.13998406 0.13984982 0.6805361\n",
            "  0.66256204 0.47998566 0.51846436 0.08360478 0.32562185 0.91383287\n",
            "  0.22528916 0.35357934 0.83472574 0.45343261 0.58801417 0.64245088\n",
            "  0.81465618 0.22399022 0.         0.72165153 0.36874135 0.43087837\n",
            "  0.55513954 0.11796247 0.68761204 0.6143046  0.58686029 0.86622577\n",
            "  1.02349894 0.39454387 0.44890452 0.18126212 0.26841936 0.40176085\n",
            "  0.25235006 0.74443928 0.37049326 0.47473654 0.23634853 0.63769275\n",
            "  0.32571987 0.24206932 0.8205207  0.1117808  0.55330471 0.3436551\n",
            "  0.83577695 0.19846102 0.54033015 0.56630555 0.65214812 0.31629766\n",
            "  0.8017545  0.62305751 0.74941279 1.03623877 0.69161937 0.96227559\n",
            "  0.89081076 0.39300228 0.56858097 0.92747212 0.15717432 0.7116718\n",
            "  0.20851566 0.15705669 0.53999871 0.48169    0.46932863 0.68340002\n",
            "  0.8188654  0.43136298 0.22245089 0.94245483 0.11578886 0.83422662\n",
            "  0.71697383 0.71395699 0.81046649 0.28104672]\n",
            " [0.54944784 0.01170675 0.46416173 0.22571538 0.18581626 0.14385157\n",
            "  0.27646168 0.08502822 0.32816731 0.18418669 0.64414625 0.65548341\n",
            "  0.56097101 0.11330385 0.74127241 0.52222587 0.30674955 0.96665068\n",
            "  0.90461423 0.28793254 0.27808235 0.60316586 0.58910496 0.71991656\n",
            "  0.61892966 0.7821051  0.87253836 0.78434559 0.41578911 0.64320132\n",
            "  0.57672944 0.37279993 0.27837989 0.26973647 0.97032309 0.19658369\n",
            "  0.17289785 0.75100223 0.72165153 0.         0.66361655 0.42247104\n",
            "  0.39466585 0.61787603 0.04439366 0.55296235 0.29180681 0.71288394\n",
            "  0.62728851 0.75313352 0.64839126 0.76257968 0.6269756  0.60495231\n",
            "  0.56119647 0.80887631 0.60591396 0.71356767 0.48567359 0.40721239\n",
            "  0.78579089 0.67063914 0.15666063 0.61234169 0.65846405 0.55880253\n",
            "  0.23545472 0.71664859 0.30599884 0.2674994  0.2890052  0.52729846\n",
            "  0.21854686 0.18594322 0.0375815  0.641538   0.58150423 0.61634344\n",
            "  0.66748518 0.90963738 0.48562001 0.65322636 0.61705055 0.20959874\n",
            "  0.83338214 0.81194559 0.20644103 0.44744135 0.7967617  0.0445656\n",
            "  0.53555323 0.35148724 0.86187676 0.56738489 0.61574164 0.72009104\n",
            "  0.06613946 0.00813015 0.8154931  0.57360976]\n",
            " [0.57431313 0.673652   0.34666113 0.482049   0.8320196  0.6637252\n",
            "  0.62309109 0.74787029 0.63984591 0.52349305 0.04785323 0.50890412\n",
            "  0.31703422 0.59495376 0.57809409 0.56282269 0.86108325 0.30429798\n",
            "  0.28348867 0.81421581 0.44292    0.27026347 0.29704906 0.31406284\n",
            "  0.31472214 0.14351551 0.22320112 0.4471548  0.30145049 0.58690274\n",
            "  0.1847395  0.42845228 0.88190683 0.43650678 0.32040659 0.69007338\n",
            "  0.67522495 0.18387892 0.36874135 0.66361655 0.         0.2419295\n",
            "  0.31854542 0.39122313 0.64925326 0.28690851 0.40524363 0.51521905\n",
            "  0.72209109 0.08967532 0.08454334 0.23061608 0.10751638 0.0691895\n",
            "  0.17116976 0.37579573 0.05783935 0.10948101 0.35826886 0.378369\n",
            "  0.14383113 0.56489301 0.80828275 0.36067051 0.18962258 0.60039888\n",
            "  0.66686341 0.18368418 0.6476353  0.65177993 0.45409642 0.55277666\n",
            "  0.63551109 0.4944826  0.7003043  0.73268548 0.35748295 0.65207772\n",
            "  0.55370436 0.25874889 0.27518298 0.59974638 0.23161443 0.54735413\n",
            "  0.28259039 0.30456441 0.45899381 0.23719603 0.14784621 0.64281452\n",
            "  0.51330919 0.54997294 0.5896574  0.64549695 0.3824626  0.47846394\n",
            "  0.62586152 0.65565951 0.44213815 0.1330554 ]\n",
            " [0.45156678 0.4327331  0.2454911  0.2472977  0.59498471 0.43651185\n",
            "  0.42562231 0.50635188 0.4556418  0.28586595 0.22223115 0.45266132\n",
            "  0.29162241 0.35430473 0.57270466 0.43099138 0.64222947 0.54418139\n",
            "  0.50253667 0.5987955  0.21682515 0.29114526 0.29815092 0.37400462\n",
            "  0.30270737 0.36225593 0.45187509 0.51303418 0.15225505 0.50193656\n",
            "  0.21380416 0.26945737 0.65379849 0.22278218 0.55017009 0.47056302\n",
            "  0.44032602 0.36100212 0.43087837 0.42247104 0.2419295  0.\n",
            "  0.12451814 0.38166641 0.41047717 0.233669   0.17465753 0.48658438\n",
            "  0.59593125 0.33107301 0.2307867  0.38803603 0.22742314 0.18279419\n",
            "  0.18820853 0.46330023 0.18409023 0.29673843 0.27153405 0.20784177\n",
            "  0.37239181 0.53002123 0.57003103 0.35736178 0.27041589 0.50594018\n",
            "  0.4406665  0.33504227 0.45643278 0.45017894 0.23421293 0.45506362\n",
            "  0.40759826 0.25373546 0.45944519 0.60915132 0.30483959 0.538767\n",
            "  0.48966524 0.49482064 0.16372644 0.51569405 0.27865364 0.31627384\n",
            "  0.45777974 0.45404181 0.22034598 0.0668052  0.37548858 0.40387979\n",
            "  0.39709436 0.38042803 0.63878088 0.51464469 0.37435904 0.46708623\n",
            "  0.38401146 0.41458283 0.50091105 0.17916237]\n",
            " [0.32921687 0.40612195 0.36037926 0.17834556 0.57892358 0.44948662\n",
            "  0.47664939 0.47177005 0.51606434 0.22313512 0.28358798 0.34800616\n",
            "  0.41498696 0.30126049 0.69314731 0.30768452 0.65929899 0.6011329\n",
            "  0.59775953 0.62183256 0.13062407 0.41555745 0.42255901 0.33104164\n",
            "  0.23710788 0.40662903 0.49677657 0.63747224 0.26464043 0.3863773\n",
            "  0.33541924 0.36127708 0.65618631 0.27872553 0.59140789 0.49380543\n",
            "  0.36441764 0.46800991 0.55513954 0.39466585 0.31854542 0.12451814\n",
            "  0.         0.50445289 0.39599764 0.16577542 0.10347619 0.39019311\n",
            "  0.47204724 0.40013615 0.27465159 0.50055133 0.3356488  0.2498981\n",
            "  0.30897892 0.42194743 0.26505066 0.33496372 0.3877207  0.08368263\n",
            "  0.46057059 0.64679215 0.55074528 0.4809489  0.26490059 0.60900249\n",
            "  0.34955989 0.44672281 0.51111985 0.49568099 0.13715673 0.55896742\n",
            "  0.31922892 0.20888979 0.43203793 0.48542133 0.21740693 0.41672464\n",
            "  0.38057131 0.57712263 0.09236351 0.39999564 0.40168554 0.2350818\n",
            "  0.56805169 0.56976034 0.22655809 0.08401304 0.42511203 0.38914423\n",
            "  0.27707973 0.45609463 0.76298197 0.39077402 0.49737627 0.37901273\n",
            "  0.3415524  0.38771752 0.44170913 0.29355383]\n",
            " [0.83312094 0.62262291 0.16274969 0.56308889 0.72018374 0.53354602\n",
            "  0.41895539 0.69464783 0.4023026  0.58225898 0.42359092 0.82497014\n",
            "  0.09058103 0.61646009 0.19567817 0.8120978  0.6666152  0.60499028\n",
            "  0.42542163 0.61585348 0.55890898 0.12100679 0.09627972 0.68616312\n",
            "  0.65041645 0.52209205 0.57645431 0.16662952 0.24908749 0.88147255\n",
            "  0.2131649  0.24542202 0.71784937 0.3548199  0.6568308  0.52708492\n",
            "  0.72391436 0.29375172 0.11796247 0.61787603 0.39122313 0.38166641\n",
            "  0.50445289 0.         0.58159137 0.59305136 0.51721705 0.8505376\n",
            "  0.97637884 0.44011119 0.4607581  0.26373608 0.28370875 0.40474854\n",
            "  0.23585179 0.75985272 0.37510771 0.50068992 0.13644943 0.58811268\n",
            "  0.39038354 0.17369275 0.7085654  0.03055424 0.55878877 0.23924471\n",
            "  0.75122409 0.25839869 0.42261936 0.44928896 0.58278681 0.2048592\n",
            "  0.71758153 0.53741865 0.64354026 0.98983022 0.67004074 0.92040169\n",
            "  0.86486985 0.47955713 0.5361709  0.89524353 0.16012009 0.63035448\n",
            "  0.30986022 0.26339612 0.44862743 0.44172097 0.51638962 0.57784138\n",
            "  0.77866099 0.31417888 0.26321581 0.89514126 0.0087746  0.82330005\n",
            "  0.61926088 0.61043167 0.81918098 0.2735968 ]\n",
            " [0.57597311 0.04378954 0.43093937 0.23710648 0.18532248 0.10148865\n",
            "  0.23206831 0.11336384 0.28380929 0.19983126 0.63269145 0.67522613\n",
            "  0.52818368 0.1397534  0.70003543 0.54854448 0.28110802 0.95333124\n",
            "  0.88205673 0.25674545 0.28815979 0.57279075 0.55729925 0.72523473\n",
            "  0.62622131 0.77237117 0.86227945 0.74821798 0.38905905 0.6681946\n",
            "  0.5519078  0.3361698  0.26301461 0.23955561 0.96048956 0.15563643\n",
            "  0.21414249 0.72720223 0.68761204 0.04439366 0.64925326 0.41047717\n",
            "  0.39599764 0.58159137 0.         0.55823327 0.29547401 0.73142687\n",
            "  0.66057845 0.73892857 0.63953813 0.7363727  0.60621597 0.59320398\n",
            "  0.53789876 0.81522017 0.59194719 0.70522883 0.45126892 0.41747498\n",
            "  0.76685184 0.62888607 0.15956929 0.57739522 0.65669566 0.51532999\n",
            "  0.27476023 0.69191058 0.26175215 0.22344715 0.3023764  0.48465377\n",
            "  0.25516476 0.19136985 0.06195117 0.67497352 0.5921972  0.64601313\n",
            "  0.68974544 0.89063444 0.48810991 0.67872602 0.58880393 0.23356072\n",
            "  0.80669982 0.78318789 0.19042322 0.44157417 0.7859608  0.00685744\n",
            "  0.55815188 0.30847112 0.82228488 0.59798812 0.57982631 0.73609916\n",
            "  0.09729711 0.04061192 0.82592909 0.55288351]\n",
            " [0.28828605 0.56460608 0.4749806  0.32866145 0.73859276 0.61515734\n",
            "  0.63828131 0.62565806 0.67501709 0.37274481 0.23973326 0.23417293\n",
            "  0.50317025 0.45128181 0.78847869 0.27879355 0.82488571 0.5079564\n",
            "  0.56372909 0.78760797 0.27635122 0.48409212 0.50017577 0.16708032\n",
            "  0.07227439 0.31407032 0.39558926 0.69768178 0.38486859 0.30333855\n",
            "  0.39057086 0.50193788 0.82003103 0.4364952  0.47995226 0.65953129\n",
            "  0.49342253 0.46784527 0.6143046  0.55296235 0.28690851 0.233669\n",
            "  0.16577542 0.59305136 0.55823327 0.         0.26275943 0.25784419\n",
            "  0.43537769 0.34196202 0.20998954 0.5112089  0.35436381 0.22601838\n",
            "  0.3641466  0.25711011 0.25495829 0.24651994 0.49934414 0.15346827\n",
            "  0.42475862 0.75348385 0.70962218 0.56524654 0.14005251 0.73900276\n",
            "  0.46166458 0.45962763 0.67192285 0.65874943 0.27104891 0.68805659\n",
            "  0.43748391 0.36779727 0.58972587 0.44582758 0.07749074 0.36519624\n",
            "  0.27661022 0.52182984 0.07617387 0.31663328 0.45782312 0.36954839\n",
            "  0.56842461 0.58532004 0.39223757 0.16706904 0.3369021  0.55141514\n",
            "  0.22730071 0.60788767 0.83455472 0.35979806 0.58488102 0.23434461\n",
            "  0.49528071 0.54649238 0.27700331 0.3332581 ]\n",
            " [0.35017745 0.3033375  0.35921532 0.07757388 0.47675231 0.35702883\n",
            "  0.40404481 0.3683016  0.4486995  0.1213432  0.37563164 0.40753746\n",
            "  0.43301138 0.19845506 0.69411878 0.32442287 0.5653909  0.69752894\n",
            "  0.67568337 0.53072632 0.04344214 0.44793051 0.44808361 0.42977416\n",
            "  0.33124498 0.50522877 0.59584891 0.66575553 0.2681359  0.42585577\n",
            "  0.38252307 0.32981855 0.55752959 0.22392792 0.69165117 0.40490096\n",
            "  0.26998887 0.53565843 0.58686029 0.29180681 0.40524363 0.17465753\n",
            "  0.10347619 0.51721705 0.29547401 0.26275943 0.         0.45766881\n",
            "  0.47777973 0.49104565 0.37166304 0.56187268 0.40206809 0.33902513\n",
            "  0.35859921 0.5197825  0.34870112 0.43420577 0.3873374  0.12994742\n",
            "  0.54265933 0.63934481 0.44822781 0.49818203 0.36835524 0.57983332\n",
            "  0.26609292 0.50924077 0.43985392 0.4188819  0.06567128 0.53225978\n",
            "  0.23322867 0.10586508 0.3290446  0.4921401  0.30107018 0.43537086\n",
            "  0.43232854 0.66306601 0.19381758 0.43863212 0.44306428 0.14272537\n",
            "  0.63202234 0.626233   0.14432381 0.16991312 0.52257162 0.28865578\n",
            "  0.31055103 0.40324991 0.78034581 0.39918662 0.51132855 0.45447556\n",
            "  0.23808974 0.28501304 0.53301339 0.35340291]\n",
            " [0.20786029 0.72431642 0.73098758 0.49633915 0.89327057 0.80872655\n",
            "  0.86042878 0.76816258 0.90289242 0.53160389 0.46803092 0.06049845\n",
            "  0.76086015 0.60007606 1.0460931  0.22559967 1.0116375  0.64431607\n",
            "  0.76401936 0.98174151 0.44885189 0.73974667 0.75699627 0.22361611\n",
            "  0.20377821 0.48299261 0.53606913 0.94892769 0.63883908 0.13269189\n",
            "  0.64525891 0.74892556 0.99119312 0.66791146 0.58919012 0.8593976\n",
            "  0.59727901 0.69862411 0.86622577 0.71288394 0.51521905 0.48658438\n",
            "  0.39019311 0.8505376  0.73142687 0.25784419 0.45766881 0.\n",
            "  0.29288297 0.54272218 0.43079738 0.7458349  0.60035639 0.46682838\n",
            "  0.61939647 0.23712227 0.49785633 0.43678265 0.75597685 0.32819757\n",
            "  0.63450125 1.01120012 0.86270522 0.82245121 0.32783488 0.99205065\n",
            "  0.54300553 0.69774857 0.89585314 0.87635204 0.43077323 0.94128789\n",
            "  0.53320985 0.54626277 0.74537741 0.29570238 0.18221654 0.22197133\n",
            "  0.0790891  0.70475395 0.32286165 0.13733695 0.71139108 0.50424615\n",
            "  0.79451627 0.819728   0.60168208 0.42004353 0.5065876  0.72513337\n",
            "  0.18697681 0.846232   1.08797745 0.25451516 0.84230477 0.04533765\n",
            "  0.64764791 0.70831674 0.17850676 0.58632958]\n",
            " [0.14878723 0.63671251 0.82795398 0.46968839 0.77925719 0.75710179\n",
            "  0.85171244 0.65284787 0.90207728 0.48325983 0.67508888 0.2526055\n",
            "  0.88703417 0.52166549 1.16320064 0.16554837 0.93176506 0.91332009\n",
            "  0.99776242 0.91520993 0.4449636  0.88518497 0.8939251  0.49183874\n",
            "  0.42450195 0.73293132 0.80097928 1.10664364 0.7327328  0.16233277\n",
            "  0.79948891 0.80759799 0.89066708 0.69842205 0.86664459 0.81223122\n",
            "  0.46650726 0.90110885 1.02349894 0.62728851 0.72209109 0.59593125\n",
            "  0.47204724 0.97637884 0.66057845 0.43537769 0.47777973 0.29288297\n",
            "  0.         0.77427442 0.64472054 0.94245314 0.78032351 0.65907744\n",
            "  0.7723985  0.52648893 0.68623468 0.67295969 0.85586886 0.38836664\n",
            "  0.85960746 1.11305312 0.74963773 0.95298834 0.55899647 1.0574336\n",
            "  0.40084882 0.88960667 0.88761095 0.8577256  0.41951747 1.01003742\n",
            "  0.4100948  0.51859251 0.64952786 0.01468672 0.37040809 0.07493049\n",
            "  0.21511885 0.95073232 0.45947923 0.15572615 0.86738132 0.43548392\n",
            "  1.0023523  1.01589277 0.60492104 0.54180919 0.7568469  0.65591057\n",
            "  0.20929373 0.87337473 1.23469066 0.08128833 0.96936918 0.33551767\n",
            "  0.56371115 0.62589004 0.47138117 0.74930066]\n",
            " [0.62920071 0.76321063 0.42114123 0.56831558 0.9216221  0.75246676\n",
            "  0.70757666 0.83729218 0.72184108 0.6104599  0.11655806 0.54598821\n",
            "  0.3769523  0.68296527 0.6155187  0.62070919 0.94826116 0.21476163\n",
            "  0.22415513 0.90091422 0.52734143 0.32256728 0.35179588 0.32544494\n",
            "  0.35336468 0.08554595 0.14239546 0.46524128 0.38570229 0.62983433\n",
            "  0.25103146 0.50946691 0.97050288 0.52457772 0.2359936  0.77773627\n",
            "  0.76082714 0.17799542 0.39454387 0.75313352 0.08967532 0.33107301\n",
            "  0.40013615 0.44011119 0.73892857 0.34196202 0.49104565 0.54272218\n",
            "  0.77427442 0.         0.13385073 0.227751   0.16926137 0.15203079\n",
            "  0.24419665 0.36775531 0.14722204 0.10593971 0.42917626 0.45294172\n",
            "  0.09259549 0.6121726  0.89794383 0.41015562 0.21827816 0.66317195\n",
            "  0.74966641 0.19625856 0.73084387 0.73677243 0.5369755  0.61768751\n",
            "  0.71899839 0.58266855 0.78987474 0.78382936 0.40411587 0.70187253\n",
            "  0.5912284  0.18134829 0.34578079 0.64193434 0.28179379 0.63224151\n",
            "  0.25929773 0.29509009 0.54866201 0.32152168 0.07633435 0.7324895\n",
            "  0.5684766  0.63034643 0.60705954 0.70082402 0.43158767 0.50202496\n",
            "  0.71468334 0.74518909 0.44111669 0.21019411]\n",
            " [0.4982121  0.6591045  0.39282208 0.44916748 0.82461881 0.66682324\n",
            "  0.64397986 0.7306849  0.6668874  0.49285509 0.03899612 0.42576275\n",
            "  0.38020087 0.56840577 0.65198497 0.48857584 0.87089283 0.3265293\n",
            "  0.35375331 0.82622352 0.40460393 0.34041669 0.36476658 0.23168737\n",
            "  0.23129963 0.13410665 0.22484807 0.52879193 0.33011073 0.50548098\n",
            "  0.24824499 0.46096659 0.88444764 0.44686083 0.32205634 0.69897413\n",
            "  0.63881354 0.26791263 0.44890452 0.64839126 0.08454334 0.2307867\n",
            "  0.27465159 0.4607581  0.63953813 0.20998954 0.37166304 0.43079738\n",
            "  0.64472054 0.13385073 0.         0.31509013 0.18156461 0.06124877\n",
            "  0.22856753 0.29934618 0.08666518 0.06595222 0.40893911 0.32092038\n",
            "  0.21490322 0.63333887 0.79901228 0.43037868 0.10548893 0.65604738\n",
            "  0.62305218 0.26803494 0.67167753 0.67087379 0.41163376 0.6067594\n",
            "  0.59345022 0.46980536 0.68580327 0.65480698 0.27669343 0.57345013\n",
            "  0.47074391 0.31517086 0.21282425 0.51811219 0.30435439 0.50950559\n",
            "  0.36527738 0.38893083 0.45035021 0.20293168 0.15092138 0.63284624\n",
            "  0.43725904 0.58164137 0.67084622 0.56976125 0.45199819 0.39392159\n",
            "  0.60391707 0.64071144 0.36204757 0.18914936]\n",
            " [0.79370645 0.77044872 0.32640411 0.63070105 0.90349684 0.71863662\n",
            "  0.63415491 0.84674354 0.63187225 0.66471776 0.27795796 0.73839141\n",
            "  0.2412192  0.72305089 0.4070672  0.77948605 0.88689336 0.34707753\n",
            "  0.16489588 0.83643921 0.60458436 0.18070363 0.20753902 0.54080015\n",
            "  0.54477258 0.31225846 0.34009806 0.24140327 0.34732855 0.8140401\n",
            "  0.18688223 0.43168594 0.92597734 0.49779368 0.40679613 0.72816083\n",
            "  0.81967632 0.04993169 0.18126212 0.76257968 0.23061608 0.38803603\n",
            "  0.50055133 0.26373608 0.7363727  0.5112089  0.56187268 0.7458349\n",
            "  0.94245314 0.227751   0.31509013 0.         0.16537551 0.28521484\n",
            "  0.2063298  0.59278629 0.25662581 0.32251237 0.31898831 0.57518739\n",
            "  0.14770377 0.41946751 0.88543132 0.2394782  0.41948079 0.50291614\n",
            "  0.8266561  0.05390298 0.64764026 0.66535369 0.62221928 0.46623882\n",
            "  0.79308476 0.62612703 0.79544052 0.95382977 0.58487183 0.87482737\n",
            "  0.78292046 0.21625347 0.48460681 0.82714239 0.15172452 0.70108893\n",
            "  0.07135233 0.07426368 0.56087327 0.41751719 0.298143   0.73096529\n",
            "  0.73323368 0.53749592 0.38123059 0.86370384 0.25688033 0.70887172\n",
            "  0.74217403 0.75448162 0.6639608  0.20893797]\n",
            " [0.63156162 0.63595694 0.25251495 0.47393599 0.78309873 0.60547446\n",
            "  0.54664494 0.71199708 0.55717037 0.51071405 0.14292447 0.58644847\n",
            "  0.21116052 0.57444544 0.47164572 0.61635077 0.79284341 0.37084715\n",
            "  0.27896707 0.74419376 0.44397913 0.16274949 0.18977411 0.41262186\n",
            "  0.39665199 0.24376108 0.31163171 0.34972911 0.22854531 0.65749607\n",
            "  0.08181691 0.34482171 0.82118441 0.37668985 0.40344015 0.62497535\n",
            "  0.665885   0.13370822 0.26841936 0.6269756  0.10751638 0.22742314\n",
            "  0.3356488  0.28370875 0.60621597 0.35436381 0.40206809 0.60035639\n",
            "  0.78032351 0.16926137 0.18156461 0.16537551 0.         0.13384\n",
            "  0.07726419 0.48007188 0.10262182 0.2169825  0.2599167  0.40982051\n",
            "  0.16290917 0.45737667 0.76187844 0.25315559 0.28507008 0.49646833\n",
            "  0.66808468 0.11147854 0.56770663 0.57667157 0.46028803 0.44994805\n",
            "  0.63496635 0.47503277 0.66200386 0.79205145 0.43038668 0.71416961\n",
            "  0.63002511 0.28555054 0.32112426 0.67087223 0.12432589 0.54346192\n",
            "  0.23247094 0.23676982 0.42086767 0.25229941 0.2423465  0.60022919\n",
            "  0.57157056 0.46435633 0.49082978 0.70087132 0.27494736 0.56697595\n",
            "  0.59856581 0.61885518 0.54359921 0.05338112]\n",
            " [0.51066474 0.61531953 0.33162977 0.41628594 0.7774578  0.61479546\n",
            "  0.5861024  0.68847283 0.60764856 0.4585184  0.03959162 0.45480376\n",
            "  0.32198331 0.53152249 0.59785834 0.49798955 0.81665591 0.36213738\n",
            "  0.35222288 0.77119087 0.37565225 0.28561063 0.30847709 0.28212378\n",
            "  0.26332683 0.18108261 0.26960842 0.48348306 0.26984311 0.52890041\n",
            "  0.19158365 0.40051204 0.83296167 0.39155925 0.36803186 0.64482573\n",
            "  0.60886544 0.24217058 0.40176085 0.60495231 0.0691895  0.18279419\n",
            "  0.2498981  0.40474854 0.59320398 0.22601838 0.33902513 0.46682838\n",
            "  0.65907744 0.15203079 0.06124877 0.28521484 0.13384    0.\n",
            "  0.17013324 0.35568582 0.03127339 0.12176183 0.34802898 0.3093212\n",
            "  0.21287061 0.57624485 0.7527293  0.37462054 0.15431621 0.59542956\n",
            "  0.59884868 0.23402461 0.61308432 0.61350645 0.3860261  0.54597004\n",
            "  0.56779479 0.43146081 0.64204327 0.67008713 0.3000038  0.59035831\n",
            "  0.49890767 0.32724107 0.20725178 0.54204952 0.25163786 0.4804323\n",
            "  0.34327611 0.35937276 0.40291125 0.16970543 0.19297558 0.58662448\n",
            "  0.44983086 0.52148423 0.62420548 0.58140686 0.3960329  0.43314103\n",
            "  0.56423854 0.59710626 0.41469861 0.13131469]\n",
            " [0.62484087 0.56965392 0.17713476 0.42528366 0.71176924 0.53183654\n",
            "  0.46956046 0.64597794 0.47994763 0.45854014 0.1936532  0.59819625\n",
            "  0.15186832 0.51700793 0.43061029 0.6069087  0.71655205 0.44811134\n",
            "  0.34418489 0.66767441 0.40179969 0.12037059 0.13981644 0.45045564\n",
            "  0.417163   0.31364341 0.38638936 0.33593864 0.15367412 0.66172646\n",
            "  0.02712365 0.26756377 0.74636384 0.30407314 0.47959823 0.54953055\n",
            "  0.61339672 0.18982793 0.25235006 0.56119647 0.17116976 0.18820853\n",
            "  0.30897892 0.23585179 0.53789876 0.3641466  0.35859921 0.61939647\n",
            "  0.7723985  0.24419665 0.22856753 0.2063298  0.07726419 0.17013324\n",
            "  0.         0.52580849 0.14190997 0.27662663 0.18721069 0.38949765\n",
            "  0.23830858 0.40625877 0.69149186 0.2061969  0.32338508 0.43018164\n",
            "  0.62166118 0.15665061 0.49044724 0.49968223 0.42090937 0.38201981\n",
            "  0.58791969 0.41980056 0.59526435 0.78493764 0.44163729 0.71024033\n",
            "  0.63991959 0.35916503 0.31623161 0.67539197 0.09526174 0.49586876\n",
            "  0.27759355 0.2677462  0.35690164 0.231277   0.31482271 0.5321378\n",
            "  0.56678509 0.38729901 0.47063644 0.69158783 0.22722604 0.59010955\n",
            "  0.53738777 0.55306794 0.58360045 0.03955949]\n",
            " [0.41565259 0.8205565  0.67848588 0.58353967 0.99467634 0.87124745\n",
            "  0.88547329 0.87942118 0.91824361 0.62679728 0.33733757 0.27482993\n",
            "  0.67762202 0.70454423 0.95127654 0.42355528 1.08113361 0.41933116\n",
            "  0.57099455 1.04290652 0.53106233 0.63972888 0.66370054 0.09127252\n",
            "  0.19018443 0.29003726 0.31903886 0.82184959 0.60109822 0.36415945\n",
            "  0.54688657 0.72880687 1.07714114 0.68174147 0.35749602 0.91434511\n",
            "  0.73507035 0.54291566 0.74443928 0.80887631 0.37579573 0.46330023\n",
            "  0.42194743 0.75985272 0.81522017 0.25711011 0.5197825  0.23712227\n",
            "  0.52648893 0.36775531 0.29934618 0.59278629 0.48007188 0.35568582\n",
            "  0.52580849 0.         0.38479042 0.27128071 0.69805733 0.4033537\n",
            "  0.45862192 0.93188045 0.96542851 0.72954349 0.20435498 0.94587801\n",
            "  0.69402016 0.55361359 0.9176916  0.90793446 0.52294644 0.89553199\n",
            "  0.67477393 0.62443414 0.84531377 0.53062708 0.23561228 0.45298558\n",
            "  0.31175816 0.50144635 0.32997577 0.37131522 0.60358603 0.61783264\n",
            "  0.62670802 0.66237389 0.6473029  0.40320983 0.31068716 0.80841103\n",
            "  0.3705565  0.84335078 0.96455712 0.47667278 0.75110515 0.19233758\n",
            "  0.74969313 0.80258654 0.07712286 0.48693329]\n",
            " [0.53759483 0.61598923 0.30862027 0.42517749 0.77509121 0.60839917\n",
            "  0.57283203 0.69010762 0.5920909  0.46626654 0.05380252 0.48510578\n",
            "  0.29362146 0.53730838 0.56759154 0.52414585 0.8075981  0.36138738\n",
            "  0.33303013 0.76130315 0.38710449 0.25542379 0.27891679 0.31272029\n",
            "  0.294244   0.19074083 0.27578938 0.45221742 0.25311629 0.55821399\n",
            "  0.16210402 0.38267203 0.8266839  0.38239816 0.37391358 0.63614903\n",
            "  0.61855543 0.2150956  0.37049326 0.60591396 0.05783935 0.18409023\n",
            "  0.26505066 0.37510771 0.59194719 0.25495829 0.34870112 0.49785633\n",
            "  0.68623468 0.14722204 0.08666518 0.25662581 0.10262182 0.03127339\n",
            "  0.14190997 0.38479042 0.         0.13966513 0.32356833 0.32951999\n",
            "  0.19560367 0.54719291 0.75112254 0.34485702 0.18483225 0.57002935\n",
            "  0.61166397 0.20468014 0.5986421  0.6009236  0.39918551 0.52100702\n",
            "  0.57996544 0.43680021 0.64265499 0.69746111 0.32978524 0.61823009\n",
            "  0.52903841 0.31440025 0.23098569 0.57144094 0.22084915 0.49113745\n",
            "  0.31663995 0.3305613  0.40159332 0.1822611  0.19919579 0.58547938\n",
            "  0.47694555 0.50414829 0.59293993 0.60798224 0.36636878 0.46435837\n",
            "  0.56803315 0.59796782 0.44498599 0.10254038]\n",
            " [0.52981608 0.72434772 0.44790932 0.51145968 0.89037312 0.73268045\n",
            "  0.7077615  0.79552242 0.72934655 0.5555476  0.08597201 0.44083303\n",
            "  0.42539597 0.63182738 0.68707856 0.52312186 0.93639808 0.26824449\n",
            "  0.32882136 0.89149407 0.46552954 0.37971257 0.40629305 0.2207774\n",
            "  0.24960853 0.07193208 0.1618344  0.55099167 0.39112986 0.52572172\n",
            "  0.29262594 0.52146311 0.95036431 0.51194942 0.25767346 0.76447829\n",
            "  0.69929822 0.27288005 0.47473654 0.71356767 0.10948101 0.29673843\n",
            "  0.33496372 0.50068992 0.70522883 0.24651994 0.43420577 0.43678265\n",
            "  0.67295969 0.10593971 0.06595222 0.32251237 0.2169825  0.12176183\n",
            "  0.27662663 0.27128071 0.13966513 0.         0.46192369 0.37385288\n",
            "  0.19801296 0.67434711 0.86465234 0.47013625 0.11419802 0.706799\n",
            "  0.68072625 0.28233322 0.73484494 0.73501847 0.47102952 0.65843231\n",
            "  0.65198598 0.5338843  0.75102659 0.68204334 0.30266209 0.59978983\n",
            "  0.48604932 0.27781225 0.26501188 0.53760054 0.34107359 0.56999124\n",
            "  0.36198525 0.39361076 0.51622102 0.26697757 0.09238194 0.69852389\n",
            "  0.46964786 0.64270153 0.69371398 0.60130999 0.4919274  0.39619239\n",
            "  0.66817174 0.70592796 0.34145996 0.23731151]\n",
            " [0.71628391 0.49109186 0.0281432  0.42871679 0.60056198 0.41304776\n",
            "  0.31596085 0.56463265 0.3132436  0.44639729 0.37707177 0.72398295\n",
            "  0.08117464 0.48013279 0.30771577 0.69373505 0.56883132 0.6243161\n",
            "  0.4820899  0.51818645 0.42783809 0.13844258 0.11425265 0.61616418\n",
            "  0.56360134 0.50081877 0.5715461  0.30033777 0.12333291 0.77239181\n",
            "  0.1782324  0.11902796 0.61137884 0.21934021 0.66247063 0.41494339\n",
            "  0.58748816 0.32957522 0.23634853 0.48567359 0.35826886 0.27153405\n",
            "  0.3877207  0.13644943 0.45126892 0.49934414 0.3873374  0.75597685\n",
            "  0.85586886 0.42917626 0.40893911 0.31898831 0.2599167  0.34802898\n",
            "  0.18721069 0.69805733 0.32356833 0.46192369 0.         0.47022535\n",
            "  0.40736352 0.259174   0.58625404 0.12686072 0.49372832 0.24796621\n",
            "  0.61512272 0.2902717  0.32865414 0.34719332 0.45235634 0.19805136\n",
            "  0.58156783 0.40142681 0.51308704 0.86969913 0.57376039 0.80384276\n",
            "  0.76119688 0.51800224 0.43409157 0.78611433 0.17033762 0.49506749\n",
            "  0.38214917 0.34743297 0.31217944 0.33680565 0.50143726 0.44708378\n",
            "  0.66477019 0.21868348 0.39715353 0.77506439 0.13267599 0.73357055\n",
            "  0.48395046 0.47804265 0.74888045 0.22541933]\n",
            " [0.24608819 0.41891907 0.44266511 0.18155453 0.59287159 0.48557355\n",
            "  0.5323671  0.47609505 0.57556311 0.22382179 0.33795237 0.2797502\n",
            "  0.49866845 0.30120954 0.77635461 0.2241213  0.69259026 0.64195435\n",
            "  0.66145914 0.65933323 0.12949013 0.4984116  0.50599247 0.31656199\n",
            "  0.21324973 0.4453875  0.53271386 0.7203018  0.34692622 0.30800284\n",
            "  0.41626065 0.43667866 0.68048142 0.34365171 0.62274718 0.53436242\n",
            "  0.34013521 0.53979712 0.63769275 0.40721239 0.378369   0.20784177\n",
            "  0.08368263 0.58811268 0.41747498 0.15346827 0.12994742 0.32819757\n",
            "  0.38836664 0.45294172 0.32092038 0.57518739 0.40982051 0.3093212\n",
            "  0.38949765 0.4033537  0.32951999 0.37385288 0.47022535 0.\n",
            "  0.52217427 0.72900043 0.56325048 0.56462414 0.28345863 0.6863829\n",
            "  0.31116317 0.52129738 0.56790639 0.54817258 0.11959279 0.63689882\n",
            "  0.2853849  0.22648839 0.44307331 0.40174075 0.17474398 0.3336481\n",
            "  0.30770857 0.63347762 0.10886324 0.32140539 0.48323787 0.21636756\n",
            "  0.64092037 0.64596563 0.27352543 0.15904426 0.46617871 0.41080625\n",
            "  0.19587958 0.52361665 0.84655264 0.30709177 0.58105098 0.32459308\n",
            "  0.34665686 0.40128687 0.40865557 0.37121554]\n",
            " [0.71304057 0.79513782 0.40536796 0.61821385 0.94522121 0.76835638\n",
            "  0.70695136 0.87076289 0.71452312 0.65801897 0.1870971  0.63602276\n",
            "  0.34244413 0.7262694  0.55107622 0.70295489 0.95484257 0.21799197\n",
            "  0.13999137 0.90587777 0.58196689 0.28245138 0.3125285  0.4180289\n",
            "  0.44231472 0.17030144 0.19288272 0.38910625 0.39126335 0.71844269\n",
            "  0.23486165 0.50345751 0.98404444 0.53948565 0.26655215 0.78762516\n",
            "  0.81174219 0.10173044 0.32571987 0.78579089 0.14383113 0.37239181\n",
            "  0.46057059 0.39038354 0.76685184 0.42475862 0.54265933 0.63450125\n",
            "  0.85960746 0.09259549 0.21490322 0.14770377 0.16290917 0.21287061\n",
            "  0.23830858 0.45862192 0.19560367 0.19801296 0.40736352 0.52217427\n",
            "  0.         0.55671362 0.92353531 0.36218683 0.3083222  0.62424956\n",
            "  0.80686227 0.13236584 0.7264568  0.73732691 0.59462851 0.58232281\n",
            "  0.77491026 0.62581936 0.82143794 0.86963421 0.49081725 0.78813986\n",
            "  0.68124865 0.12385738 0.41867054 0.7307899  0.24275461 0.6853677\n",
            "  0.16829177 0.20814036 0.57935361 0.37783181 0.15331989 0.76073451\n",
            "  0.65205916 0.62057025 0.5285014  0.78455375 0.38241088 0.59418586\n",
            "  0.75369313 0.77770204 0.53276592 0.21523727]\n",
            " [0.97491292 0.67250058 0.28641728 0.67049533 0.73133024 0.55676078\n",
            "  0.42002266 0.73614364 0.3840186  0.68008551 0.59659052 0.98146838\n",
            "  0.25499862 0.69700811 0.07434837 0.95200187 0.63739422 0.76633321\n",
            "  0.57063209 0.58944971 0.67755888 0.29463454 0.26871422 0.85625623\n",
            "  0.81451371 0.69498314 0.74619939 0.22485719 0.38217446 1.03147875\n",
            "  0.385128   0.31929578 0.70153311 0.43935726 0.82281172 0.53321622\n",
            "  0.80491416 0.45671006 0.24206932 0.67063914 0.56489301 0.53002123\n",
            "  0.64679215 0.17369275 0.62888607 0.75348385 0.63934481 1.01120012\n",
            "  1.11305312 0.6121726  0.63333887 0.41946751 0.45737667 0.57624485\n",
            "  0.40625877 0.93188045 0.54719291 0.67434711 0.259174   0.72900043\n",
            "  0.55671362 0.         0.72679733 0.20423576 0.7295752  0.14062156\n",
            "  0.84323337 0.42452877 0.40872639 0.44499387 0.70278732 0.14854163\n",
            "  0.8111949  0.63512268 0.68853827 1.12703434 0.8292697  1.06244391\n",
            "  1.01943509 0.63419138 0.69122373 1.04520944 0.33373944 0.73155327\n",
            "  0.45032937 0.39811281 0.54076508 0.59435773 0.68850632 0.62685239\n",
            "  0.92386966 0.32293595 0.21265248 1.03258257 0.18244355 0.98651202\n",
            "  0.68843502 0.6642797  0.98953731 0.44495212]\n",
            " [0.68900836 0.14502827 0.56935565 0.38200278 0.03064424 0.17512655\n",
            "  0.30682944 0.09743448 0.34735106 0.33956946 0.79223057 0.80421603\n",
            "  0.66617921 0.26437804 0.80062375 0.66244917 0.1983518  1.11249419\n",
            "  1.03533009 0.20503952 0.43445175 0.71566296 0.6972671  0.87656477\n",
            "  0.77540745 0.93193035 1.02184823 0.87379781 0.53980602 0.78464887\n",
            "  0.70372191 0.46745958 0.14218306 0.38832772 1.12005741 0.19424368\n",
            "  0.28352218 0.87947616 0.8205207  0.15666063 0.80828275 0.57003103\n",
            "  0.55074528 0.7085654  0.15956929 0.70962218 0.44822781 0.86270522\n",
            "  0.74963773 0.89794383 0.79901228 0.88543132 0.76187844 0.7527293\n",
            "  0.69149186 0.96542851 0.75112254 0.86465234 0.58625404 0.56325048\n",
            "  0.92353531 0.72679733 0.         0.70882238 0.81371773 0.59816452\n",
            "  0.34887367 0.84316454 0.32212647 0.28346445 0.44440111 0.57831284\n",
            "  0.34359474 0.34238967 0.12018456 0.7632407  0.73711085 0.74865166\n",
            "  0.81298701 1.04709897 0.64202961 0.79372712 0.73546441 0.35883658\n",
            "  0.95475694 0.92779214 0.34985171 0.60026299 0.9455189  0.16620963\n",
            "  0.68144029 0.40671309 0.93168534 0.69802157 0.70810005 0.87225954\n",
            "  0.21737489 0.16324281 0.97095209 0.70874227]\n",
            " [0.80889907 0.61760424 0.1506567  0.54694453 0.7216415  0.53432297\n",
            "  0.42528498 0.69072117 0.41222412 0.5679983  0.39313349 0.79774966\n",
            "  0.06607549 0.60549373 0.2245481  0.78829573 0.67540356 0.57775445\n",
            "  0.40283135 0.62454052 0.54038743 0.09045617 0.06638463 0.65623816\n",
            "  0.62175785 0.49185676 0.5470927  0.17404711 0.23056534 0.85551934\n",
            "  0.18307014 0.24227691 0.72412605 0.34600926 0.62838721 0.53101307\n",
            "  0.71225642 0.26693056 0.1117808  0.61234169 0.36067051 0.35736178\n",
            "  0.4809489  0.03055424 0.57739522 0.56524654 0.49818203 0.82245121\n",
            "  0.95298834 0.41015562 0.43037868 0.2394782  0.25315559 0.37462054\n",
            "  0.2061969  0.72954349 0.34485702 0.47013625 0.12686072 0.56462414\n",
            "  0.36218683 0.20423576 0.70882238 0.         0.52875776 0.26422329\n",
            "  0.73727397 0.23072095 0.43144924 0.45605549 0.56384917 0.22681199\n",
            "  0.70345452 0.52349992 0.6392942  0.96631811 0.64240263 0.89600972\n",
            "  0.83800847 0.45429135 0.50966916 0.86928454 0.12966196 0.61511388\n",
            "  0.28959724 0.24557698 0.43673133 0.41606603 0.48639039 0.57334982\n",
            "  0.75382132 0.3215833  0.28307662 0.87170806 0.02179271 0.79471347\n",
            "  0.61053163 0.6047458  0.78917764 0.24360056]\n",
            " [0.4167785  0.66979088 0.47439854 0.44240646 0.84125529 0.69868888\n",
            "  0.69602059 0.73656753 0.72497426 0.48732132 0.14426579 0.32783024\n",
            "  0.47475235 0.56583227 0.75217231 0.41120388 0.90737089 0.36817366\n",
            "  0.44227691 0.86574812 0.39237293 0.43992365 0.46251274 0.12789059\n",
            "  0.1354438  0.17626471 0.25558304 0.63375729 0.39939307 0.41175678\n",
            "  0.34568893 0.52876137 0.91229475 0.49304887 0.34080548 0.73687951\n",
            "  0.62074406 0.37152111 0.55330471 0.65846405 0.18962258 0.27041589\n",
            "  0.26490059 0.55878877 0.65669566 0.14005251 0.36835524 0.32783488\n",
            "  0.55899647 0.21827816 0.10548893 0.41948079 0.28507008 0.15431621\n",
            "  0.32338508 0.20435498 0.18483225 0.11419802 0.49372832 0.28345863\n",
            "  0.3083222  0.7295752  0.81371773 0.52875776 0.         0.74159722\n",
            "  0.59461423 0.37330362 0.72656584 0.72052135 0.39280866 0.69131689\n",
            "  0.56833147 0.47331215 0.69597465 0.5679629  0.18902788 0.48566873\n",
            "  0.37307091 0.39176083 0.17926036 0.42375395 0.40567304 0.49313652\n",
            "  0.46668472 0.49293347 0.47495469 0.2190569  0.19975349 0.64984996\n",
            "  0.35707006 0.64586726 0.77553763 0.48810478 0.55009424 0.28958709\n",
            "  0.60644468 0.65131425 0.26042823 0.28519199]\n",
            " [0.92754507 0.55906215 0.26782196 0.59627841 0.60021582 0.43375261\n",
            "  0.29295523 0.61705094 0.2512231  0.59767086 0.62305948 0.95520767\n",
            "  0.28621987 0.60137089 0.21344714 0.90272063 0.49794322 0.84111894\n",
            "  0.66434686 0.45067792 0.61312962 0.34281091 0.31284937 0.86322267\n",
            "  0.80599119 0.74022656 0.80375745 0.35028368 0.35413418 0.9942453\n",
            "  0.41590467 0.25058823 0.56370385 0.36116974 0.88900799 0.4039552\n",
            "  0.70671832 0.53096513 0.3436551  0.55880253 0.60039888 0.50594018\n",
            "  0.60900249 0.23924471 0.51532999 0.73900276 0.57983332 0.99205065\n",
            "  1.0574336  0.66317195 0.65604738 0.50291614 0.49646833 0.59542956\n",
            "  0.43018164 0.94587801 0.57002935 0.706799   0.24796621 0.6863829\n",
            "  0.62424956 0.14062156 0.59816452 0.26422329 0.74159722 0.\n",
            "  0.75184995 0.49413111 0.27640813 0.31470071 0.63869681 0.05097134\n",
            "  0.72171064 0.55438503 0.57217564 1.07184826 0.8107063  1.01399733\n",
            "  0.98937469 0.71840475 0.66938649 1.00771274 0.38345522 0.65008105\n",
            "  0.54740745 0.49870945 0.46050082 0.57273256 0.73811659 0.51427878\n",
            "  0.88183059 0.20799081 0.35308345 0.97900685 0.24604456 0.97295611\n",
            "  0.58565458 0.55321733 0.99550304 0.46950812]\n",
            " [0.35055158 0.24324559 0.5884751  0.19656492 0.37865221 0.37600527\n",
            "  0.49467082 0.25200105 0.54736231 0.1693227  0.63313399 0.48257576\n",
            "  0.67551976 0.15156732 0.9075322  0.3257681  0.53316234 0.94863228\n",
            "  0.94126065 0.52053947 0.22512804 0.70065979 0.69598459 0.61488318\n",
            "  0.51077384 0.75265307 0.84149806 0.91023263 0.51015925 0.44704474\n",
            "  0.64433193 0.52476607 0.48984213 0.40472445 0.93313298 0.43039584\n",
            "  0.06583573 0.8015872  0.83577695 0.23545472 0.66686341 0.4406665\n",
            "  0.34955989 0.75122409 0.27476023 0.46166458 0.26609292 0.54300553\n",
            "  0.40084882 0.74966641 0.62305218 0.8266561  0.66808468 0.59884868\n",
            "  0.62166118 0.69402016 0.61166397 0.68072625 0.61512272 0.31116317\n",
            "  0.80686227 0.84323337 0.34887367 0.73727397 0.59461423 0.75184995\n",
            "  0.         0.77448262 0.52801935 0.49235088 0.21282281 0.71226156\n",
            "  0.03406822 0.21384105 0.25211431 0.4145435  0.45887655 0.40207146\n",
            "  0.48244618 0.92559176 0.4176715  0.45456161 0.70119465 0.12586837\n",
            "  0.89720595 0.88920466 0.30464852 0.42969606 0.77230011 0.27156004\n",
            "  0.3560619  0.54684541 1.01156042 0.35088705 0.74676274 0.56185478\n",
            "  0.1795988  0.23592905 0.6800793  0.61889363]\n",
            " [0.74082806 0.72484384 0.29370418 0.57888436 0.86218101 0.67894184\n",
            "  0.60150731 0.80119817 0.60300161 0.61364758 0.22995058 0.68843983\n",
            "  0.21788347 0.67348303 0.42150345 0.72630969 0.85333157 0.34709283\n",
            "  0.19463199 0.8032679  0.5517833  0.15632741 0.18581343 0.49701011\n",
            "  0.49557446 0.28178672 0.32252521 0.26991528 0.30344894 0.76281465\n",
            "  0.14002806 0.39740986 0.8893055  0.45484965 0.39888964 0.69138304\n",
            "  0.76879195 0.03930394 0.19846102 0.71664859 0.18368418 0.33504227\n",
            "  0.44672281 0.25839869 0.69191058 0.45962763 0.50924077 0.69774857\n",
            "  0.88960667 0.19625856 0.26803494 0.05390298 0.11147854 0.23402461\n",
            "  0.15665061 0.55361359 0.20468014 0.28233322 0.2902717  0.52129738\n",
            "  0.13236584 0.42452877 0.84316454 0.23072095 0.37330362 0.49413111\n",
            "  0.77448262 0.         0.61730966 0.63253647 0.56909967 0.45377691\n",
            "  0.7410182  0.57576781 0.75017917 0.90109223 0.5340276  0.82241146\n",
            "  0.73273513 0.22885622 0.43125794 0.77600427 0.12001327 0.6491025\n",
            "  0.1227816  0.12628647 0.51325739 0.36362876 0.27087358 0.68632815\n",
            "  0.68048145 0.50835661 0.41237762 0.81063168 0.25055741 0.66175305\n",
            "  0.6939924  0.70852882 0.62290274 0.15589127]\n",
            " [0.77968827 0.30320717 0.32370429 0.4213293  0.32385144 0.16639059\n",
            "  0.03620039 0.35004735 0.02522733 0.40437759 0.65027037 0.84719034\n",
            "  0.40768732 0.37886128 0.48304465 0.75255014 0.24406743 0.93854177\n",
            "  0.81043031 0.19325719 0.4574819  0.46701425 0.44148079 0.82715839\n",
            "  0.74418428 0.78908704 0.87057943 0.57897279 0.34621153 0.86255521\n",
            "  0.49159517 0.2230891  0.29792621 0.23613306 0.96665666 0.12844586\n",
            "  0.4722043  0.65648993 0.54033015 0.30599884 0.6476353  0.45643278\n",
            "  0.51111985 0.42261936 0.26175215 0.67192285 0.43985392 0.89585314\n",
            "  0.88761095 0.73084387 0.67167753 0.64764026 0.56770663 0.61308432\n",
            "  0.49044724 0.9176916  0.5986421  0.73484494 0.32865414 0.56790639\n",
            "  0.7264568  0.40872639 0.32212647 0.43144924 0.72656584 0.27640813\n",
            "  0.52801935 0.61730966 0.         0.04001287 0.48052333 0.26073591\n",
            "  0.50320397 0.37053239 0.3105805  0.90229051 0.72848544 0.8596471\n",
            "  0.87194581 0.84250437 0.59575701 0.87482292 0.49811227 0.45337544\n",
            "  0.70991442 0.67230827 0.29576512 0.51448248 0.79544236 0.26279783\n",
            "  0.74728333 0.11068582 0.61817135 0.81642959 0.42455784 0.88886479\n",
            "  0.34934632 0.30224682 0.94844778 0.52109722]\n",
            " [0.75343193 0.26430476 0.33928032 0.39464122 0.28642252 0.12666014\n",
            "  0.03123256 0.31006186 0.06472053 0.37476944 0.65147803 0.82628691\n",
            "  0.42761017 0.34455988 0.51918361 0.72613179 0.2216474  0.94682313\n",
            "  0.82664659 0.17108879 0.43345807 0.48543404 0.46118114 0.81697333\n",
            "  0.73097955 0.79166392 0.87497844 0.60861371 0.35107309 0.83813571\n",
            "  0.50293705 0.23527533 0.26857077 0.22748434 0.97189117 0.0892805\n",
            "  0.43534584 0.67147278 0.56630555 0.2674994  0.65177993 0.45017894\n",
            "  0.49568099 0.44928896 0.22344715 0.65874943 0.4188819  0.87635204\n",
            "  0.8577256  0.73677243 0.67087379 0.66535369 0.57667157 0.61350645\n",
            "  0.49968223 0.90793446 0.6009236  0.73501847 0.34719332 0.54817258\n",
            "  0.73732691 0.44499387 0.28346445 0.45605549 0.72052135 0.31470071\n",
            "  0.49235088 0.63253647 0.04001287 0.         0.45567407 0.29654691\n",
            "  0.46844387 0.34328358 0.27099409 0.8723846  0.71238246 0.83202592\n",
            "  0.84952214 0.85533613 0.58265563 0.85016409 0.51450609 0.42248776\n",
            "  0.72934047 0.6936395  0.2746752  0.50533701 0.79917264 0.22482957\n",
            "  0.72319607 0.13514013 0.6530161  0.78786408 0.45063334 0.87116605\n",
            "  0.31306405 0.26403937 0.93573613 0.52832159]\n",
            " [0.29981213 0.30069827 0.424266   0.06562819 0.47422705 0.37831709\n",
            "  0.44433915 0.35651998 0.49188186 0.10488319 0.42048935 0.37637075\n",
            "  0.49867888 0.18163579 0.75860819 0.272993   0.58123248 0.73797092\n",
            "  0.73006274 0.55100643 0.02557562 0.51297999 0.51357042 0.43587665\n",
            "  0.33282742 0.54287894 0.6326223  0.73128151 0.33372953 0.38246285\n",
            "  0.4454354  0.39011684 0.56466655 0.2789058  0.72620036 0.42989797\n",
            "  0.2288091  0.5939708  0.65214812 0.2890052  0.45409642 0.23421293\n",
            "  0.13715673 0.58278681 0.3023764  0.27104891 0.06567128 0.43077323\n",
            "  0.41951747 0.5369755  0.41163376 0.62221928 0.46028803 0.3860261\n",
            "  0.42090937 0.52294644 0.39918551 0.47102952 0.45235634 0.11959279\n",
            "  0.59462851 0.70278732 0.44440111 0.56384917 0.39280866 0.63869681\n",
            "  0.21282281 0.56909967 0.48052333 0.45567407 0.         0.59205894\n",
            "  0.18209772 0.11585917 0.32432595 0.43405174 0.29270997 0.38223634\n",
            "  0.39564772 0.71284236 0.21355289 0.39453436 0.50711379 0.10033313\n",
            "  0.69175054 0.68796782 0.18780432 0.21701346 0.56178831 0.29588528\n",
            "  0.26761095 0.45500799 0.84594621 0.34279804 0.57693723 0.43382946\n",
            "  0.22736422 0.28340232 0.5266017  0.41329482]\n",
            " [0.87889275 0.5284274  0.21719413 0.55157193 0.58281501 0.40905003\n",
            "  0.27150435 0.58989885 0.23628238 0.55500974 0.57424831 0.90474398\n",
            "  0.24138366 0.56288238 0.22264369 0.85427941 0.49419826 0.79992814\n",
            "  0.62951063 0.44518325 0.56648423 0.29993017 0.26984311 0.81257681\n",
            "  0.75502049 0.6935116  0.7589514  0.33426256 0.30319004 0.94458956\n",
            "  0.36880458 0.20245585 0.55574989 0.31621972 0.84569117 0.38467469\n",
            "  0.66943966 0.49141669 0.31629766 0.52729846 0.55277666 0.45506362\n",
            "  0.55896742 0.2048592  0.48465377 0.68805659 0.53225978 0.94128789\n",
            "  1.01003742 0.61768751 0.6067594  0.46623882 0.44994805 0.54597004\n",
            "  0.38201981 0.89553199 0.52100702 0.65843231 0.19805136 0.63689882\n",
            "  0.58232281 0.14854163 0.57831284 0.22681199 0.69131689 0.05097134\n",
            "  0.71226156 0.45377691 0.26073591 0.29654691 0.59205894 0.\n",
            "  0.68144942 0.51112863 0.54325268 1.02439922 0.75986172 0.96556166\n",
            "  0.9391592  0.68026549 0.61856731 0.95809024 0.34011828 0.60731973\n",
            "  0.5147112  0.4678826  0.4167134  0.52184707 0.69210905 0.48305659\n",
            "  0.83253669 0.17649437 0.35769679 0.93123097 0.2106512  0.92204237\n",
            "  0.54992175 0.52129217 0.94475732 0.42115134]\n",
            " [0.34738508 0.22740028 0.55483418 0.16269695 0.373918   0.35539356\n",
            "  0.46924093 0.24616271 0.52182061 0.13545653 0.60254875 0.47309117\n",
            "  0.64158044 0.12451284 0.87501565 0.32152244 0.52167054 0.91951509\n",
            "  0.90879035 0.50608865 0.19294337 0.66659174 0.66195347 0.59376893\n",
            "  0.48935057 0.72391102 0.81317141 0.87632191 0.47614285 0.44372641\n",
            "  0.61048599 0.49238127 0.48258133 0.37224119 0.90558709 0.41030605\n",
            "  0.06412636 0.76838004 0.8017545  0.21854686 0.63551109 0.40759826\n",
            "  0.31922892 0.71758153 0.25516476 0.43748391 0.23322867 0.53320985\n",
            "  0.4100948  0.71899839 0.59345022 0.79308476 0.63496635 0.56779479\n",
            "  0.58791969 0.67477393 0.57996544 0.65198598 0.58156783 0.2853849\n",
            "  0.77491026 0.8111949  0.34359474 0.70345452 0.56833147 0.72171064\n",
            "  0.03406822 0.7410182  0.50320397 0.46844387 0.18209772 0.68144942\n",
            "  0.         0.18016436 0.23943315 0.42416726 0.43918048 0.40511319\n",
            "  0.4760925  0.89414528 0.3903101  0.452093   0.66718123 0.09205095\n",
            "  0.86370872 0.85539437 0.27171639 0.39832714 0.74322111 0.25134559\n",
            "  0.34706117 0.51772137 0.97818894 0.35466483 0.71306667 0.54959694\n",
            "  0.15818722 0.21797205 0.66410531 0.58553221]\n",
            " [0.41018898 0.19747296 0.37467042 0.05162508 0.37101858 0.26253253\n",
            "  0.33439835 0.26345968 0.38390407 0.04522256 0.46966355 0.49220386\n",
            "  0.46214132 0.1005792  0.6971727  0.38286246 0.46688018 0.79313254\n",
            "  0.75344616 0.43552964 0.09802256 0.48966243 0.48349505 0.53487504\n",
            "  0.4350576  0.60390703 0.69465306 0.69667219 0.29767267 0.49625786\n",
            "  0.440362   0.31586156 0.45431053 0.19618136 0.79151955 0.31406688\n",
            "  0.19429441 0.60612364 0.62305751 0.18594322 0.4944826  0.25373546\n",
            "  0.20888979 0.53741865 0.19136985 0.36779727 0.10586508 0.54626277\n",
            "  0.51859251 0.58266855 0.46980536 0.62612703 0.47503277 0.43146081\n",
            "  0.41980056 0.62443414 0.43680021 0.5338843  0.40142681 0.22648839\n",
            "  0.62581936 0.63512268 0.34238967 0.52349992 0.47331215 0.55438503\n",
            "  0.21384105 0.57576781 0.37053239 0.34328358 0.11585917 0.51112863\n",
            "  0.18016436 0.         0.22321263 0.53327696 0.40106552 0.4891509\n",
            "  0.51120673 0.74852193 0.29968198 0.50797333 0.49312216 0.09653961\n",
            "  0.69738886 0.68475752 0.09467998 0.26696143 0.62003011 0.18463586\n",
            "  0.382165   0.3583935  0.79820683 0.4460757  0.53292597 0.54795853\n",
            "  0.13436938 0.17915862 0.63463552 0.42309344]\n",
            " [0.57763372 0.02672845 0.49253862 0.26183283 0.1499028  0.14438233\n",
            "  0.28391514 0.05176028 0.3339989  0.21945773 0.68128692 0.68747134\n",
            "  0.58971537 0.14544647 0.76016181 0.55062228 0.28223899 1.00358106\n",
            "  0.93909053 0.26855358 0.31429169 0.63362161 0.61858347 0.75658728\n",
            "  0.65525981 0.81946141 0.90985506 0.81016752 0.44820825 0.67223087\n",
            "  0.61016399 0.3981193  0.24748311 0.30003914 1.00768983 0.1921548\n",
            "  0.18704756 0.7849457  0.74941279 0.0375815  0.7003043  0.45944519\n",
            "  0.43203793 0.64354026 0.06195117 0.58972587 0.3290446  0.74537741\n",
            "  0.64952786 0.78987474 0.68580327 0.79544052 0.66200386 0.64204327\n",
            "  0.59526435 0.84531377 0.64265499 0.75102659 0.51308704 0.44307331\n",
            "  0.82143794 0.68853827 0.12018456 0.6392942  0.69597465 0.57217564\n",
            "  0.25211431 0.75017917 0.3105805  0.27099409 0.32432595 0.54325268\n",
            "  0.23943315 0.22321263 0.         0.66359428 0.61702498 0.64197855\n",
            "  0.69813045 0.94529531 0.52282392 0.68190612 0.64879301 0.2411755\n",
            "  0.86602451 0.84345343 0.24224966 0.48498746 0.83401096 0.06602654\n",
            "  0.5662377  0.36676716 0.88346984 0.59233313 0.64177655 0.75367461\n",
            "  0.09796983 0.04509893 0.85092272 0.60862283]\n",
            " [0.16057364 0.65092234 0.84180542 0.48435633 0.79280223 0.77161023\n",
            "  0.86639424 0.66653963 0.9167635  0.49793597 0.68555752 0.25780435\n",
            "  0.9003919  0.53613215 1.17694973 0.17838195 0.94582193 0.92053106\n",
            "  1.00751624 0.92946804 0.45948496 0.89808974 0.90704823 0.4982506\n",
            "  0.43312387 0.74134372 0.80841932 1.11944092 0.74652188 0.16695574\n",
            "  0.81203973 0.8219522  0.90438531 0.71295102 0.87293907 0.82674711\n",
            "  0.48025484 0.91220204 1.03623877 0.641538   0.73268548 0.60915132\n",
            "  0.48542133 0.98983022 0.67497352 0.44582758 0.4921401  0.29570238\n",
            "  0.01468672 0.78382936 0.65480698 0.95382977 0.79205145 0.67008713\n",
            "  0.78493764 0.53062708 0.69746111 0.68204334 0.86969913 0.40174075\n",
            "  0.86963421 1.12703434 0.7632407  0.96631811 0.5679629  1.07184826\n",
            "  0.4145435  0.90109223 0.90229051 0.8723846  0.43405174 1.02439922\n",
            "  0.42416726 0.53327696 0.66359428 0.         0.37975509 0.08242806\n",
            "  0.21887922 0.95971967 0.4714328  0.15931736 0.8799835  0.45011866\n",
            "  1.01334875 1.02736959 0.61955318 0.55456692 0.76528415 0.67032726\n",
            "  0.22061123 0.88799867 1.24785382 0.09472898 0.98278872 0.33899486\n",
            "  0.57806275 0.64018336 0.4739993  0.76150994]\n",
            " [0.22796376 0.59320815 0.54881137 0.35609709 0.76691993 0.65809445\n",
            "  0.69390052 0.64830426 0.73342389 0.39756741 0.3097101  0.15678888\n",
            "  0.5799887  0.47373686 0.86532253 0.22392511 0.86622352 0.55165891\n",
            "  0.62798198 0.83176251 0.30421199 0.56156561 0.5774808  0.15769319\n",
            "  0.05928248 0.3645091  0.43837511 0.77494413 0.45702719 0.22946154\n",
            "  0.46805162 0.5697343  0.85520995 0.49566325 0.51435112 0.70542216\n",
            "  0.49953305 0.54034685 0.69161937 0.58150423 0.35748295 0.30483959\n",
            "  0.21740693 0.67004074 0.5921972  0.07749074 0.30107018 0.18221654\n",
            "  0.37040809 0.40411587 0.27669343 0.58487183 0.43038668 0.3000038\n",
            "  0.44163729 0.23561228 0.32978524 0.30266209 0.57376039 0.17474398\n",
            "  0.49081725 0.8292697  0.73711085 0.64240263 0.18902788 0.8107063\n",
            "  0.45887655 0.5340276  0.72848544 0.71238246 0.29270997 0.75986172\n",
            "  0.43918048 0.40106552 0.61702498 0.37975509 0.         0.29775834\n",
            "  0.19970651 0.58047434 0.14138892 0.24240572 0.53525051 0.38418992\n",
            "  0.64003195 0.65911555 0.44019757 0.23813556 0.38824211 0.58551877\n",
            "  0.1689619  0.6712244  0.91201781 0.29914278 0.66191511 0.16342215\n",
            "  0.51997334 0.5757133  0.23400986 0.41058455]\n",
            " [0.08756086 0.6265221  0.77622632 0.43838513 0.77889848 0.73873387\n",
            "  0.8234884  0.65122018 0.87244596 0.45821769 0.60475611 0.1784223\n",
            "  0.83037421 0.5062801  1.10986845 0.11128398 0.92300501 0.83850341\n",
            "  0.92570703 0.90262098 0.40696687 0.82514988 0.83541228 0.41691822\n",
            "  0.35073272 0.65891632 0.72625072 1.04571481 0.68052168 0.08952271\n",
            "  0.73736349 0.76342186 0.88742978 0.6589136  0.79172758 0.79336989\n",
            "  0.46591194 0.83252305 0.96227559 0.61634344 0.65207772 0.538767\n",
            "  0.41672464 0.92040169 0.64601313 0.36519624 0.43537086 0.22197133\n",
            "  0.07493049 0.70187253 0.57345013 0.87482737 0.71416961 0.59035831\n",
            "  0.71024033 0.45298558 0.61823009 0.59978983 0.80384276 0.3336481\n",
            "  0.78813986 1.06244391 0.74865166 0.89600972 0.48566873 1.01399733\n",
            "  0.40207146 0.82241146 0.8596471  0.83202592 0.38223634 0.96556166\n",
            "  0.40511319 0.4891509  0.64197855 0.08242806 0.29775834 0.\n",
            "  0.14311665 0.87740562 0.39486932 0.08523065 0.80547662 0.41447784\n",
            "  0.93341889 0.94860427 0.569984   0.48146766 0.68285753 0.64080893\n",
            "  0.14346447 0.83687296 1.17616399 0.05152335 0.91312427 0.26323888\n",
            "  0.55098143 0.6140013  0.40014092 0.68539387]\n",
            " [0.13601535 0.67863426 0.73497893 0.4599341  0.84363125 0.77275748\n",
            "  0.83600759 0.71690817 0.88102325 0.49097485 0.50587403 0.04524194\n",
            "  0.77438206 0.55418577 1.05920085 0.15770765 0.97085343 0.70908847\n",
            "  0.8148688  0.94392168 0.4165192  0.7592768  0.77393581 0.28517791\n",
            "  0.23953528 0.53862674 0.59862104 0.97423676 0.6404415  0.05365625\n",
            "  0.66656847 0.7417052  0.94541972 0.65131252 0.65773616 0.82513636\n",
            "  0.54010342 0.73743843 0.89081076 0.66748518 0.55370436 0.48966524\n",
            "  0.38057131 0.86486985 0.68974544 0.27661022 0.43232854 0.0790891\n",
            "  0.21511885 0.5912284  0.47074391 0.78292046 0.63002511 0.49890767\n",
            "  0.63991959 0.31175816 0.52903841 0.48604932 0.76119688 0.30770857\n",
            "  0.68124865 1.01943509 0.81298701 0.83800847 0.37307091 0.98937469\n",
            "  0.48244618 0.73273513 0.87194581 0.84952214 0.39564772 0.9391592\n",
            "  0.4760925  0.51120673 0.69813045 0.21887922 0.19970651 0.14311665\n",
            "  0.         0.76009496 0.32893474 0.05956193 0.73411434 0.45791387\n",
            "  0.83595108 0.8571781  0.5761807  0.42515919 0.56254394 0.68373933\n",
            "  0.1319377  0.83132222 1.1105551  0.17607432 0.85694736 0.1204192\n",
            "  0.60149475 0.66357331 0.25702505 0.60978969]\n",
            " [0.80741913 0.91899367 0.51921006 0.73930978 1.06856869 0.89067936\n",
            "  0.8246415  0.99460268 0.82930477 0.77981592 0.29562633 0.71512861\n",
            "  0.44672948 0.84906137 0.61592409 0.80005173 1.07435118 0.14114575\n",
            "  0.08155335 1.02494862 0.7014009  0.38513655 0.41443982 0.48157966\n",
            "  0.52681117 0.2218736  0.187342   0.43851539 0.5127859  0.80187688\n",
            "  0.3527198  0.6203599  1.10551846 0.66213722 0.2139249  0.90850474\n",
            "  0.93279687 0.18993862 0.39300228 0.90963738 0.25874889 0.49482064\n",
            "  0.57712263 0.47955713 0.89063444 0.52182984 0.66306601 0.70475395\n",
            "  0.95073232 0.18134829 0.31517086 0.21625347 0.28555054 0.32724107\n",
            "  0.35916503 0.50144635 0.31440025 0.27781225 0.51800224 0.63347762\n",
            "  0.12385738 0.63419138 1.04709897 0.45429135 0.39176083 0.71840475\n",
            "  0.92559176 0.22885622 0.84250437 0.85533613 0.71284236 0.68026549\n",
            "  0.89414528 0.74852193 0.94529531 0.95971967 0.58047434 0.87740562\n",
            "  0.76009496 0.         0.52688871 0.81340329 0.34843696 0.80553754\n",
            "  0.19122387 0.24421472 0.70320311 0.49589871 0.19817712 0.8845325\n",
            "  0.74705272 0.73480513 0.56635154 0.87896801 0.47246984 0.66166111\n",
            "  0.87712525 0.90155008 0.57845612 0.33843434]\n",
            " [0.31085921 0.49715487 0.40862336 0.26490979 0.67046241 0.54127221\n",
            "  0.5621094  0.5611747  0.5989542  0.30974725 0.23236963 0.29024687\n",
            "  0.44562298 0.3885355  0.73027431 0.29522674 0.75116313 0.53317092\n",
            "  0.55857376 0.7131053  0.21392914 0.43339257 0.44633992 0.23890538\n",
            "  0.14844754 0.33661515 0.42435867 0.65216393 0.31598111 0.3464034\n",
            "  0.34330863 0.42884313 0.74854812 0.36042475 0.51547    0.5847268\n",
            "  0.44163963 0.44547448 0.56858097 0.48562001 0.27518298 0.16372644\n",
            "  0.09236351 0.5361709  0.48810991 0.07617387 0.19381758 0.32286165\n",
            "  0.45947923 0.34578079 0.21282425 0.48460681 0.32112426 0.20725178\n",
            "  0.31623161 0.32997577 0.23098569 0.26501188 0.43409157 0.10886324\n",
            "  0.41867054 0.69122373 0.64202961 0.50966916 0.17926036 0.66938649\n",
            "  0.4176715  0.43125794 0.59575701 0.58265563 0.21355289 0.61856731\n",
            "  0.3903101  0.29968198 0.52282392 0.4714328  0.14138892 0.39486932\n",
            "  0.32893474 0.52688871 0.         0.36013757 0.4114596  0.31387738\n",
            "  0.54712074 0.55742517 0.31748752 0.09735843 0.35732162 0.48126097\n",
            "  0.25153423 0.53275755 0.78532975 0.37977005 0.52832456 0.30440951\n",
            "  0.43062121 0.47882794 0.35308293 0.29052456]\n",
            " [0.10477363 0.66402386 0.75923351 0.45634925 0.82429785 0.76620081\n",
            "  0.8386693  0.69670831 0.88547184 0.48307894 0.55192687 0.10041311\n",
            "  0.80467429 0.540549   1.0880818  0.13135262 0.95909548 0.76619195\n",
            "  0.86602026 0.93487217 0.41734448 0.79342207 0.80639592 0.34241553\n",
            "  0.28861793 0.59262171 0.65510003 1.01106614 0.66379214 0.01377224\n",
            "  0.70233276 0.75807041 0.92926481 0.66143873 0.71606193 0.81973002\n",
            "  0.51529616 0.78275255 0.92747212 0.65322636 0.59974638 0.51569405\n",
            "  0.39999564 0.89524353 0.67872602 0.31663328 0.43863212 0.13733695\n",
            "  0.15572615 0.64193434 0.51811219 0.82714239 0.67087223 0.54204952\n",
            "  0.67539197 0.37131522 0.57144094 0.53760054 0.78611433 0.32140539\n",
            "  0.7307899  1.04520944 0.79372712 0.86928454 0.42375395 1.00771274\n",
            "  0.45456161 0.77600427 0.87482292 0.85016409 0.39453436 0.95809024\n",
            "  0.452093   0.50797333 0.68190612 0.15931736 0.24240572 0.08523065\n",
            "  0.05956193 0.81340329 0.36013757 0.         0.77033248 0.44519784\n",
            "  0.8823344  0.90136131 0.58010172 0.45355473 0.61659096 0.67302629\n",
            "  0.12808458 0.84142501 1.14534531 0.12452685 0.88755477 0.17982998\n",
            "  0.58710787 0.64995574 0.31581962 0.64722045]\n",
            " [0.71998369 0.62437783 0.17523049 0.50488593 0.75289522 0.56740782\n",
            "  0.4833627  0.70038792 0.48336242 0.53446457 0.26627315 0.691996\n",
            "  0.09972211 0.58630609 0.34770259 0.70185499 0.73583784 0.46072716\n",
            "  0.31237077 0.68551726 0.4865064  0.04084934 0.07061294 0.53356356\n",
            "  0.50819237 0.36252049 0.42079668 0.24077895 0.20176944 0.75668621\n",
            "  0.06815601 0.28018064 0.77426567 0.34933446 0.50570852 0.57643739\n",
            "  0.68734868 0.15930943 0.15717432 0.61705055 0.23161443 0.27865364\n",
            "  0.40168554 0.16012009 0.58880393 0.45782312 0.44306428 0.71139108\n",
            "  0.86738132 0.28179379 0.30435439 0.15172452 0.12432589 0.25163786\n",
            "  0.09526174 0.60358603 0.22084915 0.34107359 0.17033762 0.48323787\n",
            "  0.24275461 0.33373944 0.73546441 0.12966196 0.40567304 0.38345522\n",
            "  0.70119465 0.12001327 0.49811227 0.51450609 0.50711379 0.34011828\n",
            "  0.66718123 0.49312216 0.64879301 0.8799835  0.53525051 0.80547662\n",
            "  0.73411434 0.34843696 0.4114596  0.77033248 0.         0.57550598\n",
            "  0.21945811 0.19497631 0.41985386 0.32582307 0.35776813 0.58363441\n",
            "  0.662027   0.38872703 0.37685815 0.7864864  0.15140946 0.68068217\n",
            "  0.60131627 0.60901411 0.66561539 0.12506402]\n",
            " [0.34248507 0.22081247 0.46786212 0.07070108 0.389316   0.32425612\n",
            "  0.41779988 0.26603893 0.46909319 0.05241889 0.51620062 0.44630997\n",
            "  0.55238578 0.0962984  0.79317541 0.31503052 0.51403444 0.83603436\n",
            "  0.81823252 0.49003409 0.10504378 0.57566323 0.57182208 0.53246791\n",
            "  0.42848921 0.64170138 0.73176336 0.78721629 0.38634136 0.43476181\n",
            "  0.51846796 0.41234051 0.48780469 0.29272066 0.82588894 0.3789413\n",
            "  0.1293385  0.67673485 0.7116718  0.20959874 0.54735413 0.31627384\n",
            "  0.2350818  0.63035448 0.23356072 0.36954839 0.14272537 0.50424615\n",
            "  0.43548392 0.63224151 0.50950559 0.70108893 0.54346192 0.4804323\n",
            "  0.49586876 0.61783264 0.49113745 0.56999124 0.49506749 0.21636756\n",
            "  0.6853677  0.73155327 0.35883658 0.61511388 0.49313652 0.65008105\n",
            "  0.12586837 0.6491025  0.45337544 0.42248776 0.10033313 0.60731973\n",
            "  0.09205095 0.09653961 0.2411755  0.45011866 0.38418992 0.41447784\n",
            "  0.45791387 0.80553754 0.31387738 0.44519784 0.57550598 0.\n",
            "  0.77176126 0.76335751 0.19120449 0.31074333 0.66014468 0.22793504\n",
            "  0.32599563 0.45153075 0.89221306 0.36792014 0.62551918 0.5135013\n",
            "  0.14374629 0.20567491 0.61620738 0.49373207]\n",
            " [0.85389334 0.84115084 0.39189899 0.70146979 0.97234415 0.78678488\n",
            "  0.69810791 0.91740555 0.69311911 0.73581095 0.33042389 0.79101714\n",
            "  0.30223241 0.79439754 0.42662504 0.84076834 0.95098048 0.33129169\n",
            "  0.12049435 0.90032713 0.67454988 0.24408618 0.26845977 0.58273293\n",
            "  0.59657435 0.33846518 0.3479173  0.24738077 0.41781684 0.86947614\n",
            "  0.25819627 0.49742452 0.99211444 0.56772849 0.39958438 0.79460931\n",
            "  0.89083469 0.10164627 0.20851566 0.83338214 0.28259039 0.45777974\n",
            "  0.56805169 0.30986022 0.80669982 0.56842461 0.63202234 0.79451627\n",
            "  1.0023523  0.25929773 0.36527738 0.07135233 0.23247094 0.34327611\n",
            "  0.27759355 0.62670802 0.31663995 0.36198525 0.38214917 0.64092037\n",
            "  0.16829177 0.45032937 0.95475694 0.28959724 0.46668472 0.54740745\n",
            "  0.89720595 0.1227816  0.70991442 0.72934047 0.69175054 0.5147112\n",
            "  0.86370872 0.69738886 0.86602451 1.01334875 0.64003195 0.93341889\n",
            "  0.83595108 0.19122387 0.54712074 0.8823344  0.21945811 0.77176126\n",
            "  0.         0.05337484 0.63210133 0.48449313 0.32058756 0.80135816\n",
            "  0.79309413 0.59932703 0.37669912 0.92449197 0.30416948 0.75579377\n",
            "  0.81345676 0.8252926  0.70040881 0.27865547]\n",
            " [0.86711451 0.81918419 0.36009364 0.69270138 0.94415176 0.75742354\n",
            "  0.66245767 0.89510072 0.65450739 0.72482281 0.35204145 0.81263587\n",
            "  0.26636666 0.77967178 0.37328778 0.85254363 0.91493082 0.3837037\n",
            "  0.17354441 0.8641198  0.66934221 0.21230093 0.23324759 0.61310392\n",
            "  0.61894529 0.37758845 0.3947371  0.19431277 0.39671446 0.88824542\n",
            "  0.24497866 0.46507845 0.95881151 0.54363279 0.4506904  0.76216995\n",
            "  0.87898087 0.12150568 0.15705669 0.81194559 0.30456441 0.45404181\n",
            "  0.56976034 0.26339612 0.78318789 0.58532004 0.626233   0.819728\n",
            "  1.01589277 0.29509009 0.38893083 0.07426368 0.23676982 0.35937276\n",
            "  0.2677462  0.66237389 0.3305613  0.39361076 0.34743297 0.64596563\n",
            "  0.20814036 0.39811281 0.92779214 0.24557698 0.49293347 0.49870945\n",
            "  0.88920466 0.12628647 0.67230827 0.6936395  0.68796782 0.4678826\n",
            "  0.85539437 0.68475752 0.84345343 1.02736959 0.65911555 0.94860427\n",
            "  0.8571781  0.24421472 0.55742517 0.90136131 0.19497631 0.76335751\n",
            "  0.05337484 0.         0.61432682 0.48751527 0.36142    0.77811634\n",
            "  0.80675837 0.5616396  0.32596702 0.93689613 0.25836359 0.78246896\n",
            "  0.79590687 0.80391894 0.7345968  0.27637649]\n",
            " [0.48742679 0.21583763 0.28639056 0.13658108 0.37463873 0.22462424\n",
            "  0.25985226 0.29143624 0.30543626 0.13936726 0.44243688 0.55186072\n",
            "  0.37784487 0.16922251 0.60352906 0.46072649 0.43439903 0.76295639\n",
            "  0.69908559 0.39562548 0.16351277 0.41133044 0.40185844 0.55609467\n",
            "  0.46365477 0.5825546  0.67221502 0.61069552 0.21882576 0.56763197\n",
            "  0.37407278 0.22147264 0.43757294 0.10154565 0.77051588 0.26730439\n",
            "  0.2755333  0.54658279 0.53999871 0.20644103 0.45899381 0.22034598\n",
            "  0.22655809 0.44862743 0.19042322 0.39223757 0.14432381 0.60168208\n",
            "  0.60492104 0.54866201 0.45035021 0.56087327 0.42086767 0.40291125\n",
            "  0.35690164 0.6473029  0.40159332 0.51622102 0.31217944 0.27352543\n",
            "  0.57935361 0.54076508 0.34985171 0.43673133 0.47495469 0.46050082\n",
            "  0.30464852 0.51325739 0.29576512 0.2746752  0.18780432 0.4167134\n",
            "  0.27171639 0.09467998 0.24224966 0.61955318 0.44019757 0.569984\n",
            "  0.5761807  0.70320311 0.31748752 0.58010172 0.41985386 0.19120449\n",
            "  0.63210133 0.61432682 0.         0.25647708 0.59578034 0.1839145\n",
            "  0.45222596 0.26848904 0.70735452 0.52970531 0.44466253 0.59713455\n",
            "  0.18161007 0.19834916 0.66811473 0.36755039]\n",
            " [0.39511554 0.45839166 0.3112669  0.24744327 0.62685259 0.479688\n",
            "  0.48236921 0.52876552 0.51533353 0.29051722 0.20576241 0.38725582\n",
            "  0.35117245 0.36551578 0.63477576 0.3762627  0.6883277  0.52785533\n",
            "  0.51428107 0.64695912 0.20595298 0.34375504 0.35424092 0.31277724\n",
            "  0.23682115 0.33699715 0.42774804 0.5648764  0.21889219 0.43978267\n",
            "  0.25824038 0.33514939 0.69405    0.2785844  0.52456942 0.51803369\n",
            "  0.43934302 0.38418843 0.48169    0.44744135 0.23719603 0.0668052\n",
            "  0.08401304 0.44172097 0.44157417 0.16706904 0.16991312 0.42004353\n",
            "  0.54180919 0.32152168 0.20293168 0.41751719 0.25229941 0.16970543\n",
            "  0.231277   0.40320983 0.1822611  0.26697757 0.33680565 0.15904426\n",
            "  0.37783181 0.59435773 0.60026299 0.41606603 0.2190569  0.57273256\n",
            "  0.42969606 0.36362876 0.51448248 0.50533701 0.21701346 0.52184707\n",
            "  0.39832714 0.26696143 0.48498746 0.55456692 0.23813556 0.48146766\n",
            "  0.42515919 0.49589871 0.09735843 0.45355473 0.32582307 0.31074333\n",
            "  0.48449313 0.48751527 0.25647708 0.         0.35351569 0.4347801\n",
            "  0.33847775 0.44358601 0.69478383 0.46079004 0.43407974 0.40028144\n",
            "  0.40120344 0.4399165  0.43709173 0.21219825]\n",
            " [0.61619857 0.80728351 0.49184955 0.60008575 0.97038291 0.80688972\n",
            "  0.77066597 0.87973163 0.7876838  0.64372589 0.15339403 0.51772449\n",
            "  0.45200622 0.71901771 0.69131991 0.61095558 1.00679339 0.17633217\n",
            "  0.26139538 0.96045189 0.55534292 0.39847385 0.42752525 0.28358536\n",
            "  0.33238794 0.02397878 0.07678267 0.53814027 0.44923511 0.60533219\n",
            "  0.32402352 0.57614167 1.02516722 0.58156922 0.17519604 0.8353137\n",
            "  0.78947934 0.24926167 0.46932863 0.7967617  0.14784621 0.37548858\n",
            "  0.42511203 0.51638962 0.7859608  0.3369021  0.52257162 0.5065876\n",
            "  0.7568469  0.07633435 0.15092138 0.298143   0.2423465  0.19297558\n",
            "  0.31482271 0.31068716 0.19919579 0.09238194 0.50143726 0.46617871\n",
            "  0.15331989 0.68850632 0.9455189  0.48639039 0.19975349 0.73811659\n",
            "  0.77230011 0.27087358 0.79544236 0.79917264 0.56178831 0.69210905\n",
            "  0.74322111 0.62003011 0.83401096 0.76528415 0.38824211 0.68285753\n",
            "  0.56254394 0.19817712 0.35732162 0.61659096 0.35776813 0.66014468\n",
            "  0.32058756 0.36142    0.59578034 0.35351569 0.         0.77935505\n",
            "  0.55673294 0.69759664 0.67915706 0.68734964 0.50785266 0.46360684\n",
            "  0.75387939 0.78898364 0.38664489 0.27862264]\n",
            " [0.57040397 0.04573816 0.42651899 0.23056232 0.1920944  0.10444528\n",
            "  0.23255333 0.11771412 0.28454323 0.1935736  0.62610273 0.6690235\n",
            "  0.52371008 0.13467766 0.69778616 0.5429597  0.28714304 0.94685706\n",
            "  0.87626755 0.26216759 0.28152522 0.56792536 0.55266106 0.71841078\n",
            "  0.6194396  0.76572072 0.85565494 0.74445306 0.38363705 0.66244507\n",
            "  0.54631111 0.33243465 0.26970628 0.23450757 0.953852   0.15904192\n",
            "  0.21162628 0.72152344 0.68340002 0.0445656  0.64281452 0.40387979\n",
            "  0.38914423 0.57784138 0.00685744 0.55141514 0.28865578 0.72513337\n",
            "  0.65591057 0.7324895  0.63284624 0.73096529 0.60022919 0.58662448\n",
            "  0.5321378  0.80841103 0.58547938 0.69852389 0.44708378 0.41080625\n",
            "  0.76073451 0.62685239 0.16620963 0.57334982 0.64984996 0.51427878\n",
            "  0.27156004 0.68632815 0.26279783 0.22482957 0.29588528 0.48305659\n",
            "  0.25134559 0.18463586 0.06602654 0.67032726 0.58551877 0.64080893\n",
            "  0.68373933 0.8845325  0.48126097 0.67302629 0.58363441 0.22793504\n",
            "  0.80135816 0.77811634 0.1839145  0.4347801  0.77935505 0.\n",
            "  0.55219949 0.30708228 0.81945405 0.59292221 0.57599156 0.72964961\n",
            "  0.09321809 0.03967118 0.81922553 0.54688444]\n",
            " [0.0610234  0.54669733 0.63745881 0.33061057 0.71208197 0.64248653\n",
            "  0.71116173 0.58564947 0.75765029 0.35994294 0.46657664 0.12651771\n",
            "  0.68839835 0.42225674 0.96939627 0.05554392 0.83923602 0.72043372\n",
            "  0.7909417  0.81290842 0.28988512 0.681967   0.69266455 0.31251623\n",
            "  0.22712865 0.53309825 0.60717455 0.90232827 0.54171827 0.11542457\n",
            "  0.59390776 0.63168435 0.81349208 0.5335353  0.68117379 0.69537402\n",
            "  0.41118713 0.69182158 0.8188654  0.53555323 0.51330919 0.39709436\n",
            "  0.27707973 0.77866099 0.55815188 0.22730071 0.31055103 0.18697681\n",
            "  0.20929373 0.5684766  0.43725904 0.73323368 0.57157056 0.44983086\n",
            "  0.56678509 0.3705565  0.47694555 0.46964786 0.66477019 0.19587958\n",
            "  0.65205916 0.92386966 0.68144029 0.75382132 0.35707006 0.88183059\n",
            "  0.3560619  0.68048145 0.74728333 0.72319607 0.26761095 0.83253669\n",
            "  0.34706117 0.382165   0.5662377  0.22061123 0.1689619  0.14346447\n",
            "  0.1319377  0.74705272 0.25153423 0.12808458 0.662027   0.32599563\n",
            "  0.79309413 0.80675837 0.45222596 0.33847775 0.55673294 0.55219949\n",
            "  0.         0.71344838 1.03325968 0.13250223 0.7712594  0.20908724\n",
            "  0.4695572  0.53166554 0.33808754 0.5420342 ]\n",
            " [0.75286543 0.35226063 0.21564936 0.40457777 0.4140818  0.2342527\n",
            "  0.10516003 0.41352862 0.09464596 0.39939016 0.55705048 0.80214588\n",
            "  0.29713595 0.39556578 0.39577499 0.72665826 0.35397341 0.83474289\n",
            "  0.70076615 0.30309894 0.43000706 0.35679779 0.33094741 0.75441221\n",
            "  0.67932298 0.6929164  0.77155276 0.47397098 0.25164164 0.82847798\n",
            "  0.38614903 0.1215888  0.40370898 0.18013961 0.8662933  0.21657827\n",
            "  0.49963845 0.54762024 0.43136298 0.35148724 0.54997294 0.38042803\n",
            "  0.45609463 0.31417888 0.30847112 0.60788767 0.40324991 0.846232\n",
            "  0.87337473 0.63034643 0.58164137 0.53749592 0.46435633 0.52148423\n",
            "  0.38729901 0.84335078 0.50414829 0.64270153 0.21868348 0.52361665\n",
            "  0.62057025 0.32293595 0.40671309 0.3215833  0.64586726 0.20799081\n",
            "  0.54684541 0.50835661 0.11068582 0.13514013 0.45500799 0.17649437\n",
            "  0.51772137 0.3583935  0.36676716 0.88799867 0.6712244  0.83687296\n",
            "  0.83132222 0.73480513 0.53275755 0.84142501 0.38872703 0.45153075\n",
            "  0.59932703 0.5616396  0.26848904 0.44358601 0.69759664 0.30708228\n",
            "  0.71344838 0.         0.52500534 0.79770701 0.31562462 0.83424499\n",
            "  0.37794548 0.34569906 0.88065144 0.42018004]\n",
            " [1.08947502 0.86511196 0.42452386 0.8256661  0.93816035 0.75871791\n",
            "  0.62645048 0.93291297 0.59389744 0.84328907 0.63185149 1.06870707\n",
            "  0.34907466 0.87277037 0.14020699 1.06956858 0.84987114 0.70730405\n",
            "  0.48897645 0.80166639 0.82211772 0.3519386  0.34084838 0.90253357\n",
            "  0.88448164 0.69236573 0.71926919 0.14272428 0.51221697 1.13163525\n",
            "  0.44402328 0.49290694 0.91317092 0.60981357 0.77625167 0.73983699\n",
            "  0.98095468 0.42991071 0.22245089 0.86187676 0.5896574  0.63878088\n",
            "  0.76298197 0.26321581 0.82228488 0.83455472 0.78034581 1.08797745\n",
            "  1.23469066 0.60705954 0.67084622 0.38123059 0.49082978 0.62420548\n",
            "  0.47063644 0.96455712 0.59293993 0.69371398 0.39715353 0.84655264\n",
            "  0.5285014  0.21265248 0.93168534 0.28307662 0.77553763 0.35308345\n",
            "  1.01156042 0.41237762 0.61817135 0.6530161  0.84594621 0.35769679\n",
            "  0.97818894 0.79820683 0.88346984 1.24785382 0.91201781 1.17616399\n",
            "  1.1105551  0.56635154 0.78532975 1.14534531 0.37685815 0.89221306\n",
            "  0.37669912 0.32596702 0.70735452 0.69478383 0.67915706 0.81945405\n",
            "  1.03325968 0.52500534 0.         1.15340883 0.26902021 1.05644809\n",
            "  0.87115314 0.85494085 1.03178716 0.50184243]\n",
            " [0.07162332 0.57740668 0.74719171 0.39603029 0.72820343 0.6919102\n",
            "  0.78035174 0.60061095 0.8299574  0.41324257 0.59891564 0.20346558\n",
            "  0.80576003 0.45825498 1.08225396 0.08475704 0.87381714 0.84820519\n",
            "  0.92343477 0.85430938 0.36801183 0.80401644 0.81265356 0.43181193\n",
            "  0.3556545  0.66358025 0.7352001  1.02554726 0.65185717 0.12413419\n",
            "  0.71866065 0.72878599 0.8371993  0.62127505 0.80536953 0.74675218\n",
            "  0.4149906  0.8230523  0.94245483 0.56738489 0.64549695 0.51464469\n",
            "  0.39077402 0.89514126 0.59798812 0.35979806 0.39918662 0.25451516\n",
            "  0.08128833 0.70082402 0.56976125 0.86370384 0.70087132 0.58140686\n",
            "  0.69158783 0.47667278 0.60798224 0.60130999 0.77506439 0.30709177\n",
            "  0.78455375 1.03258257 0.69802157 0.87170806 0.48810478 0.97900685\n",
            "  0.35088705 0.81063168 0.81642959 0.78786408 0.34279804 0.93123097\n",
            "  0.35466483 0.4460757  0.59233313 0.09472898 0.29914278 0.05152335\n",
            "  0.17607432 0.87896801 0.37977005 0.12452685 0.7864864  0.36792014\n",
            "  0.92449197 0.93689613 0.52970531 0.46079004 0.68734964 0.59292221\n",
            "  0.13250223 0.79770701 1.15340883 0.         0.88811666 0.29223839\n",
            "  0.50235139 0.56525966 0.42972644 0.66896621]\n",
            " [0.8258845  0.62063547 0.15840947 0.55799314 0.7200657  0.53318581\n",
            "  0.42015719 0.69298548 0.40455363 0.57768311 0.41482052 0.81695489\n",
            "  0.0829198  0.61280256 0.20404647 0.80497112 0.66861717 0.59732565\n",
            "  0.41910676 0.61781487 0.55316732 0.11223728 0.08758183 0.67749189\n",
            "  0.6420384  0.51347207 0.56812902 0.16861966 0.24321014 0.87378485\n",
            "  0.20445042 0.24373216 0.71912649 0.35165877 0.64879774 0.52763243\n",
            "  0.72008434 0.28617055 0.11578886 0.61574164 0.3824626  0.37435904\n",
            "  0.49737627 0.0087746  0.57982631 0.58488102 0.51132855 0.84230477\n",
            "  0.96936918 0.43158767 0.45199819 0.25688033 0.27494736 0.3960329\n",
            "  0.22722604 0.75110515 0.36636878 0.4919274  0.13267599 0.58105098\n",
            "  0.38241088 0.18244355 0.70810005 0.02179271 0.55009424 0.24604456\n",
            "  0.74676274 0.25055741 0.42455784 0.45063334 0.57693723 0.2106512\n",
            "  0.71306667 0.53292597 0.64177655 0.98278872 0.66191511 0.91312427\n",
            "  0.85694736 0.47246984 0.52832456 0.88755477 0.15140946 0.62551918\n",
            "  0.30416948 0.25836359 0.44466253 0.43407974 0.50785266 0.57599156\n",
            "  0.7712594  0.31562462 0.26902021 0.88811666 0.         0.81494307\n",
            "  0.61622821 0.60825266 0.81049381 0.26490392]\n",
            " [0.23953778 0.7316576  0.70931801 0.49936204 0.90267599 0.80940429\n",
            "  0.85386899 0.77912401 0.89468663 0.5369245  0.43180489 0.08962402\n",
            "  0.73430691 0.60826203 1.01897693 0.25400534 1.01474989 0.59930763\n",
            "  0.72215116 0.98301674 0.44995626 0.7104112  0.72881818 0.18009219\n",
            "  0.17299188 0.44015548 0.49147148 0.91643701 0.61889368 0.17374525\n",
            "  0.61547647 0.73309874 0.99767491 0.65773753 0.54386851 0.85881076\n",
            "  0.61329059 0.66109517 0.83422662 0.72009104 0.47846394 0.46708623\n",
            "  0.37901273 0.82330005 0.73609916 0.23434461 0.45447556 0.04533765\n",
            "  0.33551767 0.50202496 0.39392159 0.70887172 0.56697595 0.43314103\n",
            "  0.59010955 0.19233758 0.46435837 0.39619239 0.73357055 0.32459308\n",
            "  0.59418586 0.98651202 0.87225954 0.79471347 0.28958709 0.97295611\n",
            "  0.56185478 0.66175305 0.88886479 0.87116605 0.43382946 0.92204237\n",
            "  0.54959694 0.54795853 0.75367461 0.33899486 0.16342215 0.26323888\n",
            "  0.1204192  0.66166111 0.30440951 0.17982998 0.68068217 0.5135013\n",
            "  0.75579377 0.78246896 0.59713455 0.40028144 0.46360684 0.72964961\n",
            "  0.20908724 0.83424499 1.05644809 0.29223839 0.81494307 0.\n",
            "  0.65570669 0.71511111 0.13754368 0.55583894]\n",
            " [0.4833947  0.07714715 0.46012125 0.16662271 0.24748572 0.19723317\n",
            "  0.31677518 0.13058275 0.36945485 0.12289818 0.6028068  0.58996141\n",
            "  0.55479909 0.04757195 0.75670325 0.45614799 0.37252485 0.92629561\n",
            "  0.87749558 0.35204602 0.21896903 0.59162717 0.58058976 0.66165698\n",
            "  0.55951301 0.73802185 0.82875044 0.78428767 0.3998859  0.57706506\n",
            "  0.55529926 0.37826807 0.34406064 0.26461638 0.92576795 0.25211892\n",
            "  0.12336571 0.72658634 0.71697383 0.06613946 0.62586152 0.38401146\n",
            "  0.3415524  0.61926088 0.09729711 0.49528071 0.23808974 0.64764791\n",
            "  0.56371115 0.71468334 0.60391707 0.74217403 0.59856581 0.56423854\n",
            "  0.53738777 0.74969313 0.56803315 0.66817174 0.48395046 0.34665686\n",
            "  0.75369313 0.68843502 0.21737489 0.61053163 0.60644468 0.58565458\n",
            "  0.1795988  0.6939924  0.34934632 0.31306405 0.22736422 0.54992175\n",
            "  0.15818722 0.13436938 0.09796983 0.57806275 0.51997334 0.55098143\n",
            "  0.60149475 0.87712525 0.43062121 0.58710787 0.60131627 0.14374629\n",
            "  0.81345676 0.79590687 0.18161007 0.40120344 0.75387939 0.09321809\n",
            "  0.4695572  0.37794548 0.87115314 0.50235139 0.61622821 0.65570669\n",
            "  0.         0.06307901 0.75369294 0.54560894]\n",
            " [0.54636579 0.01850162 0.45642872 0.21973644 0.19211757 0.14155728\n",
            "  0.27220594 0.0931441  0.32413671 0.17871579 0.6363195  0.65110953\n",
            "  0.55318818 0.10952545 0.73474725 0.51908933 0.3094633  0.95875562\n",
            "  0.89648472 0.28940814 0.27201546 0.5952236  0.58124884 0.71349261\n",
            "  0.6127152  0.77438655 0.86479616 0.7768654  0.40772133 0.639823\n",
            "  0.56861356 0.36545411 0.28288136 0.26185243 0.96261175 0.19500044\n",
            "  0.17424149 0.7428745  0.71395699 0.00813015 0.65565951 0.41458283\n",
            "  0.38771752 0.61043167 0.04061192 0.54649238 0.28501304 0.70831674\n",
            "  0.62589004 0.74518909 0.64071144 0.75448162 0.61885518 0.59710626\n",
            "  0.55306794 0.80258654 0.59796782 0.70592796 0.47804265 0.40128687\n",
            "  0.77770204 0.6642797  0.16324281 0.6047458  0.65131425 0.55321733\n",
            "  0.23592905 0.70852882 0.30224682 0.26403937 0.28340232 0.52129217\n",
            "  0.21797205 0.17915862 0.04509893 0.64018336 0.5757133  0.6140013\n",
            "  0.66357331 0.90155008 0.47882794 0.64995574 0.60901411 0.20567491\n",
            "  0.8252926  0.80391894 0.19834916 0.4399165  0.78898364 0.03967118\n",
            "  0.53166554 0.34569906 0.85494085 0.56525966 0.60825266 0.71511111\n",
            "  0.06307901 0.         0.80972017 0.56548851]\n",
            " [0.37500648 0.82719571 0.72771141 0.59009982 1.00082539 0.88927071\n",
            "  0.91504861 0.88142749 0.95089596 0.63148282 0.40084889 0.22656215\n",
            "  0.73456189 0.70721335 1.0125354  0.38718873 1.09829439 0.49524512\n",
            "  0.64747308 1.06250698 0.53814565 0.70029837 0.72291251 0.13332873\n",
            "  0.20485071 0.36548218 0.39608817 0.88928696 0.64543624 0.31064169\n",
            "  0.60611222 0.76986777 1.08892984 0.71259063 0.43143076 0.93507167\n",
            "  0.7264255  0.61427087 0.81046649 0.8154931  0.44213815 0.50091105\n",
            "  0.44170913 0.81918098 0.82592909 0.27700331 0.53301339 0.17850676\n",
            "  0.47138117 0.44111669 0.36204757 0.6639608  0.54359921 0.41469861\n",
            "  0.58360045 0.07712286 0.44498599 0.34145996 0.74888045 0.40865557\n",
            "  0.53276592 0.98953731 0.97095209 0.78917764 0.26042823 0.99550304\n",
            "  0.6800793  0.62290274 0.94844778 0.93573613 0.5266017  0.94475732\n",
            "  0.66410531 0.63463552 0.85092272 0.4739993  0.23400986 0.40014092\n",
            "  0.25702505 0.57845612 0.35308293 0.31581962 0.66561539 0.61620738\n",
            "  0.70040881 0.7345968  0.66811473 0.43709173 0.38664489 0.81922553\n",
            "  0.33808754 0.88065144 1.03178716 0.42972644 0.81049381 0.13754368\n",
            "  0.75369294 0.80972017 0.         0.54559194]\n",
            " [0.60101339 0.58257935 0.2136943  0.42375807 0.73013665 0.5533596\n",
            "  0.4986914  0.65862902 0.51172299 0.45958374 0.15409451 0.56737173\n",
            "  0.19108131 0.52212628 0.46747309 0.58421194 0.74283055 0.41856449\n",
            "  0.33190814 0.69458138 0.39589499 0.15558562 0.17732209 0.41264238\n",
            "  0.38320962 0.27627106 0.35155169 0.36444749 0.17809764 0.63364002\n",
            "  0.06061859 0.29929026 0.76966132 0.32436185 0.44618208 0.57406709\n",
            "  0.61482984 0.18335613 0.28104672 0.57360976 0.1330554  0.17916237\n",
            "  0.29355383 0.2735968  0.55288351 0.3332581  0.35340291 0.58632958\n",
            "  0.74930066 0.21019411 0.18914936 0.20893797 0.05338112 0.13131469\n",
            "  0.03955949 0.48693329 0.10254038 0.23731151 0.22541933 0.37121554\n",
            "  0.21523727 0.44495212 0.70874227 0.24360056 0.28519199 0.46950812\n",
            "  0.61889363 0.15589127 0.52109722 0.52832159 0.41329482 0.42115134\n",
            "  0.58553221 0.42309344 0.60862283 0.76150994 0.41058455 0.68539387\n",
            "  0.60978969 0.33843434 0.29052456 0.64722045 0.12506402 0.49373207\n",
            "  0.27865547 0.27637649 0.36755039 0.21219825 0.27862264 0.54688444\n",
            "  0.5420342  0.42018004 0.50184243 0.66896621 0.26490392 0.55583894\n",
            "  0.54560894 0.56548851 0.54559194 0.        ]]\n"
          ]
        }
      ],
      "source": [
        "import scipy\n",
        "import scipy.spatial\n",
        "\n",
        "arr = np.random.random((100,2))\n",
        "distance = scipy.spatial.distance.cdist(arr,arr)\n",
        "print(distance)"
      ]
    },
    {
      "cell_type": "markdown",
      "id": "343c5a85",
      "metadata": {
        "id": "343c5a85"
      },
      "source": [
        "#### 53. How to convert a float (32 bits) array into an integer (32 bits) in place?"
      ]
    },
    {
      "cell_type": "code",
      "execution_count": null,
      "id": "fc1b687b",
      "metadata": {
        "id": "fc1b687b",
        "colab": {
          "base_uri": "https://localhost:8080/"
        },
        "outputId": "bcc78c83-5eb9-463f-9d9c-d290402d0467"
      },
      "outputs": [
        {
          "output_type": "stream",
          "name": "stdout",
          "text": [
            "[0 1 2 3 4 5 6 7 8 9]\n"
          ]
        }
      ],
      "source": [
        "arr = np.arange(10, dtype=np.float32)\n",
        "arr = arr.astype(np.int32)\n",
        "print(arr)"
      ]
    },
    {
      "cell_type": "markdown",
      "id": "a69e1ace",
      "metadata": {
        "id": "a69e1ace"
      },
      "source": [
        "#### 54. How to read the following file? (★★☆)\n",
        "```\n",
        "1, 2, 3, 4, 5\n",
        "6,  ,  , 7, 8\n",
        " ,  , 9,10,11\n",
        "```"
      ]
    },
    {
      "cell_type": "code",
      "execution_count": null,
      "id": "1c7957d4",
      "metadata": {
        "id": "1c7957d4",
        "colab": {
          "base_uri": "https://localhost:8080/"
        },
        "outputId": "9626ae7f-b0cd-4e12-f3a2-e7a995f081d0"
      },
      "outputs": [
        {
          "output_type": "stream",
          "name": "stderr",
          "text": [
            "<ipython-input-65-cae4b0f84bea>:7: DeprecationWarning: `np.int` is a deprecated alias for the builtin `int`. To silence this warning, use `int` by itself. Doing this will not modify any behavior and is safe. When replacing `np.int`, you may wish to use e.g. `np.int64` or `np.int32` to specify the precision. If you wish to review your current use, check the release note link for additional information.\n",
            "Deprecated in NumPy 1.20; for more details and guidance: https://numpy.org/devdocs/release/1.20.0-notes.html#deprecations\n",
            "  read = np.genfromtxt(file_data, delimiter=',', dtype=np.int)\n"
          ]
        },
        {
          "output_type": "execute_result",
          "data": {
            "text/plain": [
              "array([[ 1,  2,  3,  4,  5],\n",
              "       [ 6, -1, -1,  7,  8],\n",
              "       [-1, -1,  9, 10, 11]])"
            ]
          },
          "metadata": {},
          "execution_count": 65
        }
      ],
      "source": [
        "from io import StringIO\n",
        "\n",
        "file_data = StringIO(\"\"\"1, 2, 3, 4, 5\\n\n",
        "                        6,  ,  , 7, 8\\n\n",
        "                         ,  , 9,10,11\\n\"\"\")\n",
        "\n",
        "read = np.genfromtxt(file_data, delimiter=',', dtype=np.int)\n",
        "read"
      ]
    },
    {
      "cell_type": "markdown",
      "id": "c23bd80d",
      "metadata": {
        "id": "c23bd80d"
      },
      "source": [
        "#### 55. What is the equivalent of enumerate for numpy arrays? (★★☆)"
      ]
    },
    {
      "cell_type": "code",
      "execution_count": null,
      "id": "d95d9578",
      "metadata": {
        "id": "d95d9578",
        "colab": {
          "base_uri": "https://localhost:8080/"
        },
        "outputId": "4b630981-82ba-4ace-b069-08f8d9adfc2b"
      },
      "outputs": [
        {
          "output_type": "stream",
          "name": "stdout",
          "text": [
            "(0, 0) 0\n",
            "(0, 1) 1\n",
            "(0, 2) 2\n",
            "(0, 3) 3\n",
            "(1, 0) 4\n",
            "(1, 1) 5\n",
            "(1, 2) 6\n",
            "(1, 3) 7\n",
            "(2, 0) 8\n",
            "(2, 1) 9\n",
            "(2, 2) 10\n",
            "(2, 3) 11\n",
            "\n",
            "===================================================\n",
            "\n",
            "(0, 0) 0\n",
            "(0, 1) 1\n",
            "(0, 2) 2\n",
            "(0, 3) 3\n",
            "(1, 0) 4\n",
            "(1, 1) 5\n",
            "(1, 2) 6\n",
            "(1, 3) 7\n",
            "(2, 0) 8\n",
            "(2, 1) 9\n",
            "(2, 2) 10\n",
            "(2, 3) 11\n"
          ]
        }
      ],
      "source": [
        "arr = np.arange(12).reshape(3,4)\n",
        "\n",
        "for index, value in np.ndenumerate(arr):\n",
        "    print(index, value)\n",
        "\n",
        "print()\n",
        "print(\"===================================================\")\n",
        "print()\n",
        "\n",
        "for index in np.ndindex(arr.shape):\n",
        "    print(index, arr[index])"
      ]
    },
    {
      "cell_type": "markdown",
      "id": "2153a5ec",
      "metadata": {
        "id": "2153a5ec"
      },
      "source": [
        "#### 56. Generate a generic 2D Gaussian-like array (★★☆)"
      ]
    },
    {
      "cell_type": "code",
      "execution_count": null,
      "id": "61122d1e",
      "metadata": {
        "id": "61122d1e",
        "colab": {
          "base_uri": "https://localhost:8080/"
        },
        "outputId": "e3379c59-5849-403b-9473-11b760928c7c"
      },
      "outputs": [
        {
          "output_type": "stream",
          "name": "stdout",
          "text": [
            "[[0.36787944 0.44822088 0.51979489 0.57375342 0.60279818 0.60279818\n",
            "  0.57375342 0.51979489 0.44822088 0.36787944]\n",
            " [0.44822088 0.54610814 0.63331324 0.69905581 0.73444367 0.73444367\n",
            "  0.69905581 0.63331324 0.54610814 0.44822088]\n",
            " [0.51979489 0.63331324 0.73444367 0.81068432 0.85172308 0.85172308\n",
            "  0.81068432 0.73444367 0.63331324 0.51979489]\n",
            " [0.57375342 0.69905581 0.81068432 0.89483932 0.9401382  0.9401382\n",
            "  0.89483932 0.81068432 0.69905581 0.57375342]\n",
            " [0.60279818 0.73444367 0.85172308 0.9401382  0.98773022 0.98773022\n",
            "  0.9401382  0.85172308 0.73444367 0.60279818]\n",
            " [0.60279818 0.73444367 0.85172308 0.9401382  0.98773022 0.98773022\n",
            "  0.9401382  0.85172308 0.73444367 0.60279818]\n",
            " [0.57375342 0.69905581 0.81068432 0.89483932 0.9401382  0.9401382\n",
            "  0.89483932 0.81068432 0.69905581 0.57375342]\n",
            " [0.51979489 0.63331324 0.73444367 0.81068432 0.85172308 0.85172308\n",
            "  0.81068432 0.73444367 0.63331324 0.51979489]\n",
            " [0.44822088 0.54610814 0.63331324 0.69905581 0.73444367 0.73444367\n",
            "  0.69905581 0.63331324 0.54610814 0.44822088]\n",
            " [0.36787944 0.44822088 0.51979489 0.57375342 0.60279818 0.60279818\n",
            "  0.57375342 0.51979489 0.44822088 0.36787944]]\n"
          ]
        }
      ],
      "source": [
        "X, Y = np.meshgrid(np.linspace(-1,1,10), np.linspace(-1,1,10))\n",
        "D = np.sqrt(X*X+Y*Y)\n",
        "sigma, mu = 1.0, 0.0\n",
        "G = np.exp(-( (D-mu)**2 / ( 2.0 * sigma**2 ) ) )\n",
        "print(G)"
      ]
    },
    {
      "cell_type": "markdown",
      "id": "2e76d589",
      "metadata": {
        "id": "2e76d589"
      },
      "source": [
        "#### 57. How to randomly place p elements in a 2D array? (★★☆)"
      ]
    },
    {
      "cell_type": "code",
      "execution_count": null,
      "id": "0c2e4fcc",
      "metadata": {
        "id": "0c2e4fcc",
        "colab": {
          "base_uri": "https://localhost:8080/"
        },
        "outputId": "26a049e4-d362-4358-e9d7-a475a30395b3"
      },
      "outputs": [
        {
          "output_type": "stream",
          "name": "stdout",
          "text": [
            "[[0. 0. 0. 0. 0. 0. 1. 0. 0. 0.]\n",
            " [0. 0. 0. 0. 0. 0. 1. 0. 0. 0.]\n",
            " [0. 0. 0. 0. 0. 0. 0. 0. 0. 0.]\n",
            " [0. 0. 0. 0. 0. 0. 0. 0. 0. 0.]\n",
            " [0. 0. 0. 0. 0. 0. 0. 0. 0. 0.]\n",
            " [0. 0. 0. 0. 0. 0. 0. 0. 0. 0.]\n",
            " [0. 0. 0. 0. 0. 0. 0. 0. 0. 0.]\n",
            " [0. 0. 0. 1. 0. 0. 0. 0. 0. 0.]\n",
            " [0. 0. 0. 0. 0. 0. 0. 0. 0. 0.]\n",
            " [0. 0. 0. 0. 0. 0. 0. 0. 0. 0.]]\n"
          ]
        }
      ],
      "source": [
        "n = 10\n",
        "p = 3\n",
        "arr = np.zeros((n,n))\n",
        "np.put(arr, np.random.choice(range(n*n), p, replace=False),1)\n",
        "print(arr)"
      ]
    },
    {
      "cell_type": "markdown",
      "id": "8b3933eb",
      "metadata": {
        "id": "8b3933eb"
      },
      "source": [
        "#### 58. Subtract the mean of each row of a matrix (★★☆)"
      ]
    },
    {
      "cell_type": "code",
      "execution_count": null,
      "id": "a306c9ef",
      "metadata": {
        "id": "a306c9ef",
        "colab": {
          "base_uri": "https://localhost:8080/"
        },
        "outputId": "7c1a2494-4108-484f-e481-664a4a41f172"
      },
      "outputs": [
        {
          "output_type": "stream",
          "name": "stdout",
          "text": [
            "[[-0.46939141  0.06809873  0.30283855  0.35798496 -0.47359084  0.01751641\n",
            "  -0.29704705  0.08598015  0.29553093  0.11207956]\n",
            " [ 0.2946654   0.25887615  0.12678016  0.09258852 -0.23897781  0.16849574\n",
            "  -0.01962173 -0.16342863 -0.02242086 -0.49695695]\n",
            " [ 0.29393074 -0.16711176 -0.33146657  0.18596979  0.33539059  0.08549556\n",
            "  -0.39133809  0.23022941 -0.54059242  0.29949274]\n",
            " [ 0.11754633  0.39013737 -0.03294152 -0.23198178 -0.30809525 -0.15091732\n",
            "   0.38794315  0.04698749 -0.06659316 -0.1520853 ]\n",
            " [ 0.13960703 -0.09597345 -0.00511217  0.26976474  0.23551728  0.00270321\n",
            "   0.16094828  0.09970195 -0.54092907 -0.2662278 ]]\n"
          ]
        }
      ],
      "source": [
        "arr = np.random.rand(5, 10)\n",
        "newarr = arr - arr.mean(axis=1).reshape(-1, 1)\n",
        "\n",
        "print(newarr)"
      ]
    },
    {
      "cell_type": "markdown",
      "id": "ea8807c0",
      "metadata": {
        "id": "ea8807c0"
      },
      "source": [
        "#### 59. How to sort an array by the nth column? (★★☆)"
      ]
    },
    {
      "cell_type": "code",
      "execution_count": null,
      "id": "cc89a699",
      "metadata": {
        "id": "cc89a699",
        "colab": {
          "base_uri": "https://localhost:8080/"
        },
        "outputId": "1cd33932-4a8c-483c-886e-198ef9fff759"
      },
      "outputs": [
        {
          "output_type": "stream",
          "name": "stdout",
          "text": [
            "[[2 6 0]\n",
            " [4 6 7]\n",
            " [5 1 6]]\n",
            "[[5 1 6]\n",
            " [2 6 0]\n",
            " [4 6 7]]\n"
          ]
        }
      ],
      "source": [
        "arr = np.random.randint(0,10,(3,3))\n",
        "print(arr)\n",
        "print(arr[arr[:,1].argsort()])"
      ]
    },
    {
      "cell_type": "markdown",
      "id": "00fa00a1",
      "metadata": {
        "id": "00fa00a1"
      },
      "source": [
        "#### 60. How to tell if a given 2D array has null columns? (★★☆)"
      ]
    },
    {
      "cell_type": "code",
      "execution_count": null,
      "id": "3436e165",
      "metadata": {
        "id": "3436e165",
        "colab": {
          "base_uri": "https://localhost:8080/"
        },
        "outputId": "ecf89617-4613-4e73-f406-8ecdb7265d1f"
      },
      "outputs": [
        {
          "output_type": "stream",
          "name": "stdout",
          "text": [
            "False\n"
          ]
        }
      ],
      "source": [
        "arr = np.random.randint(0,3,(3,10))\n",
        "print((~arr.any(axis=0)).any())"
      ]
    },
    {
      "cell_type": "markdown",
      "id": "5a65c7a2",
      "metadata": {
        "id": "5a65c7a2"
      },
      "source": [
        "#### 61. Find the nearest value from a given value in an array (★★☆)"
      ]
    },
    {
      "cell_type": "code",
      "execution_count": null,
      "id": "73f149d6",
      "metadata": {
        "id": "73f149d6",
        "colab": {
          "base_uri": "https://localhost:8080/"
        },
        "outputId": "7996e2ea-b6c2-49d2-9d20-f5a589df599e"
      },
      "outputs": [
        {
          "output_type": "stream",
          "name": "stdout",
          "text": [
            "Nearest value to 0.5 is 0.483022937867817\n"
          ]
        }
      ],
      "source": [
        "arr = np.random.rand(9).reshape(3,3)\n",
        "arr\n",
        "\n",
        "value = 0.5\n",
        "N = arr.flat[np.abs(arr-value).argmin()]\n",
        "\n",
        "print(f'Nearest value to {value} is {N}')"
      ]
    },
    {
      "cell_type": "markdown",
      "id": "dd83e8af",
      "metadata": {
        "id": "dd83e8af"
      },
      "source": [
        "#### 62. Considering two arrays with shape (1,3) and (3,1), how to compute their sum using an iterator? (★★☆)"
      ]
    },
    {
      "cell_type": "code",
      "execution_count": null,
      "id": "29a709a1",
      "metadata": {
        "id": "29a709a1",
        "colab": {
          "base_uri": "https://localhost:8080/"
        },
        "outputId": "65fd55b5-27d7-4d95-9f55-ad759dca6f38"
      },
      "outputs": [
        {
          "output_type": "stream",
          "name": "stdout",
          "text": [
            "1x3 array is: [[0.15137386 0.68878399 0.06213573]]\n",
            "\n",
            "3x1 array is: [[0.54508824]\n",
            " [0.99482186]\n",
            " [0.6632064 ]]\n",
            "\n",
            "Sum result is: [[0.69646209 1.23387222 0.60722397]\n",
            " [1.14619572 1.68360584 1.05695759]\n",
            " [0.81458026 1.35199039 0.72534213]]\n"
          ]
        }
      ],
      "source": [
        "matrix1 = np.random.rand(3).reshape(1,3)\n",
        "matrix2 = np.random.rand(3).reshape(3,1)\n",
        "\n",
        "print(f'1x3 array is: {matrix1}')\n",
        "print()\n",
        "print(f'3x1 array is: {matrix2}')\n",
        "\n",
        "iterator = np.nditer([matrix1,matrix2,None])\n",
        "\n",
        "for x,y,z in iterator: z[...] = x+y\n",
        "print()\n",
        "print(f'Sum result is: {iterator.operands[2]}')"
      ]
    },
    {
      "cell_type": "markdown",
      "id": "6c042efa",
      "metadata": {
        "id": "6c042efa"
      },
      "source": [
        "#### 63. Create an array class that has a name attribute (★★☆)"
      ]
    },
    {
      "cell_type": "code",
      "execution_count": null,
      "id": "45b3d2e0",
      "metadata": {
        "id": "45b3d2e0",
        "colab": {
          "base_uri": "https://localhost:8080/"
        },
        "outputId": "6ff4b91e-b922-442a-92f0-2644ebbd5d16"
      },
      "outputs": [
        {
          "output_type": "stream",
          "name": "stdout",
          "text": [
            "Array_10\n"
          ]
        }
      ],
      "source": [
        "class Array(np.ndarray):\n",
        "\n",
        "    def __new__(cls, array, name=\"name\"):\n",
        "        obj = np.asarray(array).view(cls)\n",
        "        obj.name = name\n",
        "        return obj\n",
        "\n",
        "    def __array_finalize__(self, obj):\n",
        "        if obj is None: return\n",
        "        self.info = getattr(obj, 'name', \"name\")\n",
        "\n",
        "Z = Array(np.arange(10), \"Array_10\")\n",
        "print (Z.name)"
      ]
    },
    {
      "cell_type": "markdown",
      "id": "0a075c3d",
      "metadata": {
        "id": "0a075c3d"
      },
      "source": [
        "#### 64. Consider a given vector, how to add 1 to each element indexed by a second vector (be careful with repeated indices)? (★★★)"
      ]
    },
    {
      "cell_type": "code",
      "execution_count": null,
      "id": "36c50470",
      "metadata": {
        "id": "36c50470",
        "colab": {
          "base_uri": "https://localhost:8080/"
        },
        "outputId": "c1e0d512-ea7d-4f3f-e788-5db85e02df46"
      },
      "outputs": [
        {
          "output_type": "stream",
          "name": "stdout",
          "text": [
            "[3. 3. 3. 3. 2. 5. 3. 4. 3. 1.]\n",
            "[5. 5. 5. 5. 3. 9. 5. 7. 5. 1.]\n"
          ]
        }
      ],
      "source": [
        "vector1 = np.ones(10)\n",
        "vector2 = np.random.randint(0,len(Z),20)\n",
        "\n",
        "vector1 += np.bincount(vector2, minlength=len(Z))\n",
        "print(vector1)\n",
        "\n",
        "# Another solution\n",
        "\n",
        "np.add.at(vector1, vector2, 1)\n",
        "print(vector1)"
      ]
    },
    {
      "cell_type": "markdown",
      "id": "0fb2f0c5",
      "metadata": {
        "id": "0fb2f0c5"
      },
      "source": [
        "#### 65. How to accumulate elements of a vector (X) to an array (F) based on an index list (I)? (★★★)"
      ]
    },
    {
      "cell_type": "code",
      "execution_count": null,
      "id": "58aa5f82",
      "metadata": {
        "id": "58aa5f82",
        "colab": {
          "base_uri": "https://localhost:8080/"
        },
        "outputId": "cd5ec886-7e9c-44c1-d09a-6b9eb34ec02b"
      },
      "outputs": [
        {
          "output_type": "stream",
          "name": "stdout",
          "text": [
            "[0. 7. 0. 6. 5. 0. 0. 0. 0. 3.]\n"
          ]
        }
      ],
      "source": [
        "X = [1,2,3,4,5,6]\n",
        "I = [1,3,9,3,4,1]\n",
        "F = np.bincount(I,X)\n",
        "print(F)"
      ]
    },
    {
      "cell_type": "markdown",
      "id": "d89dc506",
      "metadata": {
        "id": "d89dc506"
      },
      "source": [
        "#### 66. Considering a (w,h,3) image of (dtype=ubyte), compute the number of unique colors (★★☆)"
      ]
    },
    {
      "cell_type": "code",
      "execution_count": null,
      "id": "8fb43a49",
      "metadata": {
        "id": "8fb43a49",
        "colab": {
          "base_uri": "https://localhost:8080/"
        },
        "outputId": "e5a7ff1c-ae1a-4834-f53f-954771a12371"
      },
      "outputs": [
        {
          "output_type": "stream",
          "name": "stdout",
          "text": [
            "8\n"
          ]
        }
      ],
      "source": [
        "w,h = 16,16\n",
        "I = np.random.randint(0,2,(h,w,3)).astype(np.ubyte)\n",
        "F = I[...,0]*(256*256) + I[...,1]*256 +I[...,2]\n",
        "n = len(np.unique(F))\n",
        "print(n)"
      ]
    },
    {
      "cell_type": "markdown",
      "id": "535a5d81",
      "metadata": {
        "id": "535a5d81"
      },
      "source": [
        "#### 67. Considering a four dimensions array, how to get sum over the last two axis at once? (★★★)"
      ]
    },
    {
      "cell_type": "code",
      "execution_count": null,
      "id": "f954ab9d",
      "metadata": {
        "id": "f954ab9d",
        "colab": {
          "base_uri": "https://localhost:8080/"
        },
        "outputId": "19d222b1-8256-40d6-de96-e3455363d8b0"
      },
      "outputs": [
        {
          "output_type": "stream",
          "name": "stdout",
          "text": [
            "[[63 63 57 46]\n",
            " [58 68 77 40]\n",
            " [59 37 52 49]]\n"
          ]
        }
      ],
      "source": [
        "arr = np.random.randint(0,10,(3,4,3,4))\n",
        "sum = arr.sum(axis=(-2,-1))\n",
        "print(sum)"
      ]
    },
    {
      "cell_type": "markdown",
      "id": "eee66d3c",
      "metadata": {
        "id": "eee66d3c"
      },
      "source": [
        "#### 68. Considering a one-dimensional vector D, how to compute means of subsets of D using a vector S of same size describing subset  indices? (★★★)"
      ]
    },
    {
      "cell_type": "code",
      "execution_count": null,
      "id": "8929773a",
      "metadata": {
        "id": "8929773a",
        "colab": {
          "base_uri": "https://localhost:8080/"
        },
        "outputId": "147f8a31-2f66-4592-ea11-65c190154b8b"
      },
      "outputs": [
        {
          "output_type": "stream",
          "name": "stdout",
          "text": [
            "[0.66396328 0.60211474 0.51442931 0.54042751 0.52513936 0.45052313\n",
            " 0.51999812 0.50358041 0.36027665 0.59980076]\n"
          ]
        }
      ],
      "source": [
        "D = np.random.uniform(0,1,100)\n",
        "S = np.random.randint(0,10,100)\n",
        "D_sums = np.bincount(S, weights=D)\n",
        "D_counts = np.bincount(S)\n",
        "D_means = D_sums / D_counts\n",
        "print(D_means)"
      ]
    },
    {
      "cell_type": "markdown",
      "id": "f90d4c40",
      "metadata": {
        "id": "f90d4c40"
      },
      "source": [
        "#### 69. How to get the diagonal of a dot product? (★★★)"
      ]
    },
    {
      "cell_type": "code",
      "execution_count": null,
      "id": "b47d392d",
      "metadata": {
        "id": "b47d392d",
        "colab": {
          "base_uri": "https://localhost:8080/"
        },
        "outputId": "99b62f4a-7ae1-43c3-9e73-fefcddaa42a9"
      },
      "outputs": [
        {
          "output_type": "execute_result",
          "data": {
            "text/plain": [
              "array([89.62122413, 71.28333928, 95.79518375])"
            ]
          },
          "metadata": {},
          "execution_count": 93
        }
      ],
      "source": [
        "matrix1 = np.random.uniform(0,10,(3,3))\n",
        "matrix2 = np.random.uniform(0,10,(3,3))\n",
        "\n",
        "np.diag(np.dot(matrix1,matrix2))"
      ]
    },
    {
      "cell_type": "markdown",
      "id": "a8a97e7d",
      "metadata": {
        "id": "a8a97e7d"
      },
      "source": [
        "#### 70. Consider the vector [1, 2, 3, 4, 5], how to build a new vector with 3 consecutive zeros interleaved between each value? (★★★)"
      ]
    },
    {
      "cell_type": "code",
      "execution_count": null,
      "id": "ee6c6c37",
      "metadata": {
        "id": "ee6c6c37",
        "colab": {
          "base_uri": "https://localhost:8080/"
        },
        "outputId": "27d53e8c-4a60-4dde-df07-17f785c295a4"
      },
      "outputs": [
        {
          "output_type": "stream",
          "name": "stdout",
          "text": [
            "[1. 0. 0. 0. 2. 0. 0. 0. 3. 0. 0. 0. 4. 0. 0. 0. 5.]\n"
          ]
        }
      ],
      "source": [
        "vector = np.array([1,2,3,4,5])\n",
        "zeros = 3\n",
        "vector_0 = np.zeros(len(vector) + (len(vector)-1)*(zeros))\n",
        "vector_0[::zeros+1] = Z\n",
        "print(vector_0)"
      ]
    },
    {
      "cell_type": "markdown",
      "id": "d6a30d60",
      "metadata": {
        "id": "d6a30d60"
      },
      "source": [
        "#### 71. Consider an array of dimension (5,5,3), how to mulitply it by an array with dimensions (5,5)? (★★★)"
      ]
    },
    {
      "cell_type": "code",
      "execution_count": null,
      "id": "e9703f2e",
      "metadata": {
        "id": "e9703f2e",
        "colab": {
          "base_uri": "https://localhost:8080/"
        },
        "outputId": "d849e834-d787-4587-e76a-7d24f99474e1"
      },
      "outputs": [
        {
          "output_type": "stream",
          "name": "stdout",
          "text": [
            "[[[2. 2. 2.]\n",
            "  [2. 2. 2.]\n",
            "  [2. 2. 2.]\n",
            "  [2. 2. 2.]\n",
            "  [2. 2. 2.]]\n",
            "\n",
            " [[2. 2. 2.]\n",
            "  [2. 2. 2.]\n",
            "  [2. 2. 2.]\n",
            "  [2. 2. 2.]\n",
            "  [2. 2. 2.]]\n",
            "\n",
            " [[2. 2. 2.]\n",
            "  [2. 2. 2.]\n",
            "  [2. 2. 2.]\n",
            "  [2. 2. 2.]\n",
            "  [2. 2. 2.]]\n",
            "\n",
            " [[2. 2. 2.]\n",
            "  [2. 2. 2.]\n",
            "  [2. 2. 2.]\n",
            "  [2. 2. 2.]\n",
            "  [2. 2. 2.]]\n",
            "\n",
            " [[2. 2. 2.]\n",
            "  [2. 2. 2.]\n",
            "  [2. 2. 2.]\n",
            "  [2. 2. 2.]\n",
            "  [2. 2. 2.]]]\n"
          ]
        }
      ],
      "source": [
        "arr = np.ones((5,5,3))\n",
        "new_arr = 2*np.ones((5,5))\n",
        "print(arr * new_arr[:,:,None])"
      ]
    },
    {
      "cell_type": "markdown",
      "id": "bac359a9",
      "metadata": {
        "id": "bac359a9"
      },
      "source": [
        "#### 72. How to swap two rows of an array? (★★★)"
      ]
    },
    {
      "cell_type": "code",
      "execution_count": null,
      "id": "f1b432b1",
      "metadata": {
        "id": "f1b432b1",
        "colab": {
          "base_uri": "https://localhost:8080/"
        },
        "outputId": "14a70da2-e81f-4fba-bfaa-03020e54db4a"
      },
      "outputs": [
        {
          "output_type": "stream",
          "name": "stdout",
          "text": [
            "[[ 5  6  7  8  9]\n",
            " [ 0  1  2  3  4]\n",
            " [10 11 12 13 14]\n",
            " [15 16 17 18 19]\n",
            " [20 21 22 23 24]]\n"
          ]
        }
      ],
      "source": [
        "arr = np.arange(25).reshape(5,5)\n",
        "arr[[0,1]] = arr[[1,0]]\n",
        "print(arr)"
      ]
    },
    {
      "cell_type": "markdown",
      "id": "620c9f83",
      "metadata": {
        "id": "620c9f83"
      },
      "source": [
        "#### 73. Consider a set of 10 triplets describing 10 triangles (with shared vertices), find the set of unique line segments composing all the  triangles (★★★)"
      ]
    },
    {
      "cell_type": "code",
      "execution_count": null,
      "id": "4e595ffc",
      "metadata": {
        "id": "4e595ffc"
      },
      "outputs": [],
      "source": [
        "np.roll?\n",
        "np.repeat?"
      ]
    },
    {
      "cell_type": "code",
      "source": [
        "faces = np.random.randint(0,100,(10,3))\n",
        "F = np.roll(faces.repeat(2,axis=1),-1,axis=1)\n",
        "F = F.reshape(len(F)*3,2)\n",
        "F = np.sort(F,axis=1)\n",
        "G = F.view( dtype=[('p0',F.dtype),('p1',F.dtype)] )\n",
        "G = np.unique(G)\n",
        "print(G)"
      ],
      "metadata": {
        "colab": {
          "base_uri": "https://localhost:8080/"
        },
        "id": "GlEdKFLZDTkr",
        "outputId": "ec8a039b-6b4b-4f57-858b-d59d4948c515"
      },
      "id": "GlEdKFLZDTkr",
      "execution_count": null,
      "outputs": [
        {
          "output_type": "stream",
          "name": "stdout",
          "text": [
            "[(17, 90) (17, 91) (22, 48) (22, 85) (26, 45) (26, 53) (28, 67) (28, 85)\n",
            " (33, 50) (33, 53) (33, 58) (33, 84) (37, 59) (37, 76) (37, 92) (37, 93)\n",
            " (45, 53) (48, 85) (50, 84) (53, 58) (59, 76) (67, 85) (70, 86) (70, 95)\n",
            " (77, 78) (77, 91) (78, 91) (86, 95) (90, 91) (92, 93)]\n"
          ]
        }
      ]
    },
    {
      "cell_type": "markdown",
      "id": "a76c55a2",
      "metadata": {
        "id": "a76c55a2"
      },
      "source": [
        "#### 74. Given a sorted array C that corresponds to a bincount, how to produce an array A such that np.bincount(A) == C? (★★★)"
      ]
    },
    {
      "cell_type": "code",
      "source": [
        "np.bincount?"
      ],
      "metadata": {
        "id": "Te8-rYReEFeH"
      },
      "id": "Te8-rYReEFeH",
      "execution_count": null,
      "outputs": []
    },
    {
      "cell_type": "code",
      "execution_count": null,
      "id": "2d2ae65a",
      "metadata": {
        "id": "2d2ae65a",
        "colab": {
          "base_uri": "https://localhost:8080/"
        },
        "outputId": "1b03a5f2-e89a-449e-88b3-0475b9a3c6bb"
      },
      "outputs": [
        {
          "output_type": "stream",
          "name": "stdout",
          "text": [
            "[1 1 2 3 4 4 6]\n"
          ]
        }
      ],
      "source": [
        "C = np.bincount([1,1,2,3,4,4,6])\n",
        "A = np.repeat(np.arange(len(C)), C)\n",
        "print(A)"
      ]
    },
    {
      "cell_type": "markdown",
      "id": "d550c8e2",
      "metadata": {
        "id": "d550c8e2"
      },
      "source": [
        "#### 75. How to compute averages using a sliding window over an array? (★★★)"
      ]
    },
    {
      "cell_type": "code",
      "source": [
        "np.cumsum?"
      ],
      "metadata": {
        "id": "oexHLT0nEmXC"
      },
      "id": "oexHLT0nEmXC",
      "execution_count": null,
      "outputs": []
    },
    {
      "cell_type": "code",
      "execution_count": null,
      "id": "841c457c",
      "metadata": {
        "id": "841c457c",
        "colab": {
          "base_uri": "https://localhost:8080/"
        },
        "outputId": "56e3c99e-1b11-4127-e67c-ce4bc8522f1a"
      },
      "outputs": [
        {
          "output_type": "stream",
          "name": "stdout",
          "text": [
            "[ 1.  2.  3.  4.  5.  6.  7.  8.  9. 10. 11. 12. 13. 14. 15. 16. 17. 18.]\n"
          ]
        }
      ],
      "source": [
        "def moving_average(a, n=3) :\n",
        "    ret = np.cumsum(a, dtype=float)\n",
        "    ret[n:] = ret[n:] - ret[:-n]\n",
        "    return ret[n - 1:] / n\n",
        "arr = np.arange(20)\n",
        "print(moving_average(arr, n=3))"
      ]
    },
    {
      "cell_type": "markdown",
      "id": "6b170b00",
      "metadata": {
        "id": "6b170b00"
      },
      "source": [
        "#### 76. Consider a one-dimensional array Z, build a two-dimensional array whose first row is (Z[0],Z[1],Z[2]) and each subsequent row is  shifted by 1 (last row should be (Z[-3],Z[-2],Z[-1]) (★★★)"
      ]
    },
    {
      "cell_type": "code",
      "source": [
        "from numpy.lib import stride_tricks\n",
        "\n",
        "def roll(arr, window):\n",
        "    shape = (arr.size - window + 1, window)\n",
        "    strides = (arr.itemsize, arr.itemsize)\n",
        "    return stride_tricks.as_strided(arr, shape=shape, strides=strides)\n",
        "arr = roll(np.arange(10), 3)\n",
        "print(arr)"
      ],
      "metadata": {
        "colab": {
          "base_uri": "https://localhost:8080/"
        },
        "id": "8A2R2qj8E52N",
        "outputId": "5e77f646-5a91-4652-fd2f-b466677c8c4a"
      },
      "id": "8A2R2qj8E52N",
      "execution_count": null,
      "outputs": [
        {
          "output_type": "stream",
          "name": "stdout",
          "text": [
            "[[0 1 2]\n",
            " [1 2 3]\n",
            " [2 3 4]\n",
            " [3 4 5]\n",
            " [4 5 6]\n",
            " [5 6 7]\n",
            " [6 7 8]\n",
            " [7 8 9]]\n"
          ]
        }
      ]
    },
    {
      "cell_type": "markdown",
      "id": "e94a5c1d",
      "metadata": {
        "id": "e94a5c1d"
      },
      "source": [
        "#### 77. How to negate a boolean, or to change the sign of a float inplace? (★★★)"
      ]
    },
    {
      "cell_type": "code",
      "execution_count": null,
      "id": "c0f9504f",
      "metadata": {
        "id": "c0f9504f",
        "colab": {
          "base_uri": "https://localhost:8080/"
        },
        "outputId": "8015c1ad-455e-4c0b-fe81-763e0375ff9f"
      },
      "outputs": [
        {
          "output_type": "execute_result",
          "data": {
            "text/plain": [
              "array([ 0.3389448 , -0.17176772,  0.38548298, -0.67794062, -0.74777157,\n",
              "        0.09824573, -0.10874739,  0.52650745,  0.52416193,  0.73956239,\n",
              "        0.51409249, -0.34246342, -0.48913998,  0.64753646,  0.89267501,\n",
              "        0.55053851, -0.85191731, -0.08290893,  0.20539819, -0.80006219,\n",
              "       -0.61278393, -0.34259807,  0.20413003, -0.45647486, -0.90425076,\n",
              "        0.33536261, -0.76300707, -0.67766874, -0.68941373,  0.8233938 ,\n",
              "       -0.62934685,  0.30130587, -0.56350416,  0.25488616,  0.78442725,\n",
              "        0.03889743,  0.21277685,  0.79165208, -0.4161467 , -0.75387135,\n",
              "        0.70490185,  0.58791298, -0.47475116, -0.96745429,  0.75336854,\n",
              "       -0.35474041,  0.45887019,  0.67477915, -0.99424967,  0.26516763,\n",
              "        0.07695277, -0.12257511, -0.3060881 , -0.58685572,  0.97806552,\n",
              "        0.44253637,  0.81190263, -0.59331056,  0.36277659, -0.27713771,\n",
              "       -0.34402992, -0.83437804, -0.72100549, -0.39295924,  0.17426871,\n",
              "        0.46943452,  0.40185782, -0.06590064,  0.60789946,  0.65231609,\n",
              "       -0.91730556,  0.68667232,  0.35298612,  0.25582127,  0.43552967,\n",
              "       -0.50969353, -0.51417909, -0.0795189 , -0.06895199,  0.25203029,\n",
              "        0.28048327, -0.11465048,  0.11004357, -0.93715353,  0.78514471,\n",
              "       -0.50245847, -0.30182508,  0.33897368, -0.37846107,  0.97291749,\n",
              "        0.45279453, -0.31855346,  0.44869206, -0.51209855,  0.37679557,\n",
              "       -0.77989432, -0.42027548,  0.78195016,  0.38372058,  0.01049439])"
            ]
          },
          "metadata": {},
          "execution_count": 12
        }
      ],
      "source": [
        "matrix = np.random.randint(0,2,100)\n",
        "np.logical_not(matrix, out=matrix)\n",
        "\n",
        "matrix = np.random.uniform(-1.0,1.0,100)\n",
        "np.negative(matrix, out=matrix)"
      ]
    },
    {
      "cell_type": "markdown",
      "id": "4eb8b5c1",
      "metadata": {
        "id": "4eb8b5c1"
      },
      "source": [
        "#### 78. Consider 2 sets of points P0,P1 describing lines (2d) and a point p, how to compute distance from p to each line i (P0[i],P1[i])? (★★★)"
      ]
    },
    {
      "cell_type": "code",
      "execution_count": null,
      "id": "487f47ec",
      "metadata": {
        "id": "487f47ec",
        "colab": {
          "base_uri": "https://localhost:8080/"
        },
        "outputId": "5f44630c-6228-41bb-f068-bc479ac8501d"
      },
      "outputs": [
        {
          "output_type": "stream",
          "name": "stdout",
          "text": [
            "[9.2497954  1.0409652  5.30746407 4.59148174 1.35864192 2.27136793\n",
            " 7.69512422 5.93567532 1.4386645  1.60753162]\n"
          ]
        }
      ],
      "source": [
        "def distance(P0, P1, p):\n",
        "    T = P1 - P0\n",
        "    L = (T**2).sum(axis=1)\n",
        "    U = -((P0[:,0]-p[...,0])*T[:,0] + (P0[:,1]-p[...,1])*T[:,1]) / L\n",
        "    U = U.reshape(len(U),1)\n",
        "    D = P0 + U*T - p\n",
        "    return np.sqrt((D**2).sum(axis=1))\n",
        "\n",
        "P0 = np.random.uniform(-10,10,(10,2))\n",
        "P1 = np.random.uniform(-10,10,(10,2))\n",
        "p  = np.random.uniform(-10,10,( 1,2))\n",
        "print(distance(P0, P1, p))"
      ]
    },
    {
      "cell_type": "markdown",
      "id": "3df99948",
      "metadata": {
        "id": "3df99948"
      },
      "source": [
        "#### 79. Consider 2 sets of points P0,P1 describing lines (2d) and a set of points P, how to compute distance from each point j (P[j]) to each line i (P0[i],P1[i])? (★★★)"
      ]
    },
    {
      "cell_type": "code",
      "execution_count": null,
      "id": "dc2df37b",
      "metadata": {
        "id": "dc2df37b",
        "colab": {
          "base_uri": "https://localhost:8080/"
        },
        "outputId": "654d6acc-1416-4da0-e4b6-d85ef562328c"
      },
      "outputs": [
        {
          "output_type": "stream",
          "name": "stdout",
          "text": [
            "[[ 8.17509217 11.41329274  4.10077718  6.22084443  3.96986076 12.3836166\n",
            "  12.5329227   9.93684029 14.61379364  5.19176504]\n",
            " [ 1.03724553  4.31862299  2.84237664  0.94552642  1.65406745  8.25635982\n",
            "   8.9176529   3.0526054   9.68054992 11.27122024]\n",
            " [ 3.32683548  2.15223761  6.01293987  6.85998561 10.5092735   0.96874254\n",
            "   0.27250149  4.21285655  0.54847208 11.73766814]\n",
            " [ 5.18555885  2.2978846   8.67817836  7.50317028  7.652337    3.30306551\n",
            "   4.35448085  3.56713476  4.14304715 15.91403188]\n",
            " [ 7.09436018  6.98761054  4.73766892  2.72735684  5.39201456  1.22951612\n",
            "   1.01944173  4.09246163  4.25803234  1.00525726]\n",
            " [ 0.20170802  3.51378305  3.66804051  1.76597511  2.24727391  7.85379656\n",
            "   8.57836436  2.28349713  9.17659787 12.02194058]\n",
            " [ 4.33276649  7.96709597  0.17543212  2.63112686  1.88934565 11.33338009\n",
            "  11.80689991  6.76531043 13.02729109  9.03255917]\n",
            " [ 6.44903737  4.72363103  4.92723223  0.9134554  10.02060014  4.24113844\n",
            "   4.61644168  1.14524656  0.83990914  0.91756174]\n",
            " [ 2.46964829  5.55278435  1.35355438  0.35636735  1.00686199  8.48902221\n",
            "   9.02285798  4.16248651 10.12701633  9.76233572]\n",
            " [ 0.19443861  0.24437252  2.03194778  4.11753606 10.53660129  2.39904768\n",
            "   2.09921676  2.39760619  0.18121852  7.05722092]]\n"
          ]
        }
      ],
      "source": [
        "P0 = np.random.uniform(-10, 10, (10,2))\n",
        "P1 = np.random.uniform(-10,10,(10,2))\n",
        "p = np.random.uniform(-10, 10, (10,2))\n",
        "print(np.array([distance(P0,P1,p_i) for p_i in p]))"
      ]
    },
    {
      "cell_type": "markdown",
      "id": "11e972c2",
      "metadata": {
        "id": "11e972c2"
      },
      "source": [
        "#### 80. Consider an arbitrary array, write a function that extract a subpart with a fixed shape and centered on a given element (pad with a `fill` value when necessary) (★★★)"
      ]
    },
    {
      "cell_type": "code",
      "execution_count": null,
      "id": "0291247f",
      "metadata": {
        "id": "0291247f",
        "colab": {
          "base_uri": "https://localhost:8080/"
        },
        "outputId": "ae2a3bc3-c2fa-4194-dc74-c4ece511eb9c"
      },
      "outputs": [
        {
          "output_type": "stream",
          "name": "stdout",
          "text": [
            "[[5 9 3 5 3 5 3 7 4 9]\n",
            " [5 2 4 4 0 1 9 6 1 1]\n",
            " [6 4 7 2 9 8 0 1 4 6]\n",
            " [0 8 3 8 3 6 3 9 3 0]\n",
            " [5 0 1 9 4 2 8 6 1 9]\n",
            " [2 7 5 6 0 8 2 9 1 4]\n",
            " [6 7 1 6 8 8 1 1 0 3]\n",
            " [6 2 2 0 7 5 0 5 2 3]\n",
            " [3 2 4 4 5 3 2 9 9 5]\n",
            " [9 4 3 2 3 7 5 7 0 4]]\n",
            "[[0 0 0 0 0]\n",
            " [0 0 0 0 0]\n",
            " [0 0 0 0 0]\n",
            " [0 0 0 0 0]\n",
            " [0 0 0 0 0]]\n"
          ]
        }
      ],
      "source": [
        "Z = np.random.randint(0,10,(10,10))\n",
        "shape = (5,5)\n",
        "fill  = 0\n",
        "position = (1,1)\n",
        "\n",
        "R = np.ones(shape, dtype=Z.dtype)*fill\n",
        "P  = np.array(list(position)).astype(int)\n",
        "Rs = np.array(list(R.shape)).astype(int)\n",
        "Zs = np.array(list(Z.shape)).astype(int)\n",
        "\n",
        "R_start = np.zeros((len(shape),)).astype(int)\n",
        "R_stop  = np.array(list(shape)).astype(int)\n",
        "Z_start = (P-Rs//2)\n",
        "Z_stop  = (P+Rs//2)+Rs%2\n",
        "\n",
        "R_start = (R_start - np.minimum(Z_start,0)).tolist()\n",
        "Z_start = (np.maximum(Z_start,0)).tolist()\n",
        "R_stop = np.maximum(R_start, (R_stop - np.maximum(Z_stop-Zs,0))).tolist()\n",
        "Z_stop = (np.minimum(Z_stop,Zs)).tolist()\n",
        "\n",
        "r = [slice(start,stop) for start,stop in zip(R_start,R_stop)]\n",
        "z = [slice(start,stop) for start,stop in zip(Z_start,Z_stop)]\n",
        "#R[r] = Z[z]\n",
        "print(Z)\n",
        "print(R)"
      ]
    },
    {
      "cell_type": "markdown",
      "id": "93cfeab3",
      "metadata": {
        "id": "93cfeab3"
      },
      "source": [
        "#### 81. Consider an array Z = [1,2,3,4,5,6,7,8,9,10,11,12,13,14], how to generate an array R = [[1,2,3,4], [2,3,4,5], [3,4,5,6], ..., [11,12,13,14]]? (★★★)"
      ]
    },
    {
      "cell_type": "code",
      "execution_count": null,
      "id": "360de791",
      "metadata": {
        "id": "360de791",
        "colab": {
          "base_uri": "https://localhost:8080/"
        },
        "outputId": "12769a56-04ed-4550-e287-31906921df07"
      },
      "outputs": [
        {
          "output_type": "stream",
          "name": "stdout",
          "text": [
            "[[ 1  2  3  4]\n",
            " [ 2  3  4  5]\n",
            " [ 3  4  5  6]\n",
            " [ 4  5  6  7]\n",
            " [ 5  6  7  8]\n",
            " [ 6  7  8  9]\n",
            " [ 7  8  9 10]\n",
            " [ 8  9 10 11]\n",
            " [ 9 10 11 12]\n",
            " [10 11 12 13]\n",
            " [11 12 13 14]]\n"
          ]
        }
      ],
      "source": [
        "Z = np.arange(1,15,dtype=np.uint32)\n",
        "R = stride_tricks.as_strided(Z,(11,4),(4,4))\n",
        "print(R)"
      ]
    },
    {
      "cell_type": "markdown",
      "id": "4c15ceff",
      "metadata": {
        "id": "4c15ceff"
      },
      "source": [
        "#### 82. Compute a matrix rank (★★★)"
      ]
    },
    {
      "cell_type": "code",
      "execution_count": null,
      "id": "9a4272d2",
      "metadata": {
        "id": "9a4272d2",
        "colab": {
          "base_uri": "https://localhost:8080/"
        },
        "outputId": "65f72832-c8d5-478e-dc27-f358865a44e5"
      },
      "outputs": [
        {
          "output_type": "stream",
          "name": "stdout",
          "text": [
            "10\n"
          ]
        }
      ],
      "source": [
        "matrix = np.random.uniform(0,1,(10,10))\n",
        "U, S, V = np.linalg.svd(matrix) # Singular Value Decomposition\n",
        "rank = np.sum(S > 1e-10)\n",
        "print(rank)"
      ]
    },
    {
      "cell_type": "markdown",
      "id": "1171cb84",
      "metadata": {
        "id": "1171cb84"
      },
      "source": [
        "#### 83. How to find the most frequent value in an array?"
      ]
    },
    {
      "cell_type": "code",
      "execution_count": null,
      "id": "33e951c8",
      "metadata": {
        "id": "33e951c8",
        "colab": {
          "base_uri": "https://localhost:8080/"
        },
        "outputId": "b3849391-7ac7-447d-9f9e-5ac1bc373664"
      },
      "outputs": [
        {
          "output_type": "stream",
          "name": "stdout",
          "text": [
            "The array is: [7 8 7 4 9 4 7 0 6 6 8 1 8 7 3 8 1 6 3 7 5 6 3 3 7 2 3 2 8 6 8 8 0 1 1 8 2\n",
            " 2 1 9 2 6 0 7 5 1 8 4 1 7]\n",
            "The most frequent value is: 8\n"
          ]
        }
      ],
      "source": [
        "arr = np.random.randint(0,10,50)\n",
        "print(f\"The array is: {arr}\")\n",
        "print(f\"The most frequent value is: {np.bincount(arr).argmax()}\")"
      ]
    },
    {
      "cell_type": "markdown",
      "id": "04f472aa",
      "metadata": {
        "id": "04f472aa"
      },
      "source": [
        "#### 84. Extract all the contiguous 3x3 blocks from a random 10x10 matrix (★★★)"
      ]
    },
    {
      "cell_type": "code",
      "execution_count": null,
      "id": "7aade14a",
      "metadata": {
        "id": "7aade14a",
        "colab": {
          "base_uri": "https://localhost:8080/"
        },
        "outputId": "6c179b21-bcc8-42fa-9219-72ce127b6e94"
      },
      "outputs": [
        {
          "output_type": "stream",
          "name": "stdout",
          "text": [
            "[[[[1 3 0]\n",
            "   [3 4 3]\n",
            "   [0 3 0]]\n",
            "\n",
            "  [[3 0 2]\n",
            "   [4 3 4]\n",
            "   [3 0 1]]\n",
            "\n",
            "  [[0 2 1]\n",
            "   [3 4 0]\n",
            "   [0 1 1]]\n",
            "\n",
            "  [[2 1 4]\n",
            "   [4 0 1]\n",
            "   [1 1 0]]\n",
            "\n",
            "  [[1 4 2]\n",
            "   [0 1 1]\n",
            "   [1 0 4]]\n",
            "\n",
            "  [[4 2 4]\n",
            "   [1 1 0]\n",
            "   [0 4 1]]\n",
            "\n",
            "  [[2 4 3]\n",
            "   [1 0 3]\n",
            "   [4 1 0]]\n",
            "\n",
            "  [[4 3 3]\n",
            "   [0 3 2]\n",
            "   [1 0 1]]]\n",
            "\n",
            "\n",
            " [[[3 4 3]\n",
            "   [0 3 0]\n",
            "   [4 3 3]]\n",
            "\n",
            "  [[4 3 4]\n",
            "   [3 0 1]\n",
            "   [3 3 3]]\n",
            "\n",
            "  [[3 4 0]\n",
            "   [0 1 1]\n",
            "   [3 3 1]]\n",
            "\n",
            "  [[4 0 1]\n",
            "   [1 1 0]\n",
            "   [3 1 1]]\n",
            "\n",
            "  [[0 1 1]\n",
            "   [1 0 4]\n",
            "   [1 1 0]]\n",
            "\n",
            "  [[1 1 0]\n",
            "   [0 4 1]\n",
            "   [1 0 1]]\n",
            "\n",
            "  [[1 0 3]\n",
            "   [4 1 0]\n",
            "   [0 1 3]]\n",
            "\n",
            "  [[0 3 2]\n",
            "   [1 0 1]\n",
            "   [1 3 4]]]\n",
            "\n",
            "\n",
            " [[[0 3 0]\n",
            "   [4 3 3]\n",
            "   [0 0 1]]\n",
            "\n",
            "  [[3 0 1]\n",
            "   [3 3 3]\n",
            "   [0 1 0]]\n",
            "\n",
            "  [[0 1 1]\n",
            "   [3 3 1]\n",
            "   [1 0 4]]\n",
            "\n",
            "  [[1 1 0]\n",
            "   [3 1 1]\n",
            "   [0 4 0]]\n",
            "\n",
            "  [[1 0 4]\n",
            "   [1 1 0]\n",
            "   [4 0 4]]\n",
            "\n",
            "  [[0 4 1]\n",
            "   [1 0 1]\n",
            "   [0 4 0]]\n",
            "\n",
            "  [[4 1 0]\n",
            "   [0 1 3]\n",
            "   [4 0 0]]\n",
            "\n",
            "  [[1 0 1]\n",
            "   [1 3 4]\n",
            "   [0 0 1]]]\n",
            "\n",
            "\n",
            " [[[4 3 3]\n",
            "   [0 0 1]\n",
            "   [1 1 2]]\n",
            "\n",
            "  [[3 3 3]\n",
            "   [0 1 0]\n",
            "   [1 2 0]]\n",
            "\n",
            "  [[3 3 1]\n",
            "   [1 0 4]\n",
            "   [2 0 2]]\n",
            "\n",
            "  [[3 1 1]\n",
            "   [0 4 0]\n",
            "   [0 2 3]]\n",
            "\n",
            "  [[1 1 0]\n",
            "   [4 0 4]\n",
            "   [2 3 3]]\n",
            "\n",
            "  [[1 0 1]\n",
            "   [0 4 0]\n",
            "   [3 3 2]]\n",
            "\n",
            "  [[0 1 3]\n",
            "   [4 0 0]\n",
            "   [3 2 3]]\n",
            "\n",
            "  [[1 3 4]\n",
            "   [0 0 1]\n",
            "   [2 3 2]]]\n",
            "\n",
            "\n",
            " [[[0 0 1]\n",
            "   [1 1 2]\n",
            "   [1 3 2]]\n",
            "\n",
            "  [[0 1 0]\n",
            "   [1 2 0]\n",
            "   [3 2 3]]\n",
            "\n",
            "  [[1 0 4]\n",
            "   [2 0 2]\n",
            "   [2 3 3]]\n",
            "\n",
            "  [[0 4 0]\n",
            "   [0 2 3]\n",
            "   [3 3 2]]\n",
            "\n",
            "  [[4 0 4]\n",
            "   [2 3 3]\n",
            "   [3 2 0]]\n",
            "\n",
            "  [[0 4 0]\n",
            "   [3 3 2]\n",
            "   [2 0 0]]\n",
            "\n",
            "  [[4 0 0]\n",
            "   [3 2 3]\n",
            "   [0 0 2]]\n",
            "\n",
            "  [[0 0 1]\n",
            "   [2 3 2]\n",
            "   [0 2 2]]]\n",
            "\n",
            "\n",
            " [[[1 1 2]\n",
            "   [1 3 2]\n",
            "   [1 0 0]]\n",
            "\n",
            "  [[1 2 0]\n",
            "   [3 2 3]\n",
            "   [0 0 3]]\n",
            "\n",
            "  [[2 0 2]\n",
            "   [2 3 3]\n",
            "   [0 3 4]]\n",
            "\n",
            "  [[0 2 3]\n",
            "   [3 3 2]\n",
            "   [3 4 3]]\n",
            "\n",
            "  [[2 3 3]\n",
            "   [3 2 0]\n",
            "   [4 3 0]]\n",
            "\n",
            "  [[3 3 2]\n",
            "   [2 0 0]\n",
            "   [3 0 0]]\n",
            "\n",
            "  [[3 2 3]\n",
            "   [0 0 2]\n",
            "   [0 0 4]]\n",
            "\n",
            "  [[2 3 2]\n",
            "   [0 2 2]\n",
            "   [0 4 1]]]\n",
            "\n",
            "\n",
            " [[[1 3 2]\n",
            "   [1 0 0]\n",
            "   [2 4 3]]\n",
            "\n",
            "  [[3 2 3]\n",
            "   [0 0 3]\n",
            "   [4 3 2]]\n",
            "\n",
            "  [[2 3 3]\n",
            "   [0 3 4]\n",
            "   [3 2 3]]\n",
            "\n",
            "  [[3 3 2]\n",
            "   [3 4 3]\n",
            "   [2 3 3]]\n",
            "\n",
            "  [[3 2 0]\n",
            "   [4 3 0]\n",
            "   [3 3 1]]\n",
            "\n",
            "  [[2 0 0]\n",
            "   [3 0 0]\n",
            "   [3 1 2]]\n",
            "\n",
            "  [[0 0 2]\n",
            "   [0 0 4]\n",
            "   [1 2 4]]\n",
            "\n",
            "  [[0 2 2]\n",
            "   [0 4 1]\n",
            "   [2 4 3]]]\n",
            "\n",
            "\n",
            " [[[1 0 0]\n",
            "   [2 4 3]\n",
            "   [0 2 0]]\n",
            "\n",
            "  [[0 0 3]\n",
            "   [4 3 2]\n",
            "   [2 0 1]]\n",
            "\n",
            "  [[0 3 4]\n",
            "   [3 2 3]\n",
            "   [0 1 2]]\n",
            "\n",
            "  [[3 4 3]\n",
            "   [2 3 3]\n",
            "   [1 2 0]]\n",
            "\n",
            "  [[4 3 0]\n",
            "   [3 3 1]\n",
            "   [2 0 3]]\n",
            "\n",
            "  [[3 0 0]\n",
            "   [3 1 2]\n",
            "   [0 3 3]]\n",
            "\n",
            "  [[0 0 4]\n",
            "   [1 2 4]\n",
            "   [3 3 0]]\n",
            "\n",
            "  [[0 4 1]\n",
            "   [2 4 3]\n",
            "   [3 0 2]]]]\n"
          ]
        }
      ],
      "source": [
        "arr = np.random.randint(0,5,(10,10))\n",
        "n = 3\n",
        "i = 1 + (arr.shape[0]-3)\n",
        "j = 1 + (arr.shape[1]-3)\n",
        "C = stride_tricks.as_strided(arr, shape=(i, j, n, n), strides=arr.strides + arr.strides)\n",
        "print(C)"
      ]
    },
    {
      "cell_type": "markdown",
      "id": "52836346",
      "metadata": {
        "id": "52836346"
      },
      "source": [
        "#### 85. Create a 2D array subclass such that Z[i,j] == Z[j,i] (★★★)"
      ]
    },
    {
      "cell_type": "code",
      "execution_count": null,
      "id": "4df70318",
      "metadata": {
        "id": "4df70318",
        "colab": {
          "base_uri": "https://localhost:8080/"
        },
        "outputId": "c488a79b-22b5-47ee-8a91-b106bdbd5aea"
      },
      "outputs": [
        {
          "output_type": "stream",
          "name": "stdout",
          "text": [
            "[[ 2  8 13 10 14]\n",
            " [ 8  2 10 15  6]\n",
            " [13 10  8 42  5]\n",
            " [10 15 42  4  9]\n",
            " [14  6  5  9  7]]\n"
          ]
        }
      ],
      "source": [
        "class Symetric(np.ndarray):\n",
        "    def __setitem__(self, index, value):\n",
        "        i,j = index\n",
        "        super(Symetric, self).__setitem__((i,j), value)\n",
        "        super(Symetric, self).__setitem__((j,i), value)\n",
        "\n",
        "def symetric(Z):\n",
        "    return np.asarray(Z + Z.T - np.diag(Z.diagonal())).view(Symetric)\n",
        "\n",
        "S = symetric(np.random.randint(0,10,(5,5)))\n",
        "S[2,3] = 42\n",
        "print(S)"
      ]
    },
    {
      "cell_type": "markdown",
      "id": "78c43ee5",
      "metadata": {
        "id": "78c43ee5"
      },
      "source": [
        "#### 86. Consider a set of p matrices with shape (n,n) and a set of p vectors with shape (n,1). How to compute the sum of of the p matrix products at once? (result has shape (n,1)) (★★★)"
      ]
    },
    {
      "cell_type": "code",
      "execution_count": null,
      "id": "32fd2c3b",
      "metadata": {
        "id": "32fd2c3b",
        "colab": {
          "base_uri": "https://localhost:8080/"
        },
        "outputId": "8ba2cbcc-25e9-436e-d60c-064baf4d0406"
      },
      "outputs": [
        {
          "output_type": "stream",
          "name": "stdout",
          "text": [
            "[[200.]\n",
            " [200.]\n",
            " [200.]\n",
            " [200.]\n",
            " [200.]\n",
            " [200.]\n",
            " [200.]\n",
            " [200.]\n",
            " [200.]\n",
            " [200.]\n",
            " [200.]\n",
            " [200.]\n",
            " [200.]\n",
            " [200.]\n",
            " [200.]\n",
            " [200.]\n",
            " [200.]\n",
            " [200.]\n",
            " [200.]\n",
            " [200.]]\n"
          ]
        }
      ],
      "source": [
        "p, n = 10, 20\n",
        "M = np.ones((p,n,n))\n",
        "V = np.ones((p,n,1))\n",
        "S = np.tensordot(M, V, axes=[[0, 2], [0, 1]])\n",
        "print(S)"
      ]
    },
    {
      "cell_type": "markdown",
      "id": "158f9945",
      "metadata": {
        "id": "158f9945"
      },
      "source": [
        "#### 87. Consider a 16x16 array, how to get the block-sum (block size is 4x4)? (★★★)"
      ]
    },
    {
      "cell_type": "code",
      "execution_count": null,
      "id": "5a9b808f",
      "metadata": {
        "id": "5a9b808f",
        "colab": {
          "base_uri": "https://localhost:8080/"
        },
        "outputId": "29012592-597e-41b3-e84e-f4afc6ecabf4"
      },
      "outputs": [
        {
          "output_type": "stream",
          "name": "stdout",
          "text": [
            "[[16. 16. 16. 16.]\n",
            " [16. 16. 16. 16.]\n",
            " [16. 16. 16. 16.]\n",
            " [16. 16. 16. 16.]]\n"
          ]
        }
      ],
      "source": [
        "Z = np.ones((16,16))\n",
        "k = 4\n",
        "S = np.add.reduceat(np.add.reduceat(Z, np.arange(0, Z.shape[0], k), axis=0),\n",
        "                                       np.arange(0, Z.shape[1], k), axis=1)\n",
        "print(S)"
      ]
    },
    {
      "cell_type": "markdown",
      "id": "2e0ad860",
      "metadata": {
        "id": "2e0ad860"
      },
      "source": [
        "#### 88. How to implement the Game of Life using numpy arrays? (★★★)"
      ]
    },
    {
      "cell_type": "code",
      "execution_count": null,
      "id": "574acff5",
      "metadata": {
        "id": "574acff5",
        "colab": {
          "base_uri": "https://localhost:8080/"
        },
        "outputId": "2118a629-f800-4b24-9b4c-ed216f3cf1d6"
      },
      "outputs": [
        {
          "output_type": "stream",
          "name": "stdout",
          "text": [
            "[[0 0 0 ... 0 0 0]\n",
            " [0 0 0 ... 0 0 0]\n",
            " [0 0 0 ... 0 0 0]\n",
            " ...\n",
            " [0 1 1 ... 0 0 0]\n",
            " [0 0 0 ... 0 0 0]\n",
            " [0 0 0 ... 0 0 0]]\n"
          ]
        }
      ],
      "source": [
        "def iterate(Z):\n",
        "    # Count neighbours\n",
        "    N = (Z[0:-2,0:-2] + Z[0:-2,1:-1] + Z[0:-2,2:] +\n",
        "         Z[1:-1,0:-2]                + Z[1:-1,2:] +\n",
        "         Z[2:  ,0:-2] + Z[2:  ,1:-1] + Z[2:  ,2:])\n",
        "\n",
        "    # Apply rules\n",
        "    birth = (N==3) & (Z[1:-1,1:-1]==0)\n",
        "    survive = ((N==2) | (N==3)) & (Z[1:-1,1:-1]==1)\n",
        "    Z[...] = 0\n",
        "    Z[1:-1,1:-1][birth | survive] = 1\n",
        "    return Z\n",
        "\n",
        "Z = np.random.randint(0,2,(50,50))\n",
        "for i in range(100): Z = iterate(Z)\n",
        "print(Z)"
      ]
    },
    {
      "cell_type": "markdown",
      "id": "69a892fa",
      "metadata": {
        "id": "69a892fa"
      },
      "source": [
        "#### 89. How to get the n largest values of an array (★★★)"
      ]
    },
    {
      "cell_type": "code",
      "execution_count": null,
      "id": "21b2bd48",
      "metadata": {
        "id": "21b2bd48",
        "colab": {
          "base_uri": "https://localhost:8080/"
        },
        "outputId": "a3c82dab-86b5-43c5-e129-f4c78de7b344"
      },
      "outputs": [
        {
          "output_type": "stream",
          "name": "stdout",
          "text": [
            "[9995 9996 9997 9998 9999]\n"
          ]
        }
      ],
      "source": [
        "Z = np.arange(10000)\n",
        "np.random.shuffle(Z)\n",
        "n = 5\n",
        "\n",
        "print (Z[np.argsort(Z)[-n:]])"
      ]
    },
    {
      "cell_type": "markdown",
      "id": "b55ccacc",
      "metadata": {
        "id": "b55ccacc"
      },
      "source": [
        "#### 90. Given an arbitrary number of vectors, build the cartesian product (every combinations of every item) (★★★)"
      ]
    },
    {
      "cell_type": "code",
      "execution_count": null,
      "id": "4b645da4",
      "metadata": {
        "id": "4b645da4",
        "colab": {
          "base_uri": "https://localhost:8080/"
        },
        "outputId": "0444c25b-9d77-4871-88a0-c09ae67f1879"
      },
      "outputs": [
        {
          "output_type": "stream",
          "name": "stdout",
          "text": [
            "[[1 4 6]\n",
            " [1 4 7]\n",
            " [1 5 6]\n",
            " [1 5 7]\n",
            " [2 4 6]\n",
            " [2 4 7]\n",
            " [2 5 6]\n",
            " [2 5 7]\n",
            " [3 4 6]\n",
            " [3 4 7]\n",
            " [3 5 6]\n",
            " [3 5 7]]\n"
          ]
        }
      ],
      "source": [
        "def cartesian(arrays):\n",
        "    arrays = [np.asarray(a) for a in arrays]\n",
        "    shape = (len(x) for x in arrays)\n",
        "\n",
        "    ix = np.indices(shape, dtype=int)\n",
        "    ix = ix.reshape(len(arrays), -1).T\n",
        "\n",
        "    for n, arr in enumerate(arrays):\n",
        "        ix[:, n] = arrays[n][ix[:, n]]\n",
        "\n",
        "    return ix\n",
        "\n",
        "print (cartesian(([1, 2, 3], [4, 5], [6, 7])))"
      ]
    },
    {
      "cell_type": "markdown",
      "id": "89187a23",
      "metadata": {
        "id": "89187a23"
      },
      "source": [
        "#### 91. How to create a record array from a regular array? (★★★)"
      ]
    },
    {
      "cell_type": "code",
      "execution_count": null,
      "id": "da94c71a",
      "metadata": {
        "id": "da94c71a",
        "colab": {
          "base_uri": "https://localhost:8080/"
        },
        "outputId": "e9bca681-4c05-42fc-808b-da167a45b0f4"
      },
      "outputs": [
        {
          "output_type": "stream",
          "name": "stdout",
          "text": [
            "[(b'Hello', 2.5, 3) (b'World', 3.6, 2)]\n"
          ]
        }
      ],
      "source": [
        "Z = np.array([(\"Hello\", 2.5, 3),\n",
        "              (\"World\", 3.6, 2)])\n",
        "R = np.core.records.fromarrays(Z.T,\n",
        "                               names='col1, col2, col3',\n",
        "                               formats = 'S8, f8, i8')\n",
        "print(R)"
      ]
    },
    {
      "cell_type": "markdown",
      "id": "aa70d4ca",
      "metadata": {
        "id": "aa70d4ca"
      },
      "source": [
        "#### 92. Consider a large vector Z, compute Z to the power of 3 using 3 different methods (★★★)"
      ]
    },
    {
      "cell_type": "code",
      "source": [
        "x = np.random.rand(5e7)\n",
        "\n",
        "%timeit np.power(x,3)\n",
        "%timeit x*x*x\n",
        "%timeit np.einsum('i,i,i->i',x,x,x)"
      ],
      "metadata": {
        "id": "9zUgSPGaJJVm"
      },
      "id": "9zUgSPGaJJVm",
      "execution_count": null,
      "outputs": []
    },
    {
      "cell_type": "markdown",
      "id": "5f79dd00",
      "metadata": {
        "id": "5f79dd00"
      },
      "source": [
        "#### 93. Consider two arrays A and B of shape (8,3) and (2,2). How to find rows of A that contain elements of each row of B regardless of the order of the elements in B? (★★★)"
      ]
    },
    {
      "cell_type": "code",
      "execution_count": null,
      "id": "20c105b2",
      "metadata": {
        "id": "20c105b2",
        "colab": {
          "base_uri": "https://localhost:8080/"
        },
        "outputId": "6cdb4547-c8d4-4723-9025-90cf5a5f130b"
      },
      "outputs": [
        {
          "output_type": "stream",
          "name": "stdout",
          "text": [
            "[1 2 3 4 5 6]\n"
          ]
        }
      ],
      "source": [
        "A = np.random.randint(0,5,(8,3))\n",
        "B = np.random.randint(0,5,(2,2))\n",
        "\n",
        "C = (A[..., np.newaxis, np.newaxis] == B)\n",
        "rows = np.where(C.any((3,1)).all(1))[0]\n",
        "print(rows)"
      ]
    },
    {
      "cell_type": "markdown",
      "id": "a80570cd",
      "metadata": {
        "id": "a80570cd"
      },
      "source": [
        "#### 94. Considering a 10x3 matrix, extract rows with unequal values (e.g. [2,2,3]) (★★★)"
      ]
    },
    {
      "cell_type": "code",
      "execution_count": null,
      "id": "84db8de1",
      "metadata": {
        "id": "84db8de1",
        "colab": {
          "base_uri": "https://localhost:8080/"
        },
        "outputId": "3ea84768-1d13-4cec-ceab-5d9f81edcd81"
      },
      "outputs": [
        {
          "output_type": "stream",
          "name": "stdout",
          "text": [
            "[[4 1 1]\n",
            " [2 1 4]\n",
            " [3 2 1]\n",
            " [0 4 1]\n",
            " [1 1 4]\n",
            " [0 1 1]\n",
            " [4 1 3]\n",
            " [0 0 4]\n",
            " [0 0 3]\n",
            " [4 3 0]]\n",
            "[[4 1 1]\n",
            " [2 1 4]\n",
            " [3 2 1]\n",
            " [0 4 1]\n",
            " [1 1 4]\n",
            " [0 1 1]\n",
            " [4 1 3]\n",
            " [0 0 4]\n",
            " [0 0 3]\n",
            " [4 3 0]]\n",
            "[[4 1 1]\n",
            " [2 1 4]\n",
            " [3 2 1]\n",
            " [0 4 1]\n",
            " [1 1 4]\n",
            " [0 1 1]\n",
            " [4 1 3]\n",
            " [0 0 4]\n",
            " [0 0 3]\n",
            " [4 3 0]]\n"
          ]
        }
      ],
      "source": [
        "Z = np.random.randint(0,5,(10,3))\n",
        "print(Z)\n",
        "# solution for arrays of all dtypes (including string arrays and record arrays)\n",
        "E = np.all(Z[:,1:] == Z[:,:-1], axis=1)\n",
        "U = Z[~E]\n",
        "print(U)\n",
        "# soluiton for numerical arrays only, will work for any number of columns in Z\n",
        "U = Z[Z.max(axis=1) != Z.min(axis=1),:]\n",
        "print(U)"
      ]
    },
    {
      "cell_type": "markdown",
      "id": "ba154f43",
      "metadata": {
        "id": "ba154f43"
      },
      "source": [
        "#### 95. Convert a vector of ints into a matrix binary representation (★★★)"
      ]
    },
    {
      "cell_type": "code",
      "execution_count": null,
      "id": "cfa96e1b",
      "metadata": {
        "id": "cfa96e1b",
        "colab": {
          "base_uri": "https://localhost:8080/"
        },
        "outputId": "f14461d5-df59-409b-c394-652ba1183d13"
      },
      "outputs": [
        {
          "output_type": "stream",
          "name": "stdout",
          "text": [
            "[[0 0 0 0 0 0 0 0]\n",
            " [0 0 0 0 0 0 0 1]\n",
            " [0 0 0 0 0 0 1 0]\n",
            " [0 0 0 0 0 0 1 1]\n",
            " [0 0 0 0 1 1 1 1]\n",
            " [0 0 0 1 0 0 0 0]\n",
            " [0 0 1 0 0 0 0 0]\n",
            " [0 1 0 0 0 0 0 0]\n",
            " [1 0 0 0 0 0 0 0]]\n",
            "[[0 0 0 0 0 0 0 0]\n",
            " [0 0 0 0 0 0 0 1]\n",
            " [0 0 0 0 0 0 1 0]\n",
            " [0 0 0 0 0 0 1 1]\n",
            " [0 0 0 0 1 1 1 1]\n",
            " [0 0 0 1 0 0 0 0]\n",
            " [0 0 1 0 0 0 0 0]\n",
            " [0 1 0 0 0 0 0 0]\n",
            " [1 0 0 0 0 0 0 0]]\n"
          ]
        }
      ],
      "source": [
        "I = np.array([0, 1, 2, 3, 15, 16, 32, 64, 128])\n",
        "B = ((I.reshape(-1,1) & (2**np.arange(8))) != 0).astype(int)\n",
        "print(B[:,::-1])\n",
        "\n",
        "# Author: Daniel T. McDonald\n",
        "\n",
        "I = np.array([0, 1, 2, 3, 15, 16, 32, 64, 128], dtype=np.uint8)\n",
        "print(np.unpackbits(I[:, np.newaxis], axis=1))"
      ]
    },
    {
      "cell_type": "markdown",
      "id": "420e2343",
      "metadata": {
        "id": "420e2343"
      },
      "source": [
        "#### 96. Given a two dimensional array, how to extract unique rows? (★★★)"
      ]
    },
    {
      "cell_type": "code",
      "execution_count": null,
      "id": "4680dfd0",
      "metadata": {
        "id": "4680dfd0",
        "colab": {
          "base_uri": "https://localhost:8080/"
        },
        "outputId": "1d9ca40f-c2da-4eff-d433-29a8f52e63a0"
      },
      "outputs": [
        {
          "output_type": "stream",
          "name": "stdout",
          "text": [
            "[[0 0 1]\n",
            " [0 1 1]\n",
            " [1 0 0]\n",
            " [1 0 1]\n",
            " [1 1 1]]\n"
          ]
        }
      ],
      "source": [
        "Z = np.random.randint(0,2,(6,3))\n",
        "T = np.ascontiguousarray(Z).view(np.dtype((np.void, Z.dtype.itemsize * Z.shape[1])))\n",
        "_, idx = np.unique(T, return_index=True)\n",
        "uZ = Z[idx]\n",
        "print(uZ)"
      ]
    },
    {
      "cell_type": "markdown",
      "id": "89fef2f3",
      "metadata": {
        "id": "89fef2f3"
      },
      "source": [
        "#### 97. Considering 2 vectors A & B, write the einsum equivalent of inner, outer, sum, and mul function (★★★)"
      ]
    },
    {
      "cell_type": "code",
      "execution_count": null,
      "id": "bb9c14b2",
      "metadata": {
        "id": "bb9c14b2",
        "colab": {
          "base_uri": "https://localhost:8080/"
        },
        "outputId": "0c5486c0-c17b-411b-ecf7-ebc60ae22bc0"
      },
      "outputs": [
        {
          "output_type": "execute_result",
          "data": {
            "text/plain": [
              "array([[6.88023266e-01, 3.03370404e-01, 6.22099834e-01, 5.27741005e-01,\n",
              "        6.89633738e-01, 2.41716905e-01, 6.47726240e-01, 7.43788395e-01,\n",
              "        3.78895387e-01, 5.24550984e-04],\n",
              "       [2.10551706e-01, 9.28386571e-02, 1.90377546e-01, 1.61501470e-01,\n",
              "        2.11044549e-01, 7.39712001e-02, 1.98219844e-01, 2.27617179e-01,\n",
              "        1.15951122e-01, 1.60525247e-04],\n",
              "       [3.49406061e-01, 1.54063770e-01, 3.15927474e-01, 2.68008242e-01,\n",
              "        3.50223924e-01, 1.22753628e-01, 3.28941601e-01, 3.77725851e-01,\n",
              "        1.92418413e-01, 2.66388220e-04],\n",
              "       [1.73689534e-01, 7.65850034e-02, 1.57047350e-01, 1.33226729e-01,\n",
              "        1.74096093e-01, 6.10207514e-02, 1.63516664e-01, 1.87767284e-01,\n",
              "        9.56510724e-02, 1.32421417e-04],\n",
              "       [5.65394166e-01, 2.49299501e-01, 5.11220527e-01, 4.33679645e-01,\n",
              "        5.66717597e-01, 1.98634748e-01, 5.32279438e-01, 6.11220056e-01,\n",
              "        3.11363368e-01, 4.31058193e-04],\n",
              "       [8.69193296e-01, 3.83253786e-01, 7.85910930e-01, 6.66705570e-01,\n",
              "        8.71227836e-01, 3.05365710e-01, 8.18285272e-01, 9.39642477e-01,\n",
              "        4.78665979e-01, 6.62675553e-04],\n",
              "       [6.13534753e-01, 2.70526151e-01, 5.54748490e-01, 4.70605375e-01,\n",
              "        6.14970868e-01, 2.15547539e-01, 5.77600466e-01, 6.63262496e-01,\n",
              "        3.37874457e-01, 4.67760720e-04],\n",
              "       [8.98789088e-01, 3.96303471e-01, 8.12670981e-01, 6.89406710e-01,\n",
              "        9.00892904e-01, 3.15763328e-01, 8.46147660e-01, 9.71637044e-01,\n",
              "        4.94964423e-01, 6.85239473e-04],\n",
              "       [6.19817107e-01, 2.73296232e-01, 5.60428896e-01, 4.75424189e-01,\n",
              "        6.21267927e-01, 2.17754661e-01, 5.83514867e-01, 6.70054042e-01,\n",
              "        3.41334158e-01, 4.72550405e-04],\n",
              "       [8.47143963e-01, 3.73531563e-01, 7.65974269e-01, 6.49792861e-01,\n",
              "        8.49126892e-01, 2.97619320e-01, 7.97527352e-01, 9.15806018e-01,\n",
              "        4.66523380e-01, 6.45865076e-04]])"
            ]
          },
          "metadata": {},
          "execution_count": 39
        }
      ],
      "source": [
        "A = np.random.uniform(0,1,10)\n",
        "B = np.random.uniform(0,1,10)\n",
        "\n",
        "np.einsum('i->', A)\n",
        "np.einsum('i,i->i', A, B)\n",
        "np.einsum('i,i', A, B)\n",
        "np.einsum('i,j->ij', A, B)"
      ]
    },
    {
      "cell_type": "markdown",
      "id": "7ad5cc5f",
      "metadata": {
        "id": "7ad5cc5f"
      },
      "source": [
        "#### 98. Considering a path described by two vectors (X,Y), how to sample it using equidistant samples (★★★)?"
      ]
    },
    {
      "cell_type": "code",
      "execution_count": null,
      "id": "0899d1d5",
      "metadata": {
        "id": "0899d1d5"
      },
      "outputs": [],
      "source": [
        "phi = np.arange(0, 10*np.pi, 0.1)\n",
        "a = 1\n",
        "x = a*phi*np.cos(phi)\n",
        "y = a*phi*np.sin(phi)\n",
        "\n",
        "dr = (np.diff(x)**2 + np.diff(y)**2)**.5\n",
        "r = np.zeros_like(x)\n",
        "r[1:] = np.cumsum(dr)\n",
        "r_int = np.linspace(0, r.max(), 200)\n",
        "x_int = np.interp(r_int, r, x)\n",
        "y_int = np.interp(r_int, r, y)"
      ]
    },
    {
      "cell_type": "markdown",
      "id": "2b69272e",
      "metadata": {
        "id": "2b69272e"
      },
      "source": [
        "#### 99. Given an integer n and a 2D array X, select from X the rows which can be interpreted as draws from a multinomial distribution with n degrees, i.e., the rows which only contain integers and which sum to n. (★★★)"
      ]
    },
    {
      "cell_type": "code",
      "execution_count": null,
      "id": "55c8b034",
      "metadata": {
        "id": "55c8b034",
        "colab": {
          "base_uri": "https://localhost:8080/"
        },
        "outputId": "a615048a-9e23-41d0-a27d-f74b9026fa68"
      },
      "outputs": [
        {
          "output_type": "stream",
          "name": "stdout",
          "text": [
            "[[2. 0. 1. 1.]]\n"
          ]
        }
      ],
      "source": [
        "X = np.asarray([[1.0, 0.0, 3.0, 8.0],\n",
        "                [2.0, 0.0, 1.0, 1.0],\n",
        "                [1.5, 2.5, 1.0, 0.0]])\n",
        "n = 4\n",
        "M = np.logical_and.reduce(np.mod(X, 1) == 0, axis=-1)\n",
        "M &= (X.sum(axis=-1) == n)\n",
        "print(X[M])"
      ]
    },
    {
      "cell_type": "markdown",
      "id": "59ab5516",
      "metadata": {
        "id": "59ab5516"
      },
      "source": [
        "#### 100. Compute bootstrapped 95% confidence intervals for the mean of a 1D array X (i.e., resample the elements of an array with replacement N times, compute the mean of each sample, and then compute percentiles over the means). (★★★)"
      ]
    },
    {
      "cell_type": "code",
      "execution_count": null,
      "id": "450877d8",
      "metadata": {
        "id": "450877d8",
        "colab": {
          "base_uri": "https://localhost:8080/"
        },
        "outputId": "28600292-a8c1-4894-d32f-cb3ad0775f57"
      },
      "outputs": [
        {
          "output_type": "stream",
          "name": "stdout",
          "text": [
            "[-0.19876787  0.1769086 ]\n"
          ]
        }
      ],
      "source": [
        "X = np.random.randn(100)\n",
        "N = 1000\n",
        "idx = np.random.randint(0, X.size, (N, X.size))\n",
        "means = X[idx].mean(axis=1)\n",
        "confint = np.percentile(means, [2.5, 97.5])\n",
        "print(confint)"
      ]
    }
  ],
  "metadata": {
    "colab": {
      "provenance": []
    },
    "language_info": {
      "name": "python"
    },
    "kernelspec": {
      "name": "python3",
      "display_name": "Python 3"
    }
  },
  "nbformat": 4,
  "nbformat_minor": 5
}